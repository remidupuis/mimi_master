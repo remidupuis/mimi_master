{
 "cells": [
  {
   "cell_type": "markdown",
   "id": "fff43851",
   "metadata": {},
   "source": [
    "```Ecole Centrale Nantes\n",
    "Option InfoIA\n",
    "PAPY: Programmation avancée python\n",
    "TP2\n",
    "Année 2023-2024\n",
    "Auteur: Lucas Lestandi\n",
    "lucas.lestandi@ec-nantes.fr\n",
    "V1.1\n",
    "```"
   ]
  },
  {
   "cell_type": "markdown",
   "id": "b1be957b",
   "metadata": {},
   "source": [
    "# TP2 : Structuration et types de données"
   ]
  },
  {
   "cell_type": "markdown",
   "id": "b38924b4",
   "metadata": {},
   "source": [
    "**Durée 2+4h**\n",
    "\n",
    "**Objectifs:**\n",
    "- Mise en application des concepts basiques : listes, dictionnaires, fonctions\n",
    "- Programmation Orientée Objet (POO)\n",
    "    - héritage\n",
    "    - composition\n",
    "- Mise en œuvre sur problèmes plus complexes"
   ]
  },
  {
   "cell_type": "markdown",
   "id": "1a73f4fa",
   "metadata": {},
   "source": [
    "## Exercices d'application"
   ]
  },
  {
   "cell_type": "markdown",
   "id": "73de313d",
   "metadata": {},
   "source": [
    "### Listes et dictionnaires"
   ]
  },
  {
   "cell_type": "markdown",
   "id": "d66f3c2c",
   "metadata": {},
   "source": [
    "<div class=\"alert alert-info\" role=\"alert\">\n",
    "    <b> Exercice : </b> Ecrire un script qui transforme une liste de dictionnaires en dictionnaire de liste. Propser 2 méthodes a) bloucle for et b) compréhension. \n",
    "</div>\n",
    "\n",
    "Exemple de comportement:\n",
    "```python\n",
    "data =  [{'Lea': 'java', 'Bobby': 'python'},\n",
    "        {'Lea': 'php', 'Bobby': 'java'},\n",
    "        {'Lea': 'cloud', 'Bobby': 'big-data'}]\n",
    "\n",
    "#résultat\n",
    "{'Lea': ['java', 'php', 'cloud'], 'Bobby': ['python', 'java', 'big-data']}\n",
    "```"
   ]
  },
  {
   "cell_type": "code",
   "execution_count": 63,
   "id": "ae1ea6cb",
   "metadata": {},
   "outputs": [
    {
     "name": "stdout",
     "output_type": "stream",
     "text": [
      "{'Lea': ['java', 'php', 'cloud'], 'Bobby': ['python', 'java', 'big-data']}\n",
      "{'Lea': ['java', 'php', 'cloud'], 'Bobby': ['python', 'java', 'big-data']}\n"
     ]
    }
   ],
   "source": [
    "def ex1_m1(data):\n",
    "    result = {}\n",
    "    for dict in data:\n",
    "        for key in dict.keys():\n",
    "            if key in result.keys():\n",
    "                result[key].append(dict[key])\n",
    "            else:\n",
    "                result[key] = [dict[key]]\n",
    "    return result\n",
    "\n",
    "\n",
    "def ex1_m2(data):\n",
    "    return {key: [dict[key] for dict in data] for key in data[0].keys()}\n",
    "     \n",
    "\n",
    "data =  [{'Lea': 'java', 'Bobby': 'python'},\n",
    "        {'Lea': 'php', 'Bobby': 'java'},\n",
    "        {'Lea': 'cloud', 'Bobby': 'big-data'}]\n",
    "\n",
    "print(ex1_m1(data))\n",
    "print(ex1_m2(data))"
   ]
  },
  {
   "cell_type": "markdown",
   "id": "144b6683",
   "metadata": {},
   "source": [
    "<div class=\"alert alert-info\" role=\"alert\">\n",
    "    <b> Exercice : </b> Ecrire un script qui renvoie les 10 mots les plus fréquents dans un texte avec la fréquence associée. L'appliquer à Zen of python (et en profiter pour lire le texte).\n",
    "</div>\n",
    "\n",
    "\n",
    "> **Zen of python**\n",
    "```\n",
    "Beautiful is better than ugly.\n",
    "Explicit is better than implicit.\n",
    "Simple is better than complex.\n",
    "Complex is better than complicated.\n",
    "Flat is better than nested.\n",
    "Sparse is better than dense.\n",
    "Readability counts.\n",
    "Special cases aren't special enough to break the rules.\n",
    "Although practicality beats purity.\n",
    "Errors should never pass silently.\n",
    "Unless explicitly silenced.\n",
    "In the face of ambiguity, refuse the temptation to guess.\n",
    "There should be one-- and preferably only one --obvious way to do it.\n",
    "Although that way may not be obvious at first unless you're Dutch.\n",
    "Now is better than never.\n",
    "Although never is often better than *right* now.\n",
    "If the implementation is hard to explain, it's a bad idea.\n",
    "If the implementation is easy to explain, it may be a good idea.\n",
    "Namespaces are one honking great idea -- let's do more of those!\n",
    "```\n",
    "Résultat attendu\n",
    "```\n",
    "Percentage share of each word : \n",
    "is                  : 7.30%\n",
    "better              : 5.84%\n",
    "than                : 5.84%\n",
    "to                  : 3.65%\n",
    "the                 : 3.65%\n",
    "Although            : 2.19%\n",
    "be                  : 2.19%\n",
    "should              : 1.46%\n",
    "never               : 1.46%\n",
    "of                  : 1.46%\n",
    "```"
   ]
  },
  {
   "cell_type": "code",
   "execution_count": 4,
   "id": "09054587",
   "metadata": {},
   "outputs": [],
   "source": [
    "zen=\"\"\"Beautiful is better than ugly.\n",
    "Explicit is better than implicit.\n",
    "Simple is better than complex.\n",
    "Complex is better than complicated.\n",
    "Flat is better than nested.\n",
    "Sparse is better than dense.\n",
    "Readability counts.\n",
    "Special cases aren't special enough to break the rules.\n",
    "Although practicality beats purity.\n",
    "Errors should never pass silently.\n",
    "Unless explicitly silenced.\n",
    "In the face of ambiguity, refuse the temptation to guess.\n",
    "There should be one-- and preferably only one --obvious way to do it.\n",
    "Although that way may not be obvious at first unless you're Dutch.\n",
    "Now is better than never.\n",
    "Although never is often better than *right* now.\n",
    "If the implementation is hard to explain, it's a bad idea.\n",
    "If the implementation is easy to explain, it may be a good idea.\n",
    "Namespaces are one honking great idea -- let's do more of those!\"\"\""
   ]
  },
  {
   "cell_type": "markdown",
   "id": "54eb7093",
   "metadata": {},
   "source": [
    "<div class=\"alert alert-info\" role=\"alert\">\n",
    "    <b> Code Golf Challenge : </b> le but de cet exercice est de proposer la \n",
    "        solution au même problème qui utilise un nombre minimal de charactères. Les <code>import</code> sont interdit. </br>\n",
    "        Pour mesurer la longueur du script, on il suffit de le copier coller dans une chaine et d'appliquer len. On arrivera sans trop de difficulté à environs 150.\n",
    "</div>"
   ]
  },
  {
   "cell_type": "code",
   "execution_count": 73,
   "id": "b1bd97bb",
   "metadata": {},
   "outputs": [
    {
     "name": "stdout",
     "output_type": "stream",
     "text": [
      "is                  7.30%\n",
      "than                5.84%\n",
      "better              5.84%\n",
      "the                 3.65%\n",
      "to                  3.65%\n",
      "be                  2.19%\n",
      "Although            2.19%\n",
      "may                 1.46%\n",
      "a                   1.46%\n",
      "idea.               1.46%\n",
      "142\n"
     ]
    }
   ],
   "source": [
    "l = zen.split()\n",
    "z=[(w, 100*l.count(w)/len(l)) for w in set(l)]\n",
    "z.sort(key=lambda x:-x[1])\n",
    "#print(\"Percentage share of each word : \")\n",
    "for y in z[:10]:\n",
    "    print(f\"{y[0]:20s}{y[1]:.2f}%\")\n",
    "\n",
    "my_code = \"\"\"l = zen.split()\n",
    "z=[(w, 100*l.count(w)/len(l)) for w in set(l)]\n",
    "z.sort(key=lambda x:-x[1])\n",
    "for y in z[:10]:\n",
    "    print(f\"{y[0]:20s}{y[1]:.2f}%\")\"\"\"\n",
    "\n",
    "print(len(my_code))"
   ]
  },
  {
   "cell_type": "markdown",
   "id": "2656d516",
   "metadata": {},
   "source": [
    "### Fonctions"
   ]
  },
  {
   "cell_type": "markdown",
   "id": "96c12953",
   "metadata": {},
   "source": [
    "<div class=\"alert alert-info\" role=\"alert\">\n",
    "    <b> Exercice : </b>Ecrire une fonction qui calcule la moyenne d'un nombre inconnu d'arguments. \n",
    "</div>\n",
    "\n",
    "```python\n",
    ">>> result1 = avgfun(1, 2, 3)\n",
    ">>> result2 = avgfun(2, 6, 4, 8)\n",
    " \n",
    ">>> print(round(result1, 2))\n",
    ">>> print(round(result2, 2))\n",
    "2.0\n",
    "5.0\n",
    "```"
   ]
  },
  {
   "cell_type": "code",
   "execution_count": 69,
   "id": "c4dd3d8a",
   "metadata": {},
   "outputs": [
    {
     "name": "stdout",
     "output_type": "stream",
     "text": [
      "2.0\n",
      "5.0\n"
     ]
    }
   ],
   "source": [
    "def avgfun(*args):\n",
    "    return sum(args)/len(args)\n",
    "\n",
    "print(avgfun(1,2,3))\n",
    "print(avgfun(2,6,4,8))"
   ]
  },
  {
   "cell_type": "markdown",
   "id": "42eccb43",
   "metadata": {},
   "source": [
    "<div class=\"alert alert-info\" role=\"alert\">\n",
    "    <b> Exercice : </b> Ecrire une fonction <code>crier</code> qui transforme un str en majuscules, une seconde <code>chuchoter</code> qui transforme le str en minuscules et enfin une troisième <code>salutations</code> (d'ordre supérieur) qui prend en argument une fonction et l'applique à un texte pré-défini.\n",
    "</div>\n",
    "Exemple\n",
    "\n",
    "```python\n",
    ">>> saluations(crier)\n",
    "BONJOUR, JE SUIS CRÉÉ PAR UNE FONCTION PASSÉ EN ARGUMENT.\n",
    ">>> saluations(chuchoter) \n",
    "bonjour, je suis créé par une fonction passé en argument.\n",
    "```"
   ]
  },
  {
   "cell_type": "code",
   "execution_count": 77,
   "id": "a4397ec5",
   "metadata": {},
   "outputs": [
    {
     "name": "stdout",
     "output_type": "stream",
     "text": [
      "BONJOUR, JE SUIS CRÉÉ PAR UNE FONCTION PASSÉ EN ARGUMENT.\n",
      "bonjour, je suis créé par une fonction passé en argument.\n"
     ]
    }
   ],
   "source": [
    "def crier(phrase):\n",
    "    print(phrase.upper()) \n",
    "\n",
    "def chuchoter(phrase):\n",
    "    print(phrase.lower()) \n",
    "\n",
    "def saluations(param):\n",
    "    texte = \"bonjour, je suis créé par une fonction passé en argument.\"\n",
    "    if param == 'crier':\n",
    "        crier(texte)\n",
    "    if param == 'chuchoter':\n",
    "        chuchoter(texte)\n",
    "    \n",
    "saluations('crier')\n",
    "saluations('chuchoter')"
   ]
  },
  {
   "cell_type": "markdown",
   "id": "8d05ff24",
   "metadata": {},
   "source": [
    "<div class=\"alert alert-info\" role=\"alert\">\n",
    "    <b> Exercice : </b> Ecrire une fonction décorateur <code>log</code> qui prend en argument une fonction et en extrait le nom, les arguments (positionnels et par mot-clé) ainsi que le résultat pour les afficher. \n",
    "</div>\n",
    "Exemple d'utilisation du décorateur\n",
    "\n",
    "```python\n",
    ">>> @log\n",
    ">>> def add(x, y):\n",
    ">>>    return x + y\n",
    "\n",
    ">>> add(3.5, 7)\n",
    "Fonction add appelée avec les arguments positionnels (3.5, 7) et les arguments par mot clé {}. Résultat:10.5\n",
    "\n",
    "10.5\n",
    "```"
   ]
  },
  {
   "cell_type": "code",
   "execution_count": 87,
   "id": "e4ade1c0",
   "metadata": {},
   "outputs": [
    {
     "name": "stdout",
     "output_type": "stream",
     "text": [
      "Fonction add appelée avec les arguments positionnels (3.1,) et les arguments par mot clé {'y': 7}. Résultat: 10.1\n"
     ]
    },
    {
     "data": {
      "text/plain": [
       "10.1"
      ]
     },
     "execution_count": 87,
     "metadata": {},
     "output_type": "execute_result"
    }
   ],
   "source": [
    "def log(func: 'function')->'function':\n",
    "    name=func.__name__\n",
    "    \n",
    "    def new_function(*args, **kwargs):\n",
    "        print(f\"Fonction {name} appelée avec les arguments positionnels {args} et les arguments par mot clé {kwargs}. Résultat: {func(*args, **kwargs)}\")\n",
    "        return func(*args, **kwargs)\n",
    "\n",
    "    return(new_function)\n",
    "\n",
    "@log\n",
    "def add(x, y):\n",
    "    return x+y\n",
    "\n",
    "add(3.1, y = 7)"
   ]
  },
  {
   "cell_type": "markdown",
   "id": "ee1c9d22",
   "metadata": {},
   "source": [
    "### Programmation orientée objet"
   ]
  },
  {
   "cell_type": "markdown",
   "id": "8cc018b4",
   "metadata": {},
   "source": [
    "#### Quelques mots sur les protocoles et le *duck typing*"
   ]
  },
  {
   "cell_type": "markdown",
   "id": "ed37aceb",
   "metadata": {},
   "source": [
    "En python, un grand nombre de comportements sont attendus d'un objet (et donc d'une classe), comme la possibilité de l'afficher, de le sauvegarder ou même des opérations plus abstraites. Souvent le paradigme de programmation python est exprimé par la notion de ducktyping.\n",
    "\n",
    "> *If it walks like a duck and it quacks like a duck, then it must be a duck*\n",
    "\n",
    "**En d'autres termes**, le typage est dynamique, il dépend des méthodes et attributs disponibles et non de la classe effectivement utilisée. "
   ]
  },
  {
   "cell_type": "code",
   "execution_count": 88,
   "id": "57da8f29",
   "metadata": {},
   "outputs": [
    {
     "name": "stdout",
     "output_type": "stream",
     "text": [
      "9\n",
      "pommes et oranges, pommes et oranges, pommes et oranges, \n"
     ]
    }
   ],
   "source": [
    "def calcule(a, b, c): return (a+b)*c\n",
    " \n",
    "a = calcule (1, 2, 3)\n",
    "b = calcule ('pommes ', 'et oranges, ', 3)\n",
    "\n",
    "print(a)\n",
    "print(b)"
   ]
  },
  {
   "cell_type": "markdown",
   "id": "2ff39a92",
   "metadata": {},
   "source": [
    "Tant que les objects savent gérer les opérations `+` et `*`, on peut les appeler sans soucis. Le typage des entrées/sorties de la fonction est purement dynamique. "
   ]
  },
  {
   "cell_type": "markdown",
   "id": "be6233a7",
   "metadata": {},
   "source": [
    "Dans l'exercice suivant, on va passer en revue quelques unes des méthodes spéciales `__dunder__` pour les appliquer à une classe de vecteurs ainsi que quelques décorateurs de méthode."
   ]
  },
  {
   "cell_type": "markdown",
   "id": "50201236",
   "metadata": {},
   "source": [
    "<div class=\"alert alert-success\" role=\"alert\">\n",
    "   <b> Pour la liste complete des méthodes spéciales : </b> <a href=\"https://docs.python.org/3/reference/datamodel.html#special-method-names\">https://docs.python.org/3/reference/datamodel.html#special-method-names</a>\n",
    "</div>\n"
   ]
  },
  {
   "cell_type": "markdown",
   "id": "ce0ccf28",
   "metadata": {},
   "source": [
    "<div class=\"alert alert-info\" role=\"alert\">\n",
    "    <b> Exercice \"Objet Pythonique\" (1): </b> A partir du squelette de classe <code>Vecteur</code>, nous allons construire un objet très complet. <br> \n",
    "    Completer les méthodes ci-dessous pour vérifier les tests proposés dans le main.\n",
    "</div>\n",
    "\n",
    "> Remarque: on peut définir la classe au choix directement dans le notebook ou dans un fichier séparé. Pour les fichiers séparés, on pourra tester directement \"à la main\" à l'aide du `if __name__==\"__main__:\"` ou en important dans ce notebook (recommandé)\n",
    "> ```python\n",
    "%load_ext autoreload\n",
    "%autoreload 2```\n",
    "> et \n",
    ">```python\n",
    "from vecteur import Vecteur # puis exécuter les exemples ci dessous```\n",
    "\n",
    "\n",
    "\n",
    "```python\n",
    "from array import array # On évite ainsi de recourrir à numpy en utilisant un built-in\n",
    "import math # bien utile pour tout un tas d'opérations\n",
    "\n",
    "class Vecteur:\n",
    "    def __init__(self, x, y):\n",
    "        pass\n",
    "\n",
    "    def __repr__(self):\n",
    "        \"\"\"Représentation textuelle de l'objet\"\"\"\n",
    "        pass\n",
    "    \n",
    "    def __iter__(self):\n",
    "        \"\"\"Iterateur sur les élements du vecteur, utilise yield\"\"\"\n",
    "    \n",
    "    def __str__(self):\n",
    "        \"\"\"Appelé par print()\"\"\"\n",
    "        pass\n",
    "    \n",
    "    def __eq__(self, other):\n",
    "        \"\"\"Surcharge de l'opérateur ==\"\"\"\n",
    "        pass\n",
    "\n",
    "    def __abs__(self):\n",
    "        \"\"\"surcharge du built-in abs()\"\"\"\n",
    "        pass\n",
    "```\n",
    "\n",
    "```python\n",
    ">>> v1 = Vecteur(3, 4)\n",
    ">>> print(v1.x, v1.y)  \n",
    "3.0 4.0\n",
    ">>> x, y = v1 \n",
    ">>> x, y\n",
    "(3.0, 4.0)\n",
    ">>> v1\n",
    "Vecteur(3.0, 4.0)\n",
    ">>> v1_clone = eval(repr(v1))  # la bonne façon de cloner c'est avec copy. Ici on montre l'utilité d'avoir un __repr__ qui écrit l'appel au constructeur de classe combiné avec eval qui evalue un str en python.\n",
    ">>> v1 == v1_clone\n",
    "True\n",
    ">>> print(v1)   \n",
    "(3.0, 4.0)\n",
    ">>> abs(v1) \n",
    "5.0\n",
    "```"
   ]
  },
  {
   "cell_type": "code",
   "execution_count": 30,
   "id": "0a3813fd",
   "metadata": {},
   "outputs": [
    {
     "name": "stdout",
     "output_type": "stream",
     "text": [
      "The autoreload extension is already loaded. To reload it, use:\n",
      "  %reload_ext autoreload\n"
     ]
    }
   ],
   "source": [
    "%load_ext autoreload\n",
    "%autoreload 2"
   ]
  },
  {
   "cell_type": "code",
   "execution_count": 35,
   "id": "401a97e4",
   "metadata": {},
   "outputs": [],
   "source": [
    "from vecteur import Vecteur"
   ]
  },
  {
   "cell_type": "code",
   "execution_count": 33,
   "id": "adf5662d",
   "metadata": {},
   "outputs": [
    {
     "name": "stdout",
     "output_type": "stream",
     "text": [
      "3 4\n",
      "3 4\n",
      "x = 3.0, y = 4.0\n",
      "x = 3, y = 4\n",
      "5.0\n"
     ]
    },
    {
     "data": {
      "text/plain": [
       "Vecteur(3,4)"
      ]
     },
     "execution_count": 33,
     "metadata": {},
     "output_type": "execute_result"
    }
   ],
   "source": [
    "v1 = Vecteur(3, 4)\n",
    "print(v1.x, v1.y)  #3.0, 4.0 \n",
    "x, y = v1 \n",
    "print(x,y)\n",
    "print(Vecteur(3.0, 4.0)) # (3.0, 4.0)\n",
    "v1_clone = eval(repr(v1))  # la bonne façon de cloner c'est avec copy. Ici on montre l'utilité d'avoir un __repr__ qui écrit l'appel au constructeur de classe combiné avec eval qui evalue un str en python.\n",
    "v1 == v1_clone #True\n",
    "print(v1)   #(3.0, 4.0)\n",
    "print(abs(v1)) #5.0\n",
    "v1 #(3.0, 4.0)"
   ]
  },
  {
   "cell_type": "markdown",
   "id": "efd342ff",
   "metadata": {},
   "source": [
    "<div class=\"alert alert-info\" role=\"alert\">\n",
    "    <b> Exercice \"Objet Pythonique\" (2): </b> Ajouter les méthodes méthode d'initialisation qui accepte un itérable comme argument et une seconde qui prend deux réels en coordonnées polaire.\n",
    "</div>\n",
    "\n",
    "\n",
    "```python\n",
    "from array import array # On évite ainsi de recourrir à numpy en utilisant un built-in\n",
    "import math # bien utile pour tout un tas d'opérations\n",
    "\n",
    "class Vecteur:\n",
    "    def __init__(self, x, y):\n",
    "        ...\n",
    "    ...\n",
    "    \n",
    "    @classmethod\n",
    "    def from_iterable(cls, it):\n",
    "        pass \n",
    "    \n",
    "    \n",
    "    @classmethod\n",
    "    def from_polar(cls, r: float,theta: float):\n",
    "        pass \n",
    "```\n",
    "\n",
    "```python\n",
    "from math import pi\n",
    "v2=Vecteur.from_iterable([1,5])\n",
    "print(v2)\n",
    "v2=Vecteur.from_polar(1,pi/4)\n",
    "print(v2)\n",
    "```"
   ]
  },
  {
   "cell_type": "code",
   "execution_count": 41,
   "id": "89aa8258",
   "metadata": {},
   "outputs": [
    {
     "name": "stdout",
     "output_type": "stream",
     "text": [
      "x = 1, y = 5\n",
      "x = 0.7071067811865476, y = 0.7071067811865476\n"
     ]
    }
   ],
   "source": [
    "from vecteur import Vecteur\n",
    "from math import pi\n",
    "v2=Vecteur.from_iterable([1,5])\n",
    "print(v2)\n",
    "v2=Vecteur.from_polar(1.0,pi/4.0)\n",
    "print(v2)"
   ]
  },
  {
   "cell_type": "markdown",
   "id": "6326e719",
   "metadata": {},
   "source": [
    "<div class=\"alert alert-info\" role=\"alert\">\n",
    "    <b> Exercice \"Objet Pythonique\" (4): protéger les variables x et y</b> dérrière des  <code>_x</code> et <code>_y</code> mais en maintenir l'accés direct grace aux décorateurs <code>@property</code> et <code>@varname.setter</code> tout en le protégeant contre des valeurs d'assignations qui ne soient pas des réels. Le module <code>numbers</code> propose le type <code>numbers.Real</code> qui contient les <code>int, float, decimal,...</code>\n",
    "</div>\n",
    "\n",
    "```python\n",
    ">>> v3=Vecteur(1,2)\n",
    ">>> print(v3.y)\n",
    ">>> v3.y=1\n",
    ">>> try:\n",
    "...     v3.y=\"1\"\n",
    "... except Exception as e:\n",
    "...     print(\"catching exception:\", e)\n",
    "2.0\n",
    "catching exception: val='1' must be a real\n",
    "```"
   ]
  },
  {
   "cell_type": "code",
   "execution_count": 3,
   "id": "08712822",
   "metadata": {},
   "outputs": [
    {
     "name": "stdout",
     "output_type": "stream",
     "text": [
      "2\n",
      "1\n",
      "catching exception: x needs to be a real numbers, the input 1 is of type <class 'str'>\n"
     ]
    }
   ],
   "source": [
    "from vecteur import Vecteur\n",
    "v3=Vecteur(1,2)\n",
    "print(v3.y)\n",
    "v3.y=1\n",
    "print(v3.y)\n",
    "try:\n",
    "    v3.y=\"1\"\n",
    "except Exception as e:\n",
    "    print(\"catching exception:\", e)\n"
   ]
  },
  {
   "cell_type": "markdown",
   "id": "72ad40f7",
   "metadata": {},
   "source": [
    "<div class=\"alert alert-info\" role=\"alert\">\n",
    "    <b> Exercice \"Objet Pythonique\" (5): </b> Surcharge des opérateurs <code>==</code>, <code>+</code>, <code>+=</code>, <code>-</code> et <code>*</code>. Pour ce dernier cas, on prendra soins de définir le produit scalair, de sorte qu'il fonctionne avec des réels <b>et</b> des Vecteur.\n",
    "</div>\n",
    "\n",
    "```python\n",
    ">>> print(f\"{(v1==v2)=}\")\n",
    "(v1==v2)=False\n",
    ">>> print(f\"{(v1==[3,4])=}\")\n",
    "(v1==[3,4])=False\n",
    ">>> print(f\"{(v1==Vecteur(3,4))=}\")\n",
    "(v1==Vecteur(3,4))=True\n",
    "\n",
    ">>> print(\"\\nTest de l'addition de vecteurs:\\n----------------------\")\n",
    ">>> print(f\"Attendu: (3.0, 4.0)+(1.0, 1)=(4.0, 5.0) \\nCalculé: {v1}+{v3}={v1+v3}\\n\")\n",
    "\n",
    "Test de l'addition de vecteurs:\n",
    "----------------------\n",
    "Attendu: (3.0, 4.0)+(1.0, 1)=(4.0, 5.0) \n",
    "Calculé: (3.0, 4.0)+(1.0, 1)=(4.0, 5.0)\n",
    "    \n",
    ">>> print([1,3]+v1)\n",
    "(4.0, 7.0)\n",
    ">>> \"v1\"+v1 \n",
    "...\n",
    "unsupported operand type(s) for +: 'Vecteur' and 'str'\n",
    ">>> v1+=v2\n",
    ">>> print(v1)\n",
    "(3.7071067811865475, 4.707106781186548)\n",
    ">>> print(-v1)\n",
    "(-3.7071067811865475, -4.707106781186548)\n",
    "\n",
    ">>> -v1\n",
    "(-3.7071067811865475, -4.707106781186548)\n",
    ">>> Vecteur(1,-1)*v2 #environ 0\n",
    "1e-16 \n",
    ">>> math.sqrt(2)*v2 #environ (1,1)\n",
    "Vecteur(1.0000000000000002, 1.0)\n",
    "```"
   ]
  },
  {
   "cell_type": "code",
   "execution_count": 1,
   "id": "c8277677",
   "metadata": {
    "scrolled": true
   },
   "outputs": [
    {
     "name": "stdout",
     "output_type": "stream",
     "text": [
      "(v1==v2)=None\n",
      "(v1==[3,4])=False\n",
      "(v1==Vecteur(3,4))=True\n",
      "\n",
      "Test de l'addition de vecteurs:\n",
      "----------------------\n",
      "Attendu: (3.0, 4.0)+(1.0, 1)=(4.0, 5.0) \n",
      "Calculé: x = 3, y = 4+x = 1.0, y = 1=x = 4.0, y = 5\n",
      "\n",
      "can only concatenate str (not \"Vecteur\") to str\n",
      "x = 3, y = 4\n",
      "x = 3.7071067811865475, y = 4.707106781186548\n",
      "x = -3.7071067811865475, y = -4.707106781186548\n",
      "1.0\n",
      "-v1=Vecteur(-3.7071067811865475,-4.707106781186548) (-3.7071067811865475, -4.707106781186548)\n",
      "Vecteur(1,-1)*v2=0.0 (0)\n",
      "v2*math.sqrt(2)=Vecteur(1.0000000000000002,1.0000000000000002) (1,1)\n",
      "math.sqrt(2)*v2=Vecteur(1.0000000000000002,1.0000000000000002) (1,1)\n"
     ]
    }
   ],
   "source": [
    "import math\n",
    "from vecteur import Vecteur\n",
    "\n",
    "v1 = Vecteur(3, 4)\n",
    "v2=Vecteur.from_polar(1.0,math.pi/4.0)\n",
    "v3 = Vecteur(1.0, 1)\n",
    "print(f\"{(v1==v2)=}\")\n",
    "print(f\"{(v1==[3,4])=}\")\n",
    "print(f\"{(v1==Vecteur(3,4))=}\")\n",
    "\n",
    "print(\"\\nTest de l'addition de vecteurs:\\n----------------------\")\n",
    "print(f\"Attendu: (3.0, 4.0)+(1.0, 1)=(4.0, 5.0) \\nCalculé: {v1}+{v3}={v1+v3}\\n\")\n",
    "#print([1,3]+v1)\n",
    "try: \n",
    "    \"v1\"+v1 \n",
    "except Exception as e:\n",
    "    print(e)\n",
    "\n",
    "print(v1) \n",
    "v1+=v2\n",
    "print(v1)\n",
    "print(-v1)\n",
    "print(v2.norme)\n",
    "\n",
    "# produit (scalaire)\n",
    "print(f\"{-v1=} (-3.7071067811865475, -4.707106781186548)\")\n",
    "print(f\"{Vecteur(1,-1)*v2=} (0)\")\n",
    "print(f\"{v2*math.sqrt(2)=} (1,1)\")\n",
    "print(f\"{math.sqrt(2)*v2=} (1,1)\")"
   ]
  },
  {
   "cell_type": "markdown",
   "id": "ba60d9e3",
   "metadata": {},
   "source": [
    "<div class=\"alert alert-info\" role=\"alert\">\n",
    "    <b> Exercice \"Objet Pythonique\" (6): </b> pour un vecteur plus complet, ajouter des méthodes <code>angle</code> qui calcule l'angle entre deux vecteurs et une propriété <code>norme</code> qui renvoie la norme $l^2$.\n",
    "</div>\n",
    "\n",
    "```python\n",
    ">>> v1.angle(v2)\n",
    "0.11829166559831755\n",
    ">>> v1.norme\n",
    "5.9916187242356855\n",
    "```"
   ]
  },
  {
   "cell_type": "code",
   "execution_count": 2,
   "id": "2d3fecb1",
   "metadata": {},
   "outputs": [
    {
     "data": {
      "text/plain": [
       "0.7853981633974483"
      ]
     },
     "execution_count": 2,
     "metadata": {},
     "output_type": "execute_result"
    }
   ],
   "source": [
    "v1.angle(v2, Vecteur(1,0))"
   ]
  },
  {
   "cell_type": "code",
   "execution_count": 2,
   "id": "31aa84a6",
   "metadata": {},
   "outputs": [
    {
     "data": {
      "text/plain": [
       "10.0"
      ]
     },
     "execution_count": 2,
     "metadata": {},
     "output_type": "execute_result"
    }
   ],
   "source": [
    "v1.norme"
   ]
  },
  {
   "cell_type": "markdown",
   "id": "f4ea3507",
   "metadata": {},
   "source": [
    "<div class=\"alert alert-success\" role=\"alert\">\n",
    "   <b> Bonus:</b> La classe vecteur développée ici est en fait assez générale. Modifier cette classe pour qu'elle accepte des vecteurs de taille quelconques. On pourra utiliser une instance <code>composantes</code> la classe <code>array.array</code> pour stocker les données du vecteur. On remarque au passage que cette nouvelle écriture va alléger le code en supprimant les références explicites à <code>x</code> et <code>y</code> en tirant profit de la redéfinition de <code>__iter__</code> et des formes \"dépackées\" en <code>*composantes</code>.\n",
    "</div>"
   ]
  },
  {
   "cell_type": "markdown",
   "id": "5c164235",
   "metadata": {},
   "source": [
    "## Héritage de classe"
   ]
  },
  {
   "cell_type": "markdown",
   "id": "616e7362",
   "metadata": {},
   "source": [
    "<div class=\"alert alert-info\" role=\"alert\">\n",
    "    <b> Exercice : </b> Créer une classe <code>Printer</code> dont les instances singent le comportement d'une imprimante dans le terminal/output jupyter. On appèlera donc les formats A0 une \"feuille\" de largeur 200 caractères dont on divisera la largeur par 2 (comme pour les vrais feuilles) de A1 jusqu'à A5. Une imprimante particulière (instance) peut imprimer selon un ou plusieurs de ces formats, à la discression de l'utilisateur. Le défaut est \"A4\" s'il existe sur l'imprimante. On gardera la trace de toutes les imprimantes (instances) dans le système.\n",
    "    <br>\n",
    "    <u>Politique de création d'une imprimante:</u> on entre les formats disponibles et <code>__init__</code> vérifie l'adéquation avec les formats autorisés dans le système.\n",
    "    <br><br>\n",
    "    <b>Définir une classe fille :<code>ColorPrinter</code> une imprimante \"<i>couleur</i>\" </b> qui possède en plus des propriétés classique des <code>Printer</code> la possibilité d'imprimer le texte en couleur dans le terminal grace aux codes type <code>\"\\033[;34m\"</code>\n",
    "</div>\n",
    "\n",
    "\n",
    "```python\n",
    ">>> generic_printer=Printer(avail_paper=[\"B1\",\"A4\",\"A0\"])\n",
    "Some formats are incorrect :{'B1'}\n",
    ">>>   Printer.show_printers_system()\n",
    "\"Formats: ['A0', 'A1', 'A2', 'A3', 'A4', 'A5'],  cls.base_width=200, \\n cls.devices=[\"Printer 0\"]\"\n",
    ">>> generic_printer.send(zen)\n",
    "##################################################\n",
    "#  Beautiful is better than ugly. Explicit is    #\n",
    "#  better than implicit. Simple is better than   #\n",
    "#  complex. Complex is better than complicated.  #\n",
    "#  Flat is better than nested. Sparse is better  #\n",
    "#  than dense. Readability counts. Special cases #\n",
    "#  aren't special enough to break the rules.     #\n",
    "#  Although practicality beats purity. Errors    #\n",
    "#  should never pass silently. Unless explicitly #\n",
    "#  silenced. In the face of ambiguity, refuse    #\n",
    "#  the temptation to guess. There should be      #\n",
    "#  one-- and preferably only one --obvious way   #\n",
    "#  to do it. Although that way may not be        #\n",
    "#  obvious at first unless you're Dutch. Now is  #\n",
    "#  better than never. Although never is often    #\n",
    "#  better than *right* now. If the               #\n",
    "#  implementation is hard to explain, it's a bad #\n",
    "#  idea. If the implementation is easy to        #\n",
    "#  explain, it may be a good idea. Namespaces    #\n",
    "#  are one honking great idea -- let's do more   #\n",
    "#  of those!                                     #\n",
    "##################################################\n",
    "\n",
    ">>> generic_printer.send(zen,\"A0\")\n",
    "########################################################################################################################################################################################################\n",
    "#  Beautiful is better than ugly. Explicit is better than implicit. Simple is better than complex. Complex is better than complicated. Flat is better than nested. Sparse is better than dense.        #\n",
    "#  Readability counts. Special cases aren't special enough to break the rules. Although practicality beats purity. Errors should never pass silently. Unless explicitly silenced. In the face of       #\n",
    "#  ambiguity, refuse the temptation to guess. There should be one-- and preferably only one --obvious way to do it. Although that way may not be obvious at first unless you're Dutch. Now is better   #\n",
    "#  than never. Although never is often better than *right* now. If the implementation is hard to explain, it's a bad idea. If the implementation is easy to explain, it may be a good idea. Namespaces #\n",
    "#  are one honking great idea -- let's do more of those!                                                                                                                                               #\n",
    "########################################################################################################################################################################################################\n",
    "```\n",
    "\n",
    "On attend de l'intance de ColorPrinter le même comportement mais avec le texte coloré en bleu dans le terminal.\n",
    "```\n",
    ">>> fancy_printer=ColorPrinter(\"Blue printer\", color=\"blue\")\n",
    "##################################################\n",
    "#  Beautiful is better than ugly. Explicit       #\n",
    "#  is better than implicit. Simple is better     #\n",
    "#  than complex. Complex is better than          #\n",
    "#  complicated. Flat is better than nested.      #\n",
    "#  Sparse is better than dense. Readability      #\n",
    "#  counts. Special cases aren't special enough   #\n",
    "#  to break the rules. Although practicality     #\n",
    "#  beats purity. Errors should never pass        #\n",
    "#  silently. Unless explicitly silenced. In the  #\n",
    "#  face of ambiguity, refuse the temptation to   #\n",
    "#  guess. There should be one-- and preferably   #\n",
    "#  only one --obvious way to do it. Although     #\n",
    "#  that way may not be obvious at first unless   #\n",
    "#  you're Dutch. Now is better than never.       #\n",
    "#  Although never is often better than *right*   #\n",
    "#  now. If the implementation is hard to         #\n",
    "#  explain, it's a bad idea. If the              #\n",
    "#  implementation is easy to explain, it may be  #\n",
    "#  a good idea. Namespaces are one honking great #\n",
    "#  idea -- let's do more of those!               #\n",
    "##################################################\n",
    "```"
   ]
  },
  {
   "cell_type": "markdown",
   "id": "184f2003",
   "metadata": {},
   "source": [
    "On peut voir qu'il y aurait un certain nombre d'actions à effectuer pour que le \"driver\" d'impression soit correct."
   ]
  },
  {
   "cell_type": "markdown",
   "id": "e2778797",
   "metadata": {},
   "source": [
    "## Problème : Affichage du contenu d'un dossier par approche fonctionnelle"
   ]
  },
  {
   "cell_type": "markdown",
   "id": "09703d72",
   "metadata": {},
   "source": [
    "<div class=\"alert alert-info\" role=\"alert\">\n",
    "    <b> Exercice : </b> Ecrire une ou des fonction <code>print_dirtree</code> qui prend en argument une chemin vers un dossier et imprime de manière récursive l'arborescence. Indice : <code>os.[listdir, isdir, walk]</code> ou <code>pathlib.Path</code> (la version moderne de <code>os</code>. <code>yield</code> et/ou <code>itertools</code> peut aussi s'avérer utile.\n",
    "<br> <br>\n",
    "<u>cahier des charges</u>:\n",
    "    <ol>\n",
    "        <li>traiter différement les fichiers et dossier <code>dir_only: bool</code></li>\n",
    "        <li>profondeur max <code>level: int</code></li>\n",
    "        <li>nombre max de ligne (pour évider de lister tout le système) <code>length_limit: bool=1000</code></li>\n",
    "    </ol>\n",
    "</div>\n",
    "Exemple\n",
    "\n",
    "```python\n",
    ">>> print_dirtree(\"foo/\")\n",
    "foo/\n",
    "├── a.txt\n",
    "├── b.txt\n",
    "├── bar/\n",
    "│   ├── p.txt\n",
    "│   └── q.txt\n",
    "└── c.txt\n",
    "```\n",
    "\n",
    "On utilisera les caractères spéciaux suivant pour l'affichage:\n",
    "```python\n",
    "space =  '    '\n",
    "branch = '│   '\n",
    "tee =    '├── '\n",
    "last =   '└── '\n",
    "```\n",
    "\n",
    "> **Bonus:** Ajouter du parsing au block `main` pour en faire un vrai programme."
   ]
  },
  {
   "cell_type": "markdown",
   "id": "5bea12cf",
   "metadata": {},
   "source": [
    "## Problème : Problème de géométrie"
   ]
  },
  {
   "cell_type": "markdown",
   "id": "44d2b777",
   "metadata": {},
   "source": [
    "<div class=\"alert alert-info\" role=\"alert\">\n",
    "    <b> Exercice : </b> Créer une structure de classes qui permette de manipuler des objets \"linéaires\", c'est à dire des droites, des bipoints (vecteur $\\vec{AB}$) et des segments.\n",
    "    <br>\n",
    "    <br>\n",
    "    <u>Remarque:</u> Il est nécessarie de créer un classe <code>Point</code>, une liste de coordonnées, un <code>numpy.ndarray</code> ou même notre classe Vecteur seront suffisant. <br>\n",
    "    <br>\n",
    "    <u>Pour chacun des ses objets (quand c'est possible)</u>:\n",
    "    <ul>\n",
    "        <li> on souhaite pouvoir les initialiser par leur équation et des coordonnées de point, on pourra utiliser le décorateur de classe <code>@classmethod</code></li>\n",
    "        <li> on souhaite pouvoir savoir si un point appartient à une instance et </li>\n",
    "        <li> si deux de ces objets s'intersectent en utilisant une méthode/fonction commune, par exemple <code>intersect(Objet1: \"linéaire\", Objet2: \"linéaire\"): -> List(float)</code></li>\n",
    "        <li> on définira une méthode/fonction qui renvoie l'angle entre deux objets linéaires <code>angle(Objet1: \"linéaire\", Objet2: \"linéaire\"): -> float</code></li>\n",
    "        <li> on définira un opérateur de rotation sur nos objets linéaires <code>rotate(P: List(float), angle)</code></li>\n",
    "    </ul>\n",
    "    Pour les droites, quelque soit leur mode de définition, on pourra récupérer les représentations paramétriques, standard, et complète.<br>\n",
    "    \n",
    "</div>\n",
    "Exemple d'utilisation\n",
    "\n",
    "```python\n",
    ">>> L1=line.vec_init([1,1],[1,0])\n",
    ">>> L2=line.points_init([0,0],[0,1])\n",
    ">>> print(L1)\n",
    "Line object with equation : 0.71x+-0.71y+-0.71=0 \n",
    "with vector:(-0.7071067811865475, -0.7071067811865475) and origin: [1, 0]\n",
    ">>> print(L2)\n",
    "Line object with equation : 1.00x+-0.00y+0.00=0 \n",
    "with vector:(-0.0, -1.0) and origin: [0, 0]\n",
    ">>> np.degrees(lines_angle(L1,L2))\n",
    "45.0\n",
    ">>> lines_intersect_point(L1,L2)\n",
    "[-0.0, -1.0]\n",
    ">>> rotate2d(np.pi,[-1,0])\n",
    "array([ 1.0000000e+00, -1.2246468e-16])\n",
    "```"
   ]
  },
  {
   "cell_type": "markdown",
   "id": "49ab39b7",
   "metadata": {},
   "source": [
    "## Problème : Une approche  orienté objet pour afficher l'arborescence"
   ]
  },
  {
   "cell_type": "markdown",
   "id": "b305c434",
   "metadata": {},
   "source": [
    "<div class=\"alert alert-info\" role=\"alert\">\n",
    "    <b> Exercice : </b> Ecrire un programme orienté objet qui possède la méthode <code>generate</code> qui prend en argument une chemin vers un dossier et imprime de manière récursive l'arborescence.\n",
    "    \n",
    "<br> <br>\n",
    "<u>Cahier des charges</u>:\n",
    "    <ol>\n",
    "        <li>traiter différement les fichiers et dossier <code>dir_only: bool</code></li>\n",
    "        <li>profondeur max <code>level: int</code></li>\n",
    "        <li>nombre max de ligne (pour évider de lister tout le système) <code>length_limit: bool=1000</code></li>\n",
    "    </ol>\n",
    "</div>\n",
    "Exemple\n",
    "\n",
    "```python\n",
    ">>> print_dirtree(\"foo/\")\n",
    "foo/\n",
    "├── a.txt\n",
    "├── b.txt\n",
    "├── bar/\n",
    "│   ├── p.txt\n",
    "│   └── q.txt\n",
    "└── c.txt\n",
    "```\n",
    "\n",
    "On utilisera les caractères spéciaux suivant pour l'affichage:\n",
    "```python\n",
    "space =  '    '\n",
    "branch = '│   '\n",
    "tee =    '├── '\n",
    "last =   '└── '\n",
    "```"
   ]
  },
  {
   "cell_type": "markdown",
   "id": "75b2b051",
   "metadata": {},
   "source": [
    "<div class=\"alert alert-warning\" role=\"alert\">\n",
    "   <b> Suggestion d'approches : </b> \n",
    "    <ol>\n",
    "        <li> Utiliser une structure d'arbre : cf. cours d'ALGPR EI1 pour représenter l'arborescence et d'autres méthodes/classes pour l'affichage.</li>\n",
    "        <li> Encapsulation de méthodes proche de la fonction précédente avec traitement spécialisé fichier/dossier. On pensera a développer une classe frontale pour gérer les options et l'affichage.</li>\n",
    "    </ol>\n",
    "</div>"
   ]
  },
  {
   "cell_type": "markdown",
   "id": "4c837804",
   "metadata": {},
   "source": [
    "## Afficher l'arborescence dans le terminal"
   ]
  },
  {
   "cell_type": "markdown",
   "id": "27b48e94",
   "metadata": {},
   "source": [
    "<div class=\"alert alert-info\" role=\"alert\">\n",
    "    <b> Exercice : </b> à l'aide de l'implémentation fonctionnelle ou OOP, créer un programme python que l'on appelera depuis le terminal pour y afficher l'arborescence de fichier.\n",
    "</div>\n",
    "\n",
    "On pourra utiliser les librairies `argparse` ou bien `getopt`/`sys.argv` pour la gestions des options/paramètres d'appel et `pathlib` pour gérer le path.\n",
    "\n",
    "```shell\n",
    "$ python tree.py foo\n",
    "foo/\n",
    "├── a.txt\n",
    "├── b.txt\n",
    "├── bar/\n",
    "│   ├── p.txt\n",
    "│   └── q.txt\n",
    "└── c.txt\n",
    "```\n",
    "\n",
    "```shell\n",
    "$ python tree.py foo -d\n",
    "foo/\n",
    "└── bar/\n",
    "```"
   ]
  },
  {
   "cell_type": "code",
   "execution_count": null,
   "id": "fb7c4e23-1438-4fa0-8a90-205a01a322ab",
   "metadata": {},
   "outputs": [],
   "source": []
  }
 ],
 "metadata": {
  "kernelspec": {
   "display_name": "Python 3 (ipykernel)",
   "language": "python",
   "name": "python3"
  },
  "language_info": {
   "codemirror_mode": {
    "name": "ipython",
    "version": 3
   },
   "file_extension": ".py",
   "mimetype": "text/x-python",
   "name": "python",
   "nbconvert_exporter": "python",
   "pygments_lexer": "ipython3",
   "version": "3.10.6"
  },
  "toc": {
   "base_numbering": 1,
   "nav_menu": {
    "height": "178px",
    "width": "278px"
   },
   "number_sections": true,
   "sideBar": true,
   "skip_h1_title": true,
   "title_cell": "Table of Contents",
   "title_sidebar": "Contents",
   "toc_cell": false,
   "toc_position": {
    "height": "calc(100% - 180px)",
    "left": "10px",
    "top": "150px",
    "width": "384px"
   },
   "toc_section_display": true,
   "toc_window_display": true
  },
  "varInspector": {
   "cols": {
    "lenName": 16,
    "lenType": 16,
    "lenVar": 40
   },
   "kernels_config": {
    "python": {
     "delete_cmd_postfix": "",
     "delete_cmd_prefix": "del ",
     "library": "var_list.py",
     "varRefreshCmd": "print(var_dic_list())"
    },
    "r": {
     "delete_cmd_postfix": ") ",
     "delete_cmd_prefix": "rm(",
     "library": "var_list.r",
     "varRefreshCmd": "cat(var_dic_list()) "
    }
   },
   "types_to_exclude": [
    "module",
    "function",
    "builtin_function_or_method",
    "instance",
    "_Feature"
   ],
   "window_display": false
  },
  "vscode": {
   "interpreter": {
    "hash": "d1f76cc1074a370c182dbf0e9ff60138fcdf46a8b45a10851f13199df919c30d"
   }
  }
 },
 "nbformat": 4,
 "nbformat_minor": 5
}
