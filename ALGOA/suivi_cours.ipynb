{
 "cells": [
  {
   "cell_type": "code",
   "execution_count": 8,
   "metadata": {},
   "outputs": [],
   "source": [
    "def naive(A, x, n):\n",
    "    s = A[0] # Access c\n",
    "    for i in range(n): # *n\n",
    "        p = A[i] # Access c\n",
    "        for j in range(i): # *i \n",
    "            p=p*x # product p\n",
    "        s = s+p # +\n",
    "    return s # c+ n*(c+i*(c + p)) + c"
   ]
  },
  {
   "cell_type": "code",
   "execution_count": 17,
   "metadata": {},
   "outputs": [],
   "source": [
    "def naive(n):\n",
    "    if n == 0 or n == 1:\n",
    "        return 1\n",
    "    else:\n",
    "        return naive(n-1) + naive(n-2)\n",
    "    \n",
    "# Complexité f(n) pour fib(n)\n",
    "# Complexité f(n+1) pour fib(n+1)\n",
    "# Complexité f(n) + f(n-1) + c pour fib(n+1)\n",
    "# f(n+1) = f(n) + f(n-1) + c"
   ]
  },
  {
   "cell_type": "markdown",
   "metadata": {},
   "source": [
    "Ésperance du nombre de points fixes sur [1,2,...n] permuté:\n",
    "$$ \n",
    "= \\sum _{0}^{n-1} x_i = \\sum _{0}^{n-1} P(E_i) =  \\sum _{0}^{n=1} 1/n = n*1/n = 1 \n",
    "$$\n",
    "$$"
   ]
  },
  {
   "cell_type": "markdown",
   "metadata": {},
   "source": [
    "Ésperance du nombre de inversions sur [1,2,...n] permuté:\n",
    "$$ \n",
    "= \\sum _{i, j} x_{ij} = \\sum _{i, j} P(E_{ij}) = \\sum _{i<j} P(E_{ij})\n",
    "$$\n",
    "\n",
    "$$\n",
    "-> j <= i -> P(E_{ij}) = 0 \\\\\n",
    "-> j > i -> P(E_{ij}) = 1/2\n",
    "$$\n",
    "\n",
    "$$\n",
    "= \\sum _{i<j} 1/2 = (n^2-n)/2 = n(n-1)/4\n",
    "$$"
   ]
  },
  {
   "cell_type": "code",
   "execution_count": 20,
   "metadata": {},
   "outputs": [],
   "source": [
    "def algo(x, liste):\n",
    "    for i in liste:\n",
    "        if i == x:\n",
    "            return True\n",
    "    return False\n",
    "\n",
    "# Meilleur cas: 1\n",
    "\n",
    "# Pire cas: n\n",
    "\n"
   ]
  },
  {
   "cell_type": "markdown",
   "metadata": {},
   "source": [
    "def permutation aleatoire (A, n):\n",
    "    for i = 0 to n − 1:\n",
    "        swap(A[i ], A[random int(i,n−1)])\n",
    "\n",
    "1 1  -> p² \n",
    "0 0 -> (1-p)^2\n",
    "0 1 or 1 0 -> 2*p(1-p)\n",
    "\n",
    "p^2+1-2p+p^2+2p-2p^2 = 1 check\n",
    "\n",
    "if x!=y->\n",
    "\n",
    "01 -> p(1-p)\n",
    "10 -> (1-p)p = p(1-p)\n",
    "\n",
    "\n",
    "Temps d'execution:\n",
    "\n",
    "q = (1-2p+2p^2)\n",
    "\n",
    "E(X) = "
   ]
  },
  {
   "cell_type": "code",
   "execution_count": 21,
   "metadata": {},
   "outputs": [
    {
     "data": {
      "text/plain": [
       "40320"
      ]
     },
     "execution_count": 21,
     "metadata": {},
     "output_type": "execute_result"
    }
   ],
   "source": [
    "import math\n",
    "\n",
    "math.factorial(8)"
   ]
  },
  {
   "cell_type": "code",
   "execution_count": 34,
   "metadata": {},
   "outputs": [
    {
     "data": {
      "text/plain": [
       "[]"
      ]
     },
     "execution_count": 34,
     "metadata": {},
     "output_type": "execute_result"
    }
   ],
   "source": [
    "def new_p(p):\n",
    "    np = [(p[0]+1, p[1]+2),\n",
    "          (p[0]-1, p[1]+2),\n",
    "          (p[0]+1, p[1]-2),\n",
    "          (p[0]-1, p[1]-2)]\n",
    "    return np\n",
    "\n",
    "def knight(E={}, i=0, p=(0, 0)):  # Change the default values and use tuples\n",
    "    if i == 36:\n",
    "        print(E)\n",
    "    else:\n",
    "        for np in new_p(p):\n",
    "            if np not in E.keys() and max(np) <= 6 and min(np) >= 1:\n",
    "                E[np] = i\n",
    "                p = np\n",
    "                knight(E, i + 1, p)\n",
    "    return []\n",
    "\n",
    "knight()\n"
   ]
  }
 ],
 "metadata": {
  "kernelspec": {
   "display_name": "python3_10_infoia",
   "language": "python",
   "name": "python3"
  },
  "language_info": {
   "codemirror_mode": {
    "name": "ipython",
    "version": 3
   },
   "file_extension": ".py",
   "mimetype": "text/x-python",
   "name": "python",
   "nbconvert_exporter": "python",
   "pygments_lexer": "ipython3",
   "version": "3.10.12"
  },
  "orig_nbformat": 4
 },
 "nbformat": 4,
 "nbformat_minor": 2
}
