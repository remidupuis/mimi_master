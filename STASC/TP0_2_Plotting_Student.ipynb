{
 "cells": [
  {
   "cell_type": "markdown",
   "metadata": {},
   "source": [
    "# Introduction to scientific computing with Python\n",
    "\n",
    "*Merci à [Maxime Sangnier](https://perso.lpsm.paris/~msangnier/) d'avoir partagé avec nous ses TPs.*\n",
    "\n",
    "\n",
    "## Part 2: Plotting\n",
    "This part is aimed at introducing the most used Python package for 2D-plotting: [Matplotlib](http://matplotlib.org/contents.html)."
   ]
  },
  {
   "cell_type": "markdown",
   "metadata": {},
   "source": [
    "# Table of contents\n",
    "1. [Plotting curves](#part1)\n",
    "    - [First example](#part1sec1)\n",
    "    - [Matplotlib APIs](#part1sec2)\n",
    "    - [Customization](#part1sec3)\n",
    "    - [Interactive mode](#part1sec4)\n",
    "    - [Seaborn](#part1sec5)\n",
    "1. [Other plots ](#part2)\n",
    "    - [Image](#part2sec1)\n",
    "    - [Scatter](#part2sec2)\n",
    "    - [Stem ](#part2sec3)\n",
    "    - [Histogram](#part2sec4)\n",
    "    - [Bar chart](#part2sec5)\n",
    "    - [3D plotting](#part2sec6)\n",
    "    - [Pie chart](#part2sec7)\n",
    "1. [Saving figures](#part3)\n",
    "1. [A detour to TensorBoard](#part4)\n",
    "1. [Exercises](#part5)\n",
    "    - [Exercise 1](#part5sec1)\n",
    "    - [Exercise 2](#part5sec2)\n",
    "    - [Exercise 3](#part5sec3)\n",
    "    - [Exercise 4](#part5sec4)\n",
    "    - [Exercise 5](#part5sec5)\n",
    "    - [Exercise 6](#part5sec6)\n",
    "1. [References](#part6)\n"
   ]
  },
  {
   "cell_type": "markdown",
   "metadata": {},
   "source": [
    "# Plotting curves <a id=\"part1\"></a>\n",
    "## First example <a id=\"part1sec1\"></a>\n"
   ]
  },
  {
   "cell_type": "code",
   "execution_count": null,
   "metadata": {},
   "outputs": [],
   "source": [
    "import matplotlib.pyplot as plt\n",
    "from numpy import abs, sin, cos, arange, pi, exp, linspace, random"
   ]
  },
  {
   "cell_type": "markdown",
   "metadata": {},
   "source": [
    "We give here a minimal example of plotting a sine curve with matplotlib."
   ]
  },
  {
   "cell_type": "code",
   "execution_count": null,
   "metadata": {},
   "outputs": [],
   "source": [
    "x = arange(0, 2*pi, step=1e-1)\n",
    "y1 = sin(x)\n",
    "\n",
    "plt.plot(x, y1);\n",
    "#plt.show()  # In Spyder only"
   ]
  },
  {
   "cell_type": "markdown",
   "metadata": {},
   "source": [
    "Remark: some functions (such as plot) return a `Line2D` object.\n",
    "This may produce an additional output\n",
    "\n",
    "    [<matplotlib.lines.Line2D at 0x7fdafd5e7eb8>]\n",
    "\n",
    "To inhibt this, add `;` at the end of the last line."
   ]
  },
  {
   "cell_type": "markdown",
   "metadata": {},
   "source": [
    "**Question**\n",
    "\n",
    "Plot $x \\mapsto e^{-x}$ for $x \\in [-1, 10]$."
   ]
  },
  {
   "cell_type": "code",
   "execution_count": null,
   "metadata": {},
   "outputs": [],
   "source": [
    "# Answer\n",
    "x2 = arange(-1,10,step=1e-1)\n",
    "y3 = exp(x2)\n",
    "\n",
    "plt.plot(x2,y3)"
   ]
  },
  {
   "cell_type": "markdown",
   "metadata": {},
   "source": [
    "## Matplotlib APIs <a id=\"part1sec2\"></a>\n",
    "Matplotlib offers two application programming interfaces (APIs): the pyplot and the object-oriented API.\n",
    "\n",
    "The pyplot API is a procedural manner of plotting: the user defines a sequence of line codes for creating a figure, plotting, and so on.\n",
    "In the example above, we have used the pyplot API.\n",
    "With it, it is very easy to produce many kinds of plots quickly.\n",
    "\n",
    "Matplotlib can also be manipulated by way of the object-oriented API.\n",
    "It is a more robust and customizable way of plotting.\n",
    "Here, the user has to know that a plot is mainly made of two objects: a figure and a set of axes.\n",
    "Roughly speaking, the figure is the big box in which everything is put (it is the top level container).\n",
    "For instance, a figure is characterized by a size, a title and a facecolor.\n",
    "\n",
    "The axes are the plots themselves.\n",
    "There can be several plots inside a figure (also called subplots) and they are, for example, characterized by ticks, limits on x and y, a legend and a title.\n",
    "The axes contain the curves plotted.\n",
    "\n",
    "In this tutorial, we focus on the object-oriented API (even though scripts for the pyplot API are also given in comments), for which the minimal example given above is rewritten below."
   ]
  },
  {
   "cell_type": "code",
   "execution_count": null,
   "metadata": {},
   "outputs": [],
   "source": [
    "fig, ax = plt.subplots()  # Create a figure with a single Axes object\n",
    "\n",
    "# This is similar to:\n",
    "# fig = plt.figure()\n",
    "# ax = fig.add_subplot(1, 1, 1)  # 1 row, 1 column, first item\n",
    "\n",
    "ax.plot(x, y1);  # Create a curve in ax\n",
    "# fig.show()  # Show the figure (in Spyder only)"
   ]
  },
  {
   "cell_type": "markdown",
   "metadata": {},
   "source": [
    "Among many advantages of using the object-oriented interface of Matplotlib, one is to redraw a figure by calling it, and to add plots."
   ]
  },
  {
   "cell_type": "code",
   "execution_count": null,
   "metadata": {},
   "outputs": [],
   "source": [
    "fig"
   ]
  },
  {
   "cell_type": "code",
   "execution_count": null,
   "metadata": {},
   "outputs": [],
   "source": [
    "ax.plot(x, y1+1)\n",
    "fig"
   ]
  },
  {
   "cell_type": "markdown",
   "metadata": {},
   "source": [
    "## Customization <a id=\"part1sec3\"></a>\n",
    "### Grid\n",
    "You can see here how to add a grid to the plot.\n",
    "Grid intevals are defined by ticks.\n",
    "To change these intervals, change the ticks (see below).\n",
    "\n",
    "For log-plots, you can use:\n",
    "\n",
    "    plt.grid(which=\"both\")\n",
    "    \n",
    "to draw both major and minor tick grids."
   ]
  },
  {
   "cell_type": "code",
   "execution_count": null,
   "metadata": {},
   "outputs": [],
   "source": [
    "fig, ax = plt.subplots()\n",
    "ax.plot(x, y1)\n",
    "ax.grid();\n",
    "\n",
    "# Pyplot API\n",
    "# plt.plot(x, y1);\n",
    "# plt.grid()"
   ]
  },
  {
   "cell_type": "markdown",
   "metadata": {},
   "source": [
    "### Axes labels and title"
   ]
  },
  {
   "cell_type": "code",
   "execution_count": null,
   "metadata": {},
   "outputs": [],
   "source": [
    "fig, ax = plt.subplots()\n",
    "ax.plot(x, y1)\n",
    "ax.grid()\n",
    "ax.set_xlabel('x')\n",
    "ax.set_ylabel('y')\n",
    "ax.set_title('Sine curve');\n",
    "\n",
    "# Pyplot API\n",
    "# plt.plot(x, y1)\n",
    "# plt.grid()\n",
    "# plt.xlabel(\"x\")\n",
    "# plt.ylabel(\"y\")\n",
    "# plt.title(\"Sine curve\");"
   ]
  },
  {
   "cell_type": "markdown",
   "metadata": {},
   "source": [
    "**Question**\n",
    "\n",
    "Plot again $x \\mapsto e^{-x}$ for $x \\in [-1, 10]$ and add a grid, axis labels and a title."
   ]
  },
  {
   "cell_type": "code",
   "execution_count": null,
   "metadata": {},
   "outputs": [],
   "source": [
    "# Answer"
   ]
  },
  {
   "cell_type": "markdown",
   "metadata": {},
   "source": [
    "### Legend\n",
    "There are two manners to plot a legend.\n",
    "The first one is to label each curve separately."
   ]
  },
  {
   "cell_type": "code",
   "execution_count": null,
   "metadata": {},
   "outputs": [],
   "source": [
    "y2 = cos(x)\n",
    "\n",
    "fig, ax = plt.subplots()\n",
    "ax.plot(x, y1, label=\"sin\")\n",
    "ax.plot(x, y2, label=\"cos\")\n",
    "ax.grid()\n",
    "ax.set_xlabel(\"x\")\n",
    "ax.set_ylabel(\"y\")\n",
    "ax.set_title(\"Sine and cosine curves\")\n",
    "ax.legend(loc=\"upper center\");\n",
    "\n",
    "# Pyplot API\n",
    "# plt.plot(x, y1, label=\"sin\")\n",
    "# plt.plot(x, y2, label=\"cos\")\n",
    "# plt.grid()\n",
    "# plt.xlabel(\"x\")\n",
    "# plt.ylabel(\"y\")\n",
    "# plt.title(\"Sine and cosine curves\")\n",
    "# plt.legend(loc=\"upper center\");"
   ]
  },
  {
   "cell_type": "markdown",
   "metadata": {},
   "source": [
    "The second one is to give a list of labels to the function `legend`."
   ]
  },
  {
   "cell_type": "code",
   "execution_count": null,
   "metadata": {},
   "outputs": [],
   "source": [
    "fig, ax = plt.subplots()\n",
    "ax.plot(x, y1)\n",
    "ax.plot(x, y2)\n",
    "ax.grid()\n",
    "ax.set_xlabel(\"x\")\n",
    "ax.set_ylabel(\"y\")\n",
    "ax.set_title(\"Sine and cosine curves\")\n",
    "ax.legend((\"sin\", \"cos\"), loc=\"lower left\");\n",
    "\n",
    "# Pyplot API\n",
    "# plt.plot(x, y1)\n",
    "# plt.plot(x, y2)\n",
    "# plt.grid()\n",
    "# plt.xlabel(\"x\")\n",
    "# plt.ylabel(\"y\")\n",
    "# plt.title(\"Sine and cosine curves\")\n",
    "# plt.legend((\"sin\", \"cos\"), loc=\"lower left\");"
   ]
  },
  {
   "cell_type": "markdown",
   "metadata": {},
   "source": [
    "Note that all location strings are available in the [legend properties](http://matplotlib.org/api/pyplot_api.html#matplotlib.pyplot.legend).\n",
    "Furthermore, the font size and the marker scale can be changed thanks to the properties `fontsize` and `markerscale` of `plt.legend`.\n",
    "\n",
    "Let us remark that the legend can be further modified and placed outside the curve box:"
   ]
  },
  {
   "cell_type": "code",
   "execution_count": null,
   "metadata": {},
   "outputs": [],
   "source": [
    "fig, ax = plt.subplots()\n",
    "for p, s in [(0, '0'),\n",
    "             (pi/2, r'$\\pi/2$'),\n",
    "             (pi, r'$\\pi$'),\n",
    "             (3*pi/2, r'$3\\pi/2$')]:\n",
    "    ax.plot(x, sin(x+p), label=r\"phase \" + s)\n",
    "ax.grid()\n",
    "ax.set_xlabel(\"x\")\n",
    "ax.set_ylabel(\"y\")\n",
    "ax.legend(loc=\"upper center\", bbox_to_anchor=(0.5, 1.3), ncol=2, shadow=True);\n",
    "\n",
    "# Pyplot API\n",
    "# for p, s in [(0, '0'),\n",
    "#              (pi/2, r'$\\pi/2$'),\n",
    "#              (pi, r'$\\pi$'),\n",
    "#              (3*pi/2, r'$3\\pi/2$')]:\n",
    "#     plt.plot(x, sin(x+p), label=r\"phase \" + s)\n",
    "# plt.grid()\n",
    "# plt.xlabel(\"x\")\n",
    "# plt.ylabel(\"y\")\n",
    "# plt.legend(loc=\"upper center\", bbox_to_anchor=(0.5, 1.3), ncol=2, shadow=True);"
   ]
  },
  {
   "cell_type": "markdown",
   "metadata": {},
   "source": [
    "Here:\n",
    "- `r\"…\"` is for LaTeX support;\n",
    "- `bbox_to_anchor=(0.5, 1.3)` means that the upper center of the legend is halfway through the x axis, and 0.3 above the curve box;\n",
    "- `ncol=2` means that the legend spans two columns;\n",
    "- `shadow=True` draws a shadow behind legend."
   ]
  },
  {
   "cell_type": "markdown",
   "metadata": {},
   "source": [
    "**Question**\n",
    "\n",
    "Plot on the same figure the curves of $x \\mapsto e^{- \\gamma |x|}$ for $x \\in [-1, 1]$ and $\\gamma \\in \\{0.5, 1, \\dots, 5\\}$.\n",
    "\n",
    "Add a grid and a legend in a box outside on the right of the figure."
   ]
  },
  {
   "cell_type": "code",
   "execution_count": null,
   "metadata": {},
   "outputs": [],
   "source": [
    "# Answer"
   ]
  },
  {
   "cell_type": "markdown",
   "metadata": {},
   "source": [
    "### Limits and ticks\n",
    "The limits (in x and y) of the figure are automatically determined.\n",
    "Nevertheless, they can be changed, as well as the ticks and their labels."
   ]
  },
  {
   "cell_type": "code",
   "execution_count": null,
   "metadata": {},
   "outputs": [],
   "source": [
    "fig, ax = plt.subplots()\n",
    "ax.plot(x, y1, label=\"sin\")\n",
    "ax.plot(x, y2, label=\"cos\")\n",
    "\n",
    "ax.set_xlim(0.0, 2*pi)  # Set x limits\n",
    "ax.set_xticks([t*pi/2 for t in range(5)])  # Set x ticks\n",
    "ax.set_xticklabels([r'$0$', r'$\\pi/2$', r'$\\pi$', r'$3\\pi/2$', r'$2\\pi$'],\n",
    "                   fontsize=14)  # Set xlabels\n",
    "\n",
    "ax.set_ylim(-1, 1)  # Set y limits\n",
    "ax.set_yticks(linspace(-1, 1, 9, endpoint=True));  # Set y ticks\n",
    "\n",
    "ax.grid()\n",
    "ax.set_xlabel(\"x\")\n",
    "ax.set_ylabel(\"y\")\n",
    "ax.set_title(\"Sine and cosine curves\")\n",
    "ax.legend(loc=\"upper center\");\n",
    "\n",
    "# Pyplot API\n",
    "# plt.plot(x, y1, label=\"sin\")\n",
    "# plt.plot(x, y2, label=\"cos\")\n",
    "\n",
    "# plt.xlim(0.0, 2*pi)  # Set x limits\n",
    "# plt.xticks([t*pi/2 for t in range(5)],\n",
    "#           [r'$0$', r'$\\pi/2$', r'$\\pi$', r'$3\\pi/2$', r'$2\\pi$'],\n",
    "#           fontsize=14)  # Set x ticks and labels\n",
    "\n",
    "# plt.ylim(-1, 1)  # Set y limits\n",
    "# plt.yticks(linspace(-1, 1, 9, endpoint=True));  # Set y ticks\n",
    "\n",
    "# plt.grid()\n",
    "# plt.xlabel(\"x\")\n",
    "# plt.ylabel(\"y\")\n",
    "# plt.title(\"Sine and cosine curves\")\n",
    "# plt.legend(loc=\"upper center\");"
   ]
  },
  {
   "cell_type": "markdown",
   "metadata": {},
   "source": [
    "To define manually minor and major ticks, proceed in the following way."
   ]
  },
  {
   "cell_type": "code",
   "execution_count": null,
   "metadata": {},
   "outputs": [],
   "source": [
    "from matplotlib.ticker import MultipleLocator, FormatStrFormatter\n",
    "\n",
    "fig, ax = plt.subplots()\n",
    "ax.plot(x, y1, label=\"sin\")\n",
    "ax.plot(x, y2, label=\"cos\")\n",
    "\n",
    "ax.xaxis.set_major_locator(MultipleLocator(pi/2))\n",
    "ax.xaxis.set_major_formatter(FormatStrFormatter('%0.2f'))\n",
    "ax.xaxis.set_minor_locator(MultipleLocator(pi/6))\n",
    "\n",
    "ax.yaxis.set_major_locator(MultipleLocator(0.5))\n",
    "ax.yaxis.set_minor_locator(MultipleLocator(0.25))\n",
    "\n",
    "ax.grid()  # Set major grid\n",
    "ax.grid(which=\"minor\", linestyle=\":\")  # Set minor grid\n",
    "\n",
    "ax.set_xlabel(\"x\")\n",
    "ax.set_ylabel(\"y\")\n",
    "ax.set_title(\"Sine and cosine curves\")\n",
    "ax.legend(loc=\"upper center\");\n",
    "\n",
    "# Pyplot API\n",
    "# plt.plot(x, y1, label=\"sin\")\n",
    "# plt.plot(x, y2, label=\"cos\")\n",
    "\n",
    "# ax = plt.gca()  # gca stands for 'get current axis'\n",
    "# ax.xaxis.set_major_locator(MultipleLocator(pi/2))\n",
    "# ax.xaxis.set_major_formatter(FormatStrFormatter('%0.2f'))\n",
    "# ax.xaxis.set_minor_locator(MultipleLocator(pi/6))\n",
    "\n",
    "# ax.yaxis.set_major_locator(MultipleLocator(0.5))\n",
    "# ax.yaxis.set_minor_locator(MultipleLocator(0.25))\n",
    "\n",
    "# plt.grid()  # Set major grid\n",
    "# plt.grid(which=\"minor\", linestyle=\":\")  # Set minor grid\n",
    "\n",
    "# plt.xlabel(\"x\")\n",
    "# plt.ylabel(\"y\")\n",
    "# plt.title(\"Sine and cosine curves\")\n",
    "# plt.legend(loc=\"upper center\");"
   ]
  },
  {
   "cell_type": "markdown",
   "metadata": {},
   "source": [
    "It can be seen that the Pyplot API (on its own) is not sufficient for configuring major and minor locators."
   ]
  },
  {
   "cell_type": "code",
   "execution_count": null,
   "metadata": {},
   "outputs": [],
   "source": [
    "fig, ax = plt.subplots()\n",
    "ax.plot(x, y1, label=\"sin\")\n",
    "ax.plot(x, y2, label=\"cos\")\n",
    "ax.grid()\n",
    "ax.set_xlabel(\"x\")\n",
    "ax.set_ylabel(\"y\")\n",
    "ax.set_title(\"Sine and cosine curves\")\n",
    "ax.legend(loc=\"upper center\")\n",
    "\n",
    "# Moving spines\n",
    "ax.spines['right'].set_color('none')  # Erase right axis\n",
    "ax.spines['top'].set_color('none')  # Erase upper axis\n",
    "ax.spines['bottom'].set_position(('data', 0))  # Set x axis at y=0\n",
    "ax.spines['left'].set_position(('data', 0))  # Set y axis at x=0\n",
    "ax.xaxis.set_ticks_position('bottom')  # Set ticks below the x axis\n",
    "ax.yaxis.set_ticks_position('left')\n",
    "\n",
    "ax.set_xlim(0.0, 2*pi)  # Set x limits\n",
    "ax.set_xticks([t*pi/2 for t in range(5)])\n",
    "ax.set_xticklabels([r'$0$', r'$\\pi/2$', r'$\\pi$', r'$3\\pi/2$', r'$2\\pi$'],\n",
    "                   fontsize=14)  # Set x ticks and labels\n",
    "\n",
    "ax.set_ylim(-1, 1)  # Set y limits\n",
    "ax.set_yticks(linspace(-1, 1, 9, endpoint=True));  # Set y ticks\n",
    "\n",
    "# Pyplot API\n",
    "# plt.plot(x, y1, label=\"sin\")\n",
    "# plt.plot(x, y2, label=\"cos\")\n",
    "# plt.grid()\n",
    "# plt.xlabel(\"x\")\n",
    "# plt.ylabel(\"y\")\n",
    "# plt.title(\"Sine and cosine curves\")\n",
    "# plt.legend(loc=\"upper center\")\n",
    "\n",
    "# # Moving spines\n",
    "# ax = plt.gca()  # gca stands for 'get current axis'\n",
    "# ax.spines['right'].set_color('none')  # Erase right axis\n",
    "# ax.spines['top'].set_color('none')  # Erase upper axis\n",
    "# ax.spines['bottom'].set_position(('data', 0))  # Set x axis at y=0\n",
    "# ax.spines['left'].set_position(('data', 0))  # Set y axis at x=0\n",
    "# ax.xaxis.set_ticks_position('bottom')  # Set ticks below the x axis\n",
    "# ax.yaxis.set_ticks_position('left')\n",
    "\n",
    "# plt.xlim(0.0, 2*pi)  # Set x limits\n",
    "# plt.xticks([t*pi/2 for t in range(5)],\n",
    "#           [r'$0$', r'$\\pi/2$', r'$\\pi$', r'$3\\pi/2$', r'$2\\pi$'],\n",
    "#           fontsize=14)  # Set x ticks and labels\n",
    "\n",
    "# plt.ylim(-1, 1)  # Set y limits\n",
    "# plt.yticks(linspace(-1, 1, 9, endpoint=True)); # Set y ticks"
   ]
  },
  {
   "cell_type": "markdown",
   "metadata": {},
   "source": [
    "**Question**\n",
    "\n",
    "Plot the curve of $x \\mapsto e^{-x}$ for $x \\in [-1, 10]$.\n",
    "Apply the following changes:\n",
    "- wipe off the right and top spines;\n",
    "- move the left spine to $x=0$;\n",
    "- display the major grid;\n",
    "- modify minor y ticks with 0.25-interval;\n",
    "- display the minor grid with the dotted line style."
   ]
  },
  {
   "cell_type": "code",
   "execution_count": null,
   "metadata": {},
   "outputs": [],
   "source": [
    "# Answer"
   ]
  },
  {
   "cell_type": "markdown",
   "metadata": {},
   "source": [
    "### Line style\n",
    "The line style can be changed either with explicit parameters:"
   ]
  },
  {
   "cell_type": "code",
   "execution_count": null,
   "metadata": {},
   "outputs": [],
   "source": [
    "fig, ax = plt.subplots()\n",
    "ax.plot(x, y1, linestyle='dashed', color=\"red\", linewidth=2)\n",
    "ax.plot(x, y2, linestyle='dashdot', color='green', linewidth=2);"
   ]
  },
  {
   "cell_type": "markdown",
   "metadata": {},
   "source": [
    "Or with a concise code (check the [format string characters](http://matplotlib.org/api/pyplot_api.html#matplotlib.pyplot.plot)):"
   ]
  },
  {
   "cell_type": "code",
   "execution_count": null,
   "metadata": {},
   "outputs": [],
   "source": [
    "fig, ax = plt.subplots()\n",
    "ax.plot(x, y1, 'r--', linewidth=2)\n",
    "ax.plot(x, y2, 'g-.', linewidth=2);"
   ]
  },
  {
   "cell_type": "markdown",
   "metadata": {},
   "source": [
    "One can also add markers on the curves:"
   ]
  },
  {
   "cell_type": "code",
   "execution_count": null,
   "metadata": {},
   "outputs": [],
   "source": [
    "fig, ax = plt.subplots()\n",
    "ax.plot(x, y1, linestyle='', color=\"red\", linewidth=2, marker='^', markersize=7, markevery=2)\n",
    "ax.plot(x, y2, linestyle='', color='green', linewidth=2, marker='s', markersize=7, markevery=2);"
   ]
  },
  {
   "cell_type": "code",
   "execution_count": null,
   "metadata": {},
   "outputs": [],
   "source": [
    "fig, ax = plt.subplots()\n",
    "ax.plot(x, y1, label=\"sin\")\n",
    "ax.plot(x, y2, label=\"cos\")\n",
    "ax.grid()\n",
    "ax.set_xlabel(\"x\")\n",
    "ax.set_ylabel(\"y\")\n",
    "ax.set_title(\"Sine and cosine curves\")\n",
    "ax.legend(loc=\"upper center\")\n",
    "\n",
    "ax.set_xlim(0.0, 2*pi)  # Set x limits\n",
    "ax.set_xticks([t*pi/2 for t in range(5)])\n",
    "ax.set_xticklabels([r'$0$', r'$\\pi/2$', r'$\\pi$', r'$3\\pi/2$', r'$2\\pi$'],\n",
    "                   fontsize=14)  # Set x ticks and labels\n",
    "\n",
    "ax.set_ylim(-1, 1)  # Set y limits\n",
    "ax.set_yticks(linspace(-1, 1, 9, endpoint=True))  # Set y ticks\n",
    "\n",
    "ax.fill_between(x, 0, y1, color=\"blue\", alpha=0.1)\n",
    "ax.fill_between(x, 0, y2, color=\"green\", alpha=0.1);\n",
    "\n",
    "# Pyplot API\n",
    "# plt.plot(x, y1, label=\"sin\")\n",
    "# plt.plot(x, y2, label=\"cos\")\n",
    "# plt.grid()\n",
    "# plt.xlabel(\"x\")\n",
    "# plt.ylabel(\"y\")\n",
    "# plt.title(\"Sine and cosine curves\")\n",
    "# plt.legend(loc=\"upper center\")\n",
    "\n",
    "# plt.xlim(0.0, 2*pi)  # Set x limits\n",
    "# plt.xticks([t*pi/2 for t in range(5)],\n",
    "#           [r'$0$', r'$\\pi/2$', r'$\\pi$', r'$3\\pi/2$', r'$2\\pi$'],\n",
    "#           fontsize=14)  # Set x ticks and labels\n",
    "\n",
    "# plt.ylim(-1, 1)  # Set y limits\n",
    "# plt.yticks(linspace(-1, 1, 9, endpoint=True))  # Set y ticks\n",
    "\n",
    "# plt.fill_between(x, 0, y1, color=\"blue\", alpha=0.1)\n",
    "# plt.fill_between(x, 0, y2, color=\"green\", alpha=0.1);"
   ]
  },
  {
   "cell_type": "markdown",
   "metadata": {},
   "source": [
    "### Figure and subplots\n",
    "This example highlights two features:\n",
    "- defining the size of a figure;\n",
    "- drawing several subfigures on the same figure.\n",
    "\n",
    "The ticks in x and y can be shared, either in row (`sharex='row'` for instance), column (`sharey='row'` for instance) or for the whole figure (like here)."
   ]
  },
  {
   "cell_type": "code",
   "execution_count": null,
   "metadata": {},
   "outputs": [],
   "source": [
    "fig, ax = plt.subplots(1, 2, sharex=True, sharey=True, figsize=(10, 5))  # 1 row, 2 columns\n",
    "\n",
    "# First subplot\n",
    "ax[0].plot(x, y1, linewidth=2, color='red')\n",
    "ax[0].grid()\n",
    "ax[0].set_xlabel(\"x\")\n",
    "ax[0].set_ylabel(\"y\")\n",
    "ax[0].set_title(\"Sine curve\")\n",
    "\n",
    "# Second item\n",
    "ax[1].plot(x, y2*exp(-x/2), linewidth=2, color='green')\n",
    "ax[1].grid()\n",
    "ax[1].set_xlabel(\"x\")\n",
    "ax[1].set_ylabel(\"y\")\n",
    "ax[1].set_title(\"Cos * exp curve\");\n",
    "\n",
    "# Pyplot API\n",
    "# plt.figure(figsize=(10, 5))\n",
    "\n",
    "# plt.subplot(1, 2, 1)  # 1 row, 2 columns, Item 1\n",
    "# plt.plot(x, y1, linewidth=2, color='red')\n",
    "# plt.grid()\n",
    "# plt.xlabel(\"x\")\n",
    "# plt.ylabel(\"y\")\n",
    "# plt.title(\"Sine curve\")\n",
    "\n",
    "# plt.subplot(1, 2, 2)  # 1 row, 2 columns, Item 2\n",
    "# plt.plot(x, y2*exp(-x/2), linewidth=2, color='green')\n",
    "# plt.grid()\n",
    "# plt.xlabel(\"x\")\n",
    "# plt.ylabel(\"y\")\n",
    "# plt.title(\"Cos * exp curve\");"
   ]
  },
  {
   "cell_type": "markdown",
   "metadata": {},
   "source": [
    "You can have much more control on subplots with `GridSpec`."
   ]
  },
  {
   "cell_type": "code",
   "execution_count": null,
   "metadata": {},
   "outputs": [],
   "source": [
    "from matplotlib.gridspec import GridSpec\n",
    "\n",
    "gs = GridSpec(2, 2)  # 2 rows, 2 columns\n",
    "\n",
    "fig = plt.figure(figsize=(10, 10))\n",
    "ax = [fig.add_subplot(pos) for pos in [gs[0, :],  # First row, two columns\n",
    "                                       gs[1, 0],  # Second row, left column\n",
    "                                       gs[1, 1]]]  # Second row, right column\n",
    "\n",
    "# First row, two columns\n",
    "ax[0].plot(x, y2*exp(-x/2), linewidth=2, color='green')\n",
    "ax[0].grid()\n",
    "ax[0].set_xlabel(\"x\")\n",
    "ax[0].set_ylabel(\"y\")\n",
    "ax[0].set_title(\"Cos * exp curve\");\n",
    "\n",
    "# Second row, left column\n",
    "ax[1].plot(x, y1, linewidth=2, color='red')\n",
    "ax[1].grid()\n",
    "ax[1].set_xlabel(\"x\")\n",
    "ax[1].set_ylabel(\"y\")\n",
    "ax[1].set_title(\"Sine curve\")\n",
    "\n",
    "# Second row, right column\n",
    "ax[2].plot(x, cos(x), linewidth=2, color='red')\n",
    "ax[2].grid()\n",
    "ax[2].set_xlabel(\"x\")\n",
    "ax[2].set_ylabel(\"y\")\n",
    "ax[2].set_title(\"Cos curve\");"
   ]
  },
  {
   "cell_type": "markdown",
   "metadata": {},
   "source": [
    "**Question**\n",
    "\n",
    "Plot on a 2x2 matrix the curves of the functions:\n",
    "- $x \\mapsto cos(x)$;\n",
    "- $x \\mapsto sin(x)$;\n",
    "- $x \\mapsto exp(x)$;\n",
    "- $x \\mapsto |x|$.\n",
    "\n",
    "You can consider $x \\in [-5, 5]$.\n",
    "In addition, set the following parameters:\n",
    "- without sharing yticks;\n",
    "- sharing xticks on each row;\n",
    "- setting the figure size to (10, 10);\n",
    "- adding a grid and a title for each subplot."
   ]
  },
  {
   "cell_type": "code",
   "execution_count": null,
   "metadata": {},
   "outputs": [],
   "source": [
    "# Answer"
   ]
  },
  {
   "cell_type": "markdown",
   "metadata": {},
   "source": [
    "### Adding text\n",
    "Text can be added with the commands `text` and `annotate` (the main [text properties](http://matplotlib.org/users/text_props.html) are: `fontsize`, `fontweight` (bold), `fontstyle` (italic), `color` and so on).\n",
    "In the last case, the arrow properties can be changed."
   ]
  },
  {
   "cell_type": "code",
   "execution_count": null,
   "metadata": {},
   "outputs": [],
   "source": [
    "fig, ax = plt.subplots()\n",
    "ax.plot(x, y1, linewidth=2, color='red')\n",
    "\n",
    "ax.grid()\n",
    "ax.set_xlabel(\"x\")\n",
    "ax.set_ylabel(\"y\")\n",
    "ax.set_title(\"Sine curve\")\n",
    "\n",
    "ax.text(4, .5, r'$y = \\sin(x)$', fontsize=18)\n",
    "\n",
    "arrowprops = dict(facecolor='blue', width=2, headwidth=7, shrink=0.05)\n",
    "ax.annotate('Local min', xy=(3*pi/2, -1), xytext=(2, -0.5), fontsize=14,\n",
    "            horizontalalignment='right', verticalalignment='top', arrowprops=arrowprops);"
   ]
  },
  {
   "cell_type": "markdown",
   "metadata": {},
   "source": [
    "One can also go further in the ornaments by defining text frames (see the [frame properties](http://matplotlib.org/api/patches_api.html))."
   ]
  },
  {
   "cell_type": "code",
   "execution_count": null,
   "metadata": {},
   "outputs": [],
   "source": [
    "fig, ax = plt.subplots()\n",
    "\n",
    "ax.plot(x, y1, linewidth=2, color='red')\n",
    "\n",
    "ax.grid()\n",
    "ax.set_xlabel(\"x\")\n",
    "ax.set_ylabel(\"y\")\n",
    "ax.set_title(\"Sine curve\")\n",
    "\n",
    "bboxprops = dict(boxstyle=\"round\", facecolor=\"white\", edgecolor=\"0.5\", alpha=0.9)\n",
    "ax.text(3.7, 0., r'$y = \\sin(x)$', horizontalalignment=\"center\",\n",
    "        verticalalignment=\"center\", rotation=-65, fontsize=18, bbox=bboxprops)\n",
    "\n",
    "bboxprops = dict(boxstyle=\"rarrow\", facecolor=(0.8,0.9,0.9), edgecolor=\"b\", linewidth=2)\n",
    "ax.text(1.5, -0.5, \"Time\", horizontalalignment=\"center\", verticalalignment=\"center\",\n",
    "        fontsize=16, color=\"green\", bbox=bboxprops);"
   ]
  },
  {
   "cell_type": "markdown",
   "metadata": {},
   "source": [
    "### Nonlinear axis\n",
    "This example plots linear, log and mixed charts.\n",
    "The option `symlog` for symmetric log scale (negative axis) can also be used."
   ]
  },
  {
   "cell_type": "code",
   "execution_count": null,
   "metadata": {},
   "outputs": [],
   "source": [
    "fig, ax = plt.subplots(2, 2, figsize=(10, 10))\n",
    "\n",
    "for axis, (xscale, yscale) in zip(ax.flat, [(\"linear\", \"linear\"),\n",
    "                                       (\"log\", \"linear\"),\n",
    "                                       (\"linear\", \"log\"),\n",
    "                                       (\"log\", \"log\")]):\n",
    "    axis.plot(x, exp(-x), label=\"exp\")\n",
    "    axis.plot(x, x, label=\"linear\")\n",
    "    axis.grid(which=\"both\")  # Draw both major and minor tick grids\n",
    "    axis.set_xscale(xscale)\n",
    "    axis.set_yscale(yscale)\n",
    "    axis.legend(loc=\"upper left\")\n",
    "    axis.set_title(xscale + ' / ' + yscale)\n",
    "\n",
    "# Pyplot API\n",
    "# plt.figure(figsize=(10, 10))\n",
    "\n",
    "# for it, (xscale, yscale) in enumerate([(\"linear\", \"linear\"),\n",
    "#                                       (\"log\", \"linear\"),\n",
    "#                                       (\"linear\", \"log\"),\n",
    "#                                       (\"log\", \"log\")]):\n",
    "#     plt.subplot(2, 2, it+1)\n",
    "#     plt.plot(x, exp(-x), label=\"exp\")\n",
    "#     plt.plot(x, x, label=\"linear\")\n",
    "#     plt.grid(which=\"both\")  # Draw both major and minor tick grids\n",
    "#     plt.xscale(xscale)\n",
    "#     plt.yscale(yscale)\n",
    "#     plt.legend(loc=\"upper left\")\n",
    "#     plt.title(xscale + ' / ' + yscale)"
   ]
  },
  {
   "cell_type": "markdown",
   "metadata": {},
   "source": [
    "**Question**\n",
    "\n",
    "Plot the curves of $x \\mapsto \\frac{1}{10x}$ and $x \\mapsto \\frac{1}{x^2}$ for $x \\in [1, 100]$.\n",
    "Configure a logarithmic scale on the y axis."
   ]
  },
  {
   "cell_type": "code",
   "execution_count": null,
   "metadata": {},
   "outputs": [],
   "source": [
    "# Answer"
   ]
  },
  {
   "cell_type": "markdown",
   "metadata": {},
   "source": [
    "## Seaborn <a id=\"part1sec5\"></a>\n",
    "A way to produce nice plots with grid by default is to use the configuration provided by the `seaborn` package.\n",
    "It also defines a color palette and a font.\n",
    "\n",
    "Seaborn is a wrapper for Matplotlib.\n",
    "We will see in a forthcoming chapter that this package will be very convenient for plotting dataframes."
   ]
  },
  {
   "cell_type": "code",
   "execution_count": null,
   "metadata": {},
   "outputs": [],
   "source": [
    "import seaborn as sns\n",
    "\n",
    "sns.set()\n",
    "fig, ax = plt.subplots()\n",
    "ax.plot(x, y1);"
   ]
  },
  {
   "cell_type": "code",
   "execution_count": null,
   "metadata": {},
   "outputs": [],
   "source": [
    "sns.reset_defaults()  # Go back to original Matplotlib parameters"
   ]
  },
  {
   "cell_type": "markdown",
   "metadata": {},
   "source": [
    "# Other plots  <a id=\"part2\"></a>\n",
    "## Image <a id=\"part2sec1\"></a>\n",
    "Matplotlib makes it possible to show images using the submodule `image` (generally nicknamed `mpimg`).\n",
    "The following example reads an image and shows it.\n",
    "\n",
    "For more details, you can refer to the [image tutorial](http://matplotlib.org/users/image_tutorial.html) and the [image API](http://matplotlib.org/api/image_api.html)."
   ]
  },
  {
   "cell_type": "code",
   "execution_count": null,
   "metadata": {},
   "outputs": [],
   "source": [
    "import matplotlib.image as mpimg\n",
    "%matplotlib inline\n",
    "\n",
    "img = mpimg.imread('logo_ecn.png')\n",
    "\n",
    "fig, ax = plt.subplots(figsize=(10, 10))\n",
    "ax.imshow(img);\n",
    "\n",
    "# Pyplot API\n",
    "# plt.figure(figsize=(10, 10))\n",
    "# plt.imshow(img);"
   ]
  },
  {
   "cell_type": "markdown",
   "metadata": {},
   "source": [
    "Another interesting feature of plotting images is to show greyscale image with a particular [colormap](http://matplotlib.org/users/colormaps.html).\n",
    "The following example plots each component of the previous RGB image, with a specific colormap."
   ]
  },
  {
   "cell_type": "code",
   "execution_count": null,
   "metadata": {},
   "outputs": [],
   "source": [
    "fig = plt.figure(figsize=(10, 10))\n",
    "ax = []\n",
    "\n",
    "for i, color in enumerate(['Reds', 'Greens', 'Blues']):\n",
    "    ax.append(fig.add_subplot(2, 2, i+1))\n",
    "    axim = ax[-1].imshow(img[:, :, i], cmap=color)\n",
    "    fig.colorbar(axim)\n",
    "    ax[i].set_title(color)\n",
    "\n",
    "# Pyplot API\n",
    "# plt.figure(figsize=(10, 10))\n",
    "# for it, c in enumerate([\"Reds\", \"Greens\", \"Blues\"]):\n",
    "#     plt.subplot(2, 2, it+1)\n",
    "#     plt.imshow(img[:, :, it], cmap=c)\n",
    "#     plt.title(c)\n",
    "#     plt.colorbar();"
   ]
  },
  {
   "cell_type": "markdown",
   "metadata": {},
   "source": [
    "## Scatter <a id=\"part2sec2\"></a>\n",
    "See the [Scatter API](http://matplotlib.org/api/pyplot_api.html#matplotlib.pyplot.scatter) for more details."
   ]
  },
  {
   "cell_type": "code",
   "execution_count": null,
   "metadata": {},
   "outputs": [],
   "source": [
    "from numpy.random import randn\n",
    "from numpy import exp\n",
    "\n",
    "n = 100  # Number of points\n",
    "x = randn(n)\n",
    "y = randn(n)\n",
    "size = randn(n)\n",
    "color = randn(n)\n",
    "\n",
    "size = exp(size) * 100\n",
    "\n",
    "fig, ax = plt.subplots()\n",
    "ax.scatter(x, y, c=color, s=size, alpha=0.5)  # alpha tunes transparency\n",
    "ax.grid();\n",
    "\n",
    "# Pyplot API\n",
    "# plt.scatter(x, y, c=color, s=size, alpha=0.5)  # alpha tunes transparency\n",
    "# plt.grid();"
   ]
  },
  {
   "cell_type": "markdown",
   "metadata": {},
   "source": [
    "**Question**\n",
    "\n",
    "Let us consider the 200 points defined below by their two coordinates *x* and *y*.\n",
    "Each point is associated to a label (0 or 1), that indicates its membership.\n",
    "Scatter these points with one color for each group (0 or 1) and a transparency coefficient set to $0.5$."
   ]
  },
  {
   "cell_type": "code",
   "execution_count": null,
   "metadata": {},
   "outputs": [],
   "source": [
    "x = random.randn(200)\n",
    "y = random.randn(200)\n",
    "label = 2*x+y > 0"
   ]
  },
  {
   "cell_type": "code",
   "execution_count": null,
   "metadata": {},
   "outputs": [],
   "source": [
    "# Answer"
   ]
  },
  {
   "cell_type": "markdown",
   "metadata": {},
   "source": [
    "## Stem  <a id=\"part2sec3\"></a>\n",
    "See the [Stem API](https://matplotlib.org/api/pyplot_api.html#matplotlib.pyplot.stem) for more details."
   ]
  },
  {
   "cell_type": "code",
   "execution_count": null,
   "metadata": {},
   "outputs": [],
   "source": [
    "x = linspace(0.1, 2*pi, 20)\n",
    "\n",
    "fig, ax = plt.subplots()\n",
    "ax.stem(x, cos(2*x))\n",
    "ax.grid()\n",
    "\n",
    "# Pyplot API\n",
    "# plt.stem(x, cos(2*x))\n",
    "# plt.grid()"
   ]
  },
  {
   "cell_type": "markdown",
   "metadata": {},
   "source": [
    "## Histogram <a id=\"part2sec4\"></a>\n",
    "See the [Hist API](http://matplotlib.org/api/pyplot_api.html#matplotlib.pyplot.hist) for more details."
   ]
  },
  {
   "cell_type": "code",
   "execution_count": null,
   "metadata": {},
   "outputs": [],
   "source": [
    "n = 5000  # Number of points\n",
    "mu = 100  # Mean of distribution\n",
    "sigma = 15  # Standard deviation of distribution\n",
    "sample = mu + sigma * randn(n)\n",
    "\n",
    "num_bins = 50  # Number of bins\n",
    "\n",
    "fig, ax = plt.subplots(figsize=(10, 5))\n",
    "ax.hist(sample, bins=num_bins, density=True, facecolor='red', alpha=0.5, edgecolor='black')\n",
    "ax.set_xlabel('Smarts')\n",
    "ax.set_ylabel('Probability')\n",
    "ax.set_title(r'Histogram of intelligence quotients: $\\mu={mu}$, $\\sigma={sigma}$'.\n",
    "          format(mu=mu, sigma=sigma));\n",
    "\n",
    "# Pyplot API\n",
    "# plt.figure(figsize=(10, 5))\n",
    "# plt.hist(sample, num_bins, density=True, facecolor='red', alpha=0.5, edgecolor='black')\n",
    "# plt.xlabel('Smarts')\n",
    "# plt.ylabel('Probability')\n",
    "# plt.title(r'Histogram of intelligence quotients: $\\mu={mu}$, $\\sigma={sigma}$'.\n",
    "#           format(mu=mu, sigma=sigma));"
   ]
  },
  {
   "cell_type": "markdown",
   "metadata": {},
   "source": [
    "## Bar chart <a id=\"part2sec5\"></a>\n",
    "See the [Bar API](http://matplotlib.org/api/pyplot_api.html#matplotlib.pyplot.bar) for more details."
   ]
  },
  {
   "cell_type": "code",
   "execution_count": null,
   "metadata": {},
   "outputs": [],
   "source": [
    "# Some random data\n",
    "names = ['cars', 'houses', 'pets']\n",
    "means = random.rand(len(names)) * 10\n",
    "std = random.rand(len(names))"
   ]
  },
  {
   "cell_type": "code",
   "execution_count": null,
   "metadata": {},
   "outputs": [],
   "source": [
    "from numpy import arange\n",
    "\n",
    "index = arange(len(names))  # Bar positions\n",
    "\n",
    "fig, ax = plt.subplots()\n",
    "ax.bar(index, means, width=0.9, edgecolor=\"blue\", alpha=0.2, yerr=std)\n",
    "ax.set_xticks(index)\n",
    "ax.set_xticklabels(names, fontsize=14)\n",
    "\n",
    "# Set nice axes\n",
    "ax.spines['right'].set_color('none')  # Erase right axis\n",
    "ax.spines['top'].set_color('none')  # Erase upper axis"
   ]
  },
  {
   "cell_type": "markdown",
   "metadata": {},
   "source": [
    "## 3D plotting <a id=\"part2sec6\"></a>\n",
    "See the [mplot3d tutorial](https://matplotlib.org/tutorials/toolkits/mplot3d.html)\n",
    "and the [mplot3d API](https://matplotlib.org/api/toolkits/mplot3d.html#toolkit-mplot3d-api) for more details."
   ]
  },
  {
   "cell_type": "code",
   "execution_count": null,
   "metadata": {},
   "outputs": [],
   "source": [
    "from matplotlib import cm\n",
    "from mpl_toolkits.mplot3d import Axes3D\n",
    "from numpy import meshgrid\n",
    "\n",
    "# Polynomial\n",
    "x = arange(-5, 5, 0.25)\n",
    "y = arange(-5, 5, 0.25)\n",
    "X, Y = meshgrid(x, y)\n",
    "Z = X + Y**2\n",
    "\n",
    "# Initialize 3D plot\n",
    "fig = plt.figure(figsize=(10, 8))\n",
    "ax = fig.add_subplot(1, 1, 1, projection='3d')\n",
    "\n",
    "# Plot\n",
    "surf = ax.plot_surface(X, Y, Z, rstride=1, cstride=1, cmap=cm.coolwarm, linewidth=0)\n",
    "\n",
    "# Colorbar\n",
    "fig.colorbar(surf);"
   ]
  },
  {
   "cell_type": "markdown",
   "metadata": {},
   "source": [
    "## Pie chart <a id=\"part2sec7\"></a>\n",
    "See the [pie API](http://matplotlib.org/a []pi/pyplot_api.html#matplotlib.pyplot.pie)\n",
    "and [color names](http://matplotlib.org/examples/color/named_colors.html) for more details."
   ]
  },
  {
   "cell_type": "code",
   "execution_count": null,
   "metadata": {},
   "outputs": [],
   "source": [
    "# The slices will be ordered and plotted counter-clockwise.\n",
    "labels = 'Frogs', 'Hogs', 'Dogs', 'Logs'\n",
    "sizes = [15, 30, 45, 10]\n",
    "colors = ['yellowgreen', 'gold', 'lightskyblue', 'lightcoral']\n",
    "explode = 0, 0.1, 0, 0  # only \"explode\" the 2nd slice (i.e. 'Hogs')\n",
    "\n",
    "fig, ax = plt.subplots()\n",
    "ax.pie(sizes, explode=explode, labels=labels, colors=colors,\n",
    "       autopct='%1.1f%%', shadow=True, startangle=90)\n",
    "\n",
    "# Set aspect ratio to be equal so that pie is drawn as a circle.\n",
    "ax.axis('equal');"
   ]
  },
  {
   "cell_type": "markdown",
   "metadata": {},
   "source": [
    "# Saving figures <a id=\"part3\"></a>\n"
   ]
  },
  {
   "cell_type": "code",
   "execution_count": null,
   "metadata": {},
   "outputs": [],
   "source": [
    "fig = plt.figure(figsize=(10, 8))\n",
    "ax = fig.add_subplot(1, 1, 1, projection='3d')\n",
    "ax.plot_surface(X, Y, Z, rstride=1, cstride=1, cmap=cm.coolwarm, linewidth=0)\n",
    "\n",
    "fig.savefig(\"img/polynomial.png\", dpi=150, bbox_inches=\"tight\", transparent=True)"
   ]
  },
  {
   "cell_type": "markdown",
   "metadata": {},
   "source": [
    "Image saved:\n",
    "\n",
    "<img src=\"https://perso.lpsm.paris/~msangnier/files/pythonM2/img/polynomial.png\" width=500>"
   ]
  },
  {
   "cell_type": "markdown",
   "metadata": {},
   "source": [
    "# Exercises <a id=\"part5\"></a>\n",
    "## Exercise 1 <a id=\"part5sec1\"></a>\n",
    "Plot the probability density functions of the exponential distributions with parameters $\\lambda \\in \\{0.5, 1, \\dots, 2.5\\}$.\n",
    "Do not forget to add a legend with LaTeX support."
   ]
  },
  {
   "cell_type": "code",
   "execution_count": 1,
   "metadata": {},
   "outputs": [],
   "source": [
    "# Answer"
   ]
  },
  {
   "cell_type": "markdown",
   "metadata": {},
   "source": [
    "## Exercise 2 <a id=\"part5sec2\"></a>\n",
    "Plot the Lemniscate of Bernoulli parametrized by:\n",
    "$$\n",
    "    x = \\frac{\\sqrt 2 \\cos(t)}{\\sin(t)^2+1},\n",
    "$$\n",
    "$$\n",
    "    y = \\frac{\\sqrt 2 \\cos(t) \\sin(t)}{\\sin(t)^2+1}.\n",
    "$$\n",
    "Annotate the points parametrized by $t = \\frac{n\\pi}{4}$ for $n \\in \\{0, 1, \\dots 7\\}$."
   ]
  },
  {
   "cell_type": "code",
   "execution_count": null,
   "metadata": {},
   "outputs": [],
   "source": [
    "# Answer"
   ]
  },
  {
   "cell_type": "markdown",
   "metadata": {},
   "source": [
    "## Exercise 3 <a id=\"part5sec3\"></a>\n",
    "Subplot the mass function of a Poisson distribution with parameter $\\lambda \\in \\{1, 2, 4, 10\\}$.\n",
    "Set the limits of the y axis to [0, 0.4] for each subplot and do not forget to add a legend with LaTeX support."
   ]
  },
  {
   "cell_type": "code",
   "execution_count": null,
   "metadata": {},
   "outputs": [],
   "source": [
    "# Answer"
   ]
  },
  {
   "cell_type": "markdown",
   "metadata": {},
   "source": [
    "## Exercise 4 <a id=\"part5sec4\"></a>\n",
    "Create a 3D plot for the function $(x, y) \\mapsto x^2 + y^3$."
   ]
  },
  {
   "cell_type": "code",
   "execution_count": null,
   "metadata": {},
   "outputs": [],
   "source": [
    "# Answer"
   ]
  },
  {
   "cell_type": "markdown",
   "metadata": {},
   "source": [
    "## Exercise 5 <a id=\"part5sec6\"></a>\n",
    "Create a figure similar to Kandinsky's painture, called *several circles*.\n",
    "Do not forget to erase the axes and the ticks.\n",
    "<img src=\"https://perso.lpsm.paris/~msangnier/files/pythonM2/img/cercles.jpg\" width=300>"
   ]
  },
  {
   "cell_type": "code",
   "execution_count": null,
   "metadata": {},
   "outputs": [],
   "source": [
    "# Answer"
   ]
  },
  {
   "cell_type": "markdown",
   "metadata": {},
   "source": [
    "# References <a id=\"part6\"></a>\n",
    "- [Matplotlib beginner's guide](http://matplotlib.org/users/beginner.html).\n",
    "- [Pyplot API](http://matplotlib.org/api/pyplot_api.html).\n",
    "- [Scipy lecture notes](http://www.scipy-lectures.org/index.html)."
   ]
  }
 ],
 "metadata": {
  "kernelspec": {
   "display_name": "Python 3 (ipykernel)",
   "language": "python",
   "name": "python3"
  },
  "language_info": {
   "codemirror_mode": {
    "name": "ipython",
    "version": 3
   },
   "file_extension": ".py",
   "mimetype": "text/x-python",
   "name": "python",
   "nbconvert_exporter": "python",
   "pygments_lexer": "ipython3",
   "version": "3.8.13"
  }
 },
 "nbformat": 4,
 "nbformat_minor": 4
}
