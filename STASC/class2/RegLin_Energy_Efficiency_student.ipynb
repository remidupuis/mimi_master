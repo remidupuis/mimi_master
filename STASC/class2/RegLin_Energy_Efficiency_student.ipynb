{
 "cells": [
  {
   "cell_type": "markdown",
   "metadata": {},
   "source": [
    "# Linear Regression with Python\n",
    "\n"
   ]
  },
  {
   "cell_type": "markdown",
   "metadata": {},
   "source": [
    "We illustrate (non statistical) [linear regression](http://www.statsmodels.org/stable/regression.html#technical-documentation) on the [Energy efficiency Data Set](https://box.ec-nantes.fr/index.php/s/SjmM97F3DKZik5Z) with StatsModels."
   ]
  },
  {
   "cell_type": "markdown",
   "metadata": {},
   "source": [
    "This Data Set is collected from [UCI Machine Learning Repository](https://archive.ics.uci.edu/ml/datasets/Energy+efficiency). \n",
    "\n",
    "\n",
    "\"\n",
    "This study looked into assessing the heating load and cooling load requirements of buildings (that is, energy efficiency) as a function of building parameters.\n",
    "\n",
    "We perform energy analysis using 12 different building shapes simulated in Ecotect. The buildings differ with respect to the glazing area, the glazing area distribution, and the orientation, amongst other parameters. We simulate various settings as functions of the afore-mentioned characteristics to obtain 768 building shapes. The dataset comprises 768 samples and 8 features, aiming to predict two real valued responses.  \n",
    "\n",
    "Attribute Information:\n",
    "\n",
    "The dataset contains eight attributes (or features, denoted by X1...X8) and two responses (or outcomes, denoted by y1 and y2). The aim is to use the eight features to predict each of the two responses.\n",
    "\n",
    "Specifically:\n",
    "X1 Relative Compactness\n",
    "X2 Surface Area\n",
    "X3 Wall Area\n",
    "X4 Roof Area\n",
    "X5 Overall Height\n",
    "X6 Orientation\n",
    "X7 Glazing Area\n",
    "X8 Glazing Area Distribution\n",
    "y1 Heating Load\n",
    "y2 Cooling Load\n",
    "\"\n",
    "\n",
    "\n",
    "Note that these data were not collected on real buildings, they are in reality the results of building energy simulation models.\n",
    "\n",
    "\n",
    "You can find [here](https://box.ec-nantes.fr/index.php/s/SjmM97F3DKZik5Z) the article for which the data was produced."
   ]
  },
  {
   "cell_type": "code",
   "execution_count": 1,
   "metadata": {},
   "outputs": [],
   "source": [
    "import pandas as pd\n",
    "import numpy as np\n",
    "import matplotlib.pyplot as plt\n",
    "import seaborn as sns\n",
    "import os"
   ]
  },
  {
   "cell_type": "code",
   "execution_count": 5,
   "metadata": {},
   "outputs": [],
   "source": [
    "path = \"ENB2012_data.xlsx\""
   ]
  },
  {
   "cell_type": "markdown",
   "metadata": {},
   "source": [
    "> Import the data with pandas, show the head of the dataframe and produce summaries."
   ]
  },
  {
   "cell_type": "code",
   "execution_count": 8,
   "metadata": {},
   "outputs": [
    {
     "name": "stdout",
     "output_type": "stream",
     "text": [
      "     X1     X2     X3      X4   X5  X6   X7  X8     Y1     Y2\n",
      "0  0.98  514.5  294.0  110.25  7.0   2  0.0   0  15.55  21.33\n",
      "1  0.98  514.5  294.0  110.25  7.0   3  0.0   0  15.55  21.33\n",
      "2  0.98  514.5  294.0  110.25  7.0   4  0.0   0  15.55  21.33\n",
      "3  0.98  514.5  294.0  110.25  7.0   5  0.0   0  15.55  21.33\n",
      "4  0.90  563.5  318.5  122.50  7.0   2  0.0   0  20.84  28.28\n",
      "   Relative_Compactness  Surface_Area  Wall_Area  Roof_Area  Overall_Height  \\\n",
      "0                  0.98         514.5      294.0     110.25             7.0   \n",
      "1                  0.98         514.5      294.0     110.25             7.0   \n",
      "2                  0.98         514.5      294.0     110.25             7.0   \n",
      "3                  0.98         514.5      294.0     110.25             7.0   \n",
      "4                  0.90         563.5      318.5     122.50             7.0   \n",
      "\n",
      "   Orientation  Glazing_Area  Glazing_Area_Distribution  Heating_Load  \\\n",
      "0            2           0.0                          0         15.55   \n",
      "1            3           0.0                          0         15.55   \n",
      "2            4           0.0                          0         15.55   \n",
      "3            5           0.0                          0         15.55   \n",
      "4            2           0.0                          0         20.84   \n",
      "\n",
      "   Cooling_Load  \n",
      "0         21.33  \n",
      "1         21.33  \n",
      "2         21.33  \n",
      "3         21.33  \n",
      "4         28.28  \n"
     ]
    }
   ],
   "source": [
    "# Answer\n",
    "\n",
    "energ = pd.read_excel(path)\n",
    "print(energ.head())\n",
    "energ.columns = [\"Relative_Compactness\",\"Surface_Area\",\"Wall_Area\",\n",
    "                \"Roof_Area\", \"Overall_Height\",\"Orientation\",\"Glazing_Area\",\n",
    "                \"Glazing_Area_Distribution\", \"Heating_Load\", \"Cooling_Load\"]\n",
    "print(energ.head())"
   ]
  },
  {
   "cell_type": "code",
   "execution_count": 13,
   "metadata": {},
   "outputs": [
    {
     "name": "stdout",
     "output_type": "stream",
     "text": [
      "<class 'pandas.core.frame.DataFrame'>\n",
      "RangeIndex: 768 entries, 0 to 767\n",
      "Data columns (total 10 columns):\n",
      " #   Column                     Non-Null Count  Dtype  \n",
      "---  ------                     --------------  -----  \n",
      " 0   Relative_Compactness       768 non-null    float64\n",
      " 1   Surface_Area               768 non-null    float64\n",
      " 2   Wall_Area                  768 non-null    float64\n",
      " 3   Roof_Area                  768 non-null    float64\n",
      " 4   Overall_Height             768 non-null    float64\n",
      " 5   Orientation                768 non-null    int64  \n",
      " 6   Glazing_Area               768 non-null    float64\n",
      " 7   Glazing_Area_Distribution  768 non-null    int64  \n",
      " 8   Heating_Load               768 non-null    float64\n",
      " 9   Cooling_Load               768 non-null    float64\n",
      "dtypes: float64(8), int64(2)\n",
      "memory usage: 60.1 KB\n"
     ]
    }
   ],
   "source": [
    "energ.info()"
   ]
  },
  {
   "cell_type": "markdown",
   "metadata": {},
   "source": [
    "> The orientation variable should be categorical, change the type if necessary."
   ]
  },
  {
   "cell_type": "code",
   "execution_count": 16,
   "metadata": {},
   "outputs": [
    {
     "name": "stdout",
     "output_type": "stream",
     "text": [
      "<class 'pandas.core.frame.DataFrame'>\n",
      "RangeIndex: 768 entries, 0 to 767\n",
      "Data columns (total 10 columns):\n",
      " #   Column                     Non-Null Count  Dtype   \n",
      "---  ------                     --------------  -----   \n",
      " 0   Relative_Compactness       768 non-null    float64 \n",
      " 1   Surface_Area               768 non-null    float64 \n",
      " 2   Wall_Area                  768 non-null    float64 \n",
      " 3   Roof_Area                  768 non-null    float64 \n",
      " 4   Overall_Height             768 non-null    float64 \n",
      " 5   Orientation                768 non-null    category\n",
      " 6   Glazing_Area               768 non-null    float64 \n",
      " 7   Glazing_Area_Distribution  768 non-null    int64   \n",
      " 8   Heating_Load               768 non-null    float64 \n",
      " 9   Cooling_Load               768 non-null    float64 \n",
      "dtypes: category(1), float64(8), int64(1)\n",
      "memory usage: 55.1 KB\n"
     ]
    }
   ],
   "source": [
    "energ.Orientation = energ.Orientation.astype('category')\n",
    "energ.info()"
   ]
  },
  {
   "cell_type": "code",
   "execution_count": 17,
   "metadata": {},
   "outputs": [
    {
     "data": {
      "text/plain": [
       "Relative_Compactness         0\n",
       "Surface_Area                 0\n",
       "Wall_Area                    0\n",
       "Roof_Area                    0\n",
       "Overall_Height               0\n",
       "Orientation                  0\n",
       "Glazing_Area                 0\n",
       "Glazing_Area_Distribution    0\n",
       "Heating_Load                 0\n",
       "Cooling_Load                 0\n",
       "dtype: int64"
      ]
     },
     "execution_count": 17,
     "metadata": {},
     "output_type": "execute_result"
    }
   ],
   "source": [
    "energ.isna().sum()"
   ]
  },
  {
   "cell_type": "markdown",
   "metadata": {},
   "source": [
    "## Data Visualization"
   ]
  },
  {
   "cell_type": "markdown",
   "metadata": {},
   "source": [
    "> Plot the histograms of the variables. Be careful with quantitative variables that are actually discrete variables (use the `crosstab()` function of pandas). Describe and comment on these histograms."
   ]
  },
  {
   "cell_type": "code",
   "execution_count": 24,
   "metadata": {},
   "outputs": [
    {
     "data": {
      "text/plain": [
       "array([[<Axes: title={'center': 'Relative_Compactness'}>,\n",
       "        <Axes: title={'center': 'Surface_Area'}>,\n",
       "        <Axes: title={'center': 'Wall_Area'}>],\n",
       "       [<Axes: title={'center': 'Roof_Area'}>,\n",
       "        <Axes: title={'center': 'Overall_Height'}>,\n",
       "        <Axes: title={'center': 'Glazing_Area'}>],\n",
       "       [<Axes: title={'center': 'Glazing_Area_Distribution'}>,\n",
       "        <Axes: title={'center': 'Heating_Load'}>,\n",
       "        <Axes: title={'center': 'Cooling_Load'}>]], dtype=object)"
      ]
     },
     "execution_count": 24,
     "metadata": {},
     "output_type": "execute_result"
    },
    {
     "data": {
      "image/png": "[encoded data removed]",
      "text/plain": [
       "<Figure size 2500x1500 with 9 Axes>"
      ]
     },
     "metadata": {},
     "output_type": "display_data"
    }
   ],
   "source": [
    "energ.hist(figsize = (25,15), bins = 10)"
   ]
  },
  {
   "cell_type": "code",
   "execution_count": 20,
   "metadata": {},
   "outputs": [
    {
     "data": {
      "image/png": "[encoded data removed]",
      "text/plain": [
       "<Figure size 640x480 with 1 Axes>"
      ]
     },
     "metadata": {},
     "output_type": "display_data"
    }
   ],
   "source": [
    "cross = pd.crosstab(energ['Orientation'], \"freq\", normalize=True)\n",
    "cross.plot.bar()\n",
    "plt.show()"
   ]
  },
  {
   "cell_type": "markdown",
   "metadata": {},
   "source": [
    "## Correlation"
   ]
  },
  {
   "cell_type": "markdown",
   "metadata": {},
   "source": [
    "> Compute and plot the correlation bewteen `Heating_Load` and all the other variables."
   ]
  },
  {
   "cell_type": "markdown",
   "metadata": {},
   "source": [
    "> How do you explain that Surface is not correlated with Cold Heating? You can look at [the article](https://box.ec-nantes.fr/index.php/s/SjmM97F3DKZik5Z) for which the data was produced."
   ]
  },
  {
   "cell_type": "code",
   "execution_count": null,
   "metadata": {},
   "outputs": [],
   "source": [
    "#### TO DO ####"
   ]
  },
  {
   "cell_type": "markdown",
   "metadata": {},
   "source": [
    "## Simple Linear regression  "
   ]
  },
  {
   "cell_type": "markdown",
   "metadata": {},
   "source": [
    "We use linear regression to predict `Heating_Load` (or `Cooling Load`) from the other variables. We use the `formula` module from the `statsmodels` library to define these models. \n",
    "\n",
    "We start with simple linear regression (with a single feature). "
   ]
  },
  {
   "cell_type": "code",
   "execution_count": 43,
   "metadata": {},
   "outputs": [],
   "source": [
    "import statsmodels.formula.api as smf\n",
    "\n",
    "# model definition :\n",
    "my_model = smf.ols('Heating_Load ~ Relative_Compactness',data = energ) \n",
    "\n",
    "# fit the model on the data (least squares estimation of the coefficients)\n",
    "res = my_model.fit()"
   ]
  },
  {
   "cell_type": "code",
   "execution_count": 44,
   "metadata": {},
   "outputs": [
    {
     "data": {
      "text/html": [
       "<table class=\"simpletable\">\n",
       "<caption>OLS Regression Results</caption>\n",
       "<tr>\n",
       "  <th>Dep. Variable:</th>      <td>Heating_Load</td>   <th>  R-squared:         </th> <td>   0.387</td>\n",
       "</tr>\n",
       "<tr>\n",
       "  <th>Model:</th>                   <td>OLS</td>       <th>  Adj. R-squared:    </th> <td>   0.386</td>\n",
       "</tr>\n",
       "<tr>\n",
       "  <th>Method:</th>             <td>Least Squares</td>  <th>  F-statistic:       </th> <td>   484.0</td>\n",
       "</tr>\n",
       "<tr>\n",
       "  <th>Date:</th>             <td>Mon, 18 Sep 2023</td> <th>  Prob (F-statistic):</th> <td>1.59e-83</td>\n",
       "</tr>\n",
       "<tr>\n",
       "  <th>Time:</th>                 <td>13:43:10</td>     <th>  Log-Likelihood:    </th> <td> -2676.5</td>\n",
       "</tr>\n",
       "<tr>\n",
       "  <th>No. Observations:</th>      <td>   768</td>      <th>  AIC:               </th> <td>   5357.</td>\n",
       "</tr>\n",
       "<tr>\n",
       "  <th>Df Residuals:</th>          <td>   766</td>      <th>  BIC:               </th> <td>   5366.</td>\n",
       "</tr>\n",
       "<tr>\n",
       "  <th>Df Model:</th>              <td>     1</td>      <th>                     </th>     <td> </td>   \n",
       "</tr>\n",
       "<tr>\n",
       "  <th>Covariance Type:</th>      <td>nonrobust</td>    <th>                     </th>     <td> </td>   \n",
       "</tr>\n",
       "</table>\n",
       "<table class=\"simpletable\">\n",
       "<tr>\n",
       "            <td></td>              <th>coef</th>     <th>std err</th>      <th>t</th>      <th>P>|t|</th>  <th>[0.025</th>    <th>0.975]</th>  \n",
       "</tr>\n",
       "<tr>\n",
       "  <th>Intercept</th>            <td>  -23.0530</td> <td>    2.081</td> <td>  -11.076</td> <td> 0.000</td> <td>  -27.139</td> <td>  -18.967</td>\n",
       "</tr>\n",
       "<tr>\n",
       "  <th>Relative_Compactness</th> <td>   59.3591</td> <td>    2.698</td> <td>   22.001</td> <td> 0.000</td> <td>   54.063</td> <td>   64.655</td>\n",
       "</tr>\n",
       "</table>\n",
       "<table class=\"simpletable\">\n",
       "<tr>\n",
       "  <th>Omnibus:</th>       <td>53.989</td> <th>  Durbin-Watson:     </th> <td>   0.305</td>\n",
       "</tr>\n",
       "<tr>\n",
       "  <th>Prob(Omnibus):</th> <td> 0.000</td> <th>  Jarque-Bera (JB):  </th> <td>  64.326</td>\n",
       "</tr>\n",
       "<tr>\n",
       "  <th>Skew:</th>          <td> 0.708</td> <th>  Prob(JB):          </th> <td>1.08e-14</td>\n",
       "</tr>\n",
       "<tr>\n",
       "  <th>Kurtosis:</th>      <td> 3.059</td> <th>  Cond. No.          </th> <td>    15.0</td>\n",
       "</tr>\n",
       "</table><br/><br/>Notes:<br/>[1] Standard Errors assume that the covariance matrix of the errors is correctly specified."
      ],
      "text/latex": [
       "\\begin{center}\n",
       "\\begin{tabular}{lclc}\n",
       "\\toprule\n",
       "\\textbf{Dep. Variable:}        &  Heating\\_Load   & \\textbf{  R-squared:         } &     0.387   \\\\\n",
       "\\textbf{Model:}                &       OLS        & \\textbf{  Adj. R-squared:    } &     0.386   \\\\\n",
       "\\textbf{Method:}               &  Least Squares   & \\textbf{  F-statistic:       } &     484.0   \\\\\n",
       "\\textbf{Date:}                 & Mon, 18 Sep 2023 & \\textbf{  Prob (F-statistic):} &  1.59e-83   \\\\\n",
       "\\textbf{Time:}                 &     13:43:10     & \\textbf{  Log-Likelihood:    } &   -2676.5   \\\\\n",
       "\\textbf{No. Observations:}     &         768      & \\textbf{  AIC:               } &     5357.   \\\\\n",
       "\\textbf{Df Residuals:}         &         766      & \\textbf{  BIC:               } &     5366.   \\\\\n",
       "\\textbf{Df Model:}             &           1      & \\textbf{                     } &             \\\\\n",
       "\\textbf{Covariance Type:}      &    nonrobust     & \\textbf{                     } &             \\\\\n",
       "\\bottomrule\n",
       "\\end{tabular}\n",
       "\\begin{tabular}{lcccccc}\n",
       "                               & \\textbf{coef} & \\textbf{std err} & \\textbf{t} & \\textbf{P$> |$t$|$} & \\textbf{[0.025} & \\textbf{0.975]}  \\\\\n",
       "\\midrule\n",
       "\\textbf{Intercept}             &     -23.0530  &        2.081     &   -11.076  &         0.000        &      -27.139    &      -18.967     \\\\\n",
       "\\textbf{Relative\\_Compactness} &      59.3591  &        2.698     &    22.001  &         0.000        &       54.063    &       64.655     \\\\\n",
       "\\bottomrule\n",
       "\\end{tabular}\n",
       "\\begin{tabular}{lclc}\n",
       "\\textbf{Omnibus:}       & 53.989 & \\textbf{  Durbin-Watson:     } &    0.305  \\\\\n",
       "\\textbf{Prob(Omnibus):} &  0.000 & \\textbf{  Jarque-Bera (JB):  } &   64.326  \\\\\n",
       "\\textbf{Skew:}          &  0.708 & \\textbf{  Prob(JB):          } & 1.08e-14  \\\\\n",
       "\\textbf{Kurtosis:}      &  3.059 & \\textbf{  Cond. No.          } &     15.0  \\\\\n",
       "\\bottomrule\n",
       "\\end{tabular}\n",
       "%\\caption{OLS Regression Results}\n",
       "\\end{center}\n",
       "\n",
       "Notes: \\newline\n",
       " [1] Standard Errors assume that the covariance matrix of the errors is correctly specified."
      ],
      "text/plain": [
       "<class 'statsmodels.iolib.summary.Summary'>\n",
       "\"\"\"\n",
       "                            OLS Regression Results                            \n",
       "==============================================================================\n",
       "Dep. Variable:           Heating_Load   R-squared:                       0.387\n",
       "Model:                            OLS   Adj. R-squared:                  0.386\n",
       "Method:                 Least Squares   F-statistic:                     484.0\n",
       "Date:                Mon, 18 Sep 2023   Prob (F-statistic):           1.59e-83\n",
       "Time:                        13:43:10   Log-Likelihood:                -2676.5\n",
       "No. Observations:                 768   AIC:                             5357.\n",
       "Df Residuals:                     766   BIC:                             5366.\n",
       "Df Model:                           1                                         \n",
       "Covariance Type:            nonrobust                                         \n",
       "========================================================================================\n",
       "                           coef    std err          t      P>|t|      [0.025      0.975]\n",
       "----------------------------------------------------------------------------------------\n",
       "Intercept              -23.0530      2.081    -11.076      0.000     -27.139     -18.967\n",
       "Relative_Compactness    59.3591      2.698     22.001      0.000      54.063      64.655\n",
       "==============================================================================\n",
       "Omnibus:                       53.989   Durbin-Watson:                   0.305\n",
       "Prob(Omnibus):                  0.000   Jarque-Bera (JB):               64.326\n",
       "Skew:                           0.708   Prob(JB):                     1.08e-14\n",
       "Kurtosis:                       3.059   Cond. No.                         15.0\n",
       "==============================================================================\n",
       "\n",
       "Notes:\n",
       "[1] Standard Errors assume that the covariance matrix of the errors is correctly specified.\n",
       "\"\"\""
      ]
     },
     "execution_count": 44,
     "metadata": {},
     "output_type": "execute_result"
    }
   ],
   "source": [
    "res.summary()"
   ]
  },
  {
   "cell_type": "code",
   "execution_count": 45,
   "metadata": {},
   "outputs": [
    {
     "name": "stdout",
     "output_type": "stream",
     "text": [
      "Parameters:  Intercept              -23.053014\n",
      "Relative_Compactness    59.359053\n",
      "dtype: float64\n"
     ]
    }
   ],
   "source": [
    "print('Parameters: ', res.params)"
   ]
  },
  {
   "cell_type": "code",
   "execution_count": 47,
   "metadata": {},
   "outputs": [
    {
     "name": "stdout",
     "output_type": "stream",
     "text": [
      "Predicted values:  0      35.118858\n",
      "1      35.118858\n",
      "2      35.118858\n",
      "3      35.118858\n",
      "4      30.370133\n",
      "         ...    \n",
      "763    14.936780\n",
      "764    13.749599\n",
      "765    13.749599\n",
      "766    13.749599\n",
      "767    13.749599\n",
      "Length: 768, dtype: float64\n"
     ]
    }
   ],
   "source": [
    "print('Predicted values: ', res.fittedvalues) # predictions for `Heating_Load`"
   ]
  },
  {
   "cell_type": "markdown",
   "metadata": {},
   "source": [
    "A method called `predict` is also available for prediction with the estimator:"
   ]
  },
  {
   "cell_type": "code",
   "execution_count": 48,
   "metadata": {},
   "outputs": [
    {
     "data": {
      "text/plain": [
       "0    35.118858\n",
       "1    35.118858\n",
       "2    35.118858\n",
       "3    35.118858\n",
       "4    30.370133\n",
       "5    30.370133\n",
       "6    30.370133\n",
       "7    30.370133\n",
       "8    27.995771\n",
       "9    27.995771\n",
       "dtype: float64"
      ]
     },
     "execution_count": 48,
     "metadata": {},
     "output_type": "execute_result"
    }
   ],
   "source": [
    "res.predict(energ.iloc[:10,])  # Same as res.fittedvalues"
   ]
  },
  {
   "cell_type": "markdown",
   "metadata": {},
   "source": [
    "Several observations take the same value for `Relative_Compactness`, we then obtain the same prediction of `Heating_Load` for these last."
   ]
  },
  {
   "cell_type": "code",
   "execution_count": 50,
   "metadata": {},
   "outputs": [
    {
     "data": {
      "image/png": "[encoded data removed]",
      "text/plain": [
       "<Figure size 640x480 with 1 Axes>"
      ]
     },
     "metadata": {},
     "output_type": "display_data"
    }
   ],
   "source": [
    "# Plot the regression\n",
    "fig, ax = plt.subplots()\n",
    "ax.plot(energ['Relative_Compactness'], energ['Heating_Load'],'o',label=\"data\")\n",
    "ax.plot(energ['Relative_Compactness'], res.fittedvalues,\n",
    "        'r--.',label=\"prediction\")\n",
    "ax.legend(loc='best');"
   ]
  },
  {
   "cell_type": "markdown",
   "metadata": {},
   "source": [
    "We now compute residues:"
   ]
  },
  {
   "cell_type": "code",
   "execution_count": 53,
   "metadata": {},
   "outputs": [
    {
     "name": "stdout",
     "output_type": "stream",
     "text": [
      "0     -19.568858\n",
      "1     -19.568858\n",
      "2     -19.568858\n",
      "3     -19.568858\n",
      "4      -9.530133\n",
      "         ...    \n",
      "763     2.943220\n",
      "764     2.790401\n",
      "765     2.690401\n",
      "766     2.730401\n",
      "767     2.890401\n",
      "Length: 768, dtype: float64\n"
     ]
    }
   ],
   "source": [
    "residues = energ['Heating_Load'] - res.predict(energ['Relative_Compactness'])  # Same as res.resid\n",
    "print(residues)"
   ]
  },
  {
   "cell_type": "markdown",
   "metadata": {},
   "source": [
    "The sum of squared residuals (or residual sum of squares) is:"
   ]
  },
  {
   "cell_type": "code",
   "execution_count": 54,
   "metadata": {
    "scrolled": true
   },
   "outputs": [
    {
     "name": "stdout",
     "output_type": "stream",
     "text": [
      "47851.78724758723 47851.78724758722\n"
     ]
    }
   ],
   "source": [
    "print(np.sum(res.resid**2), res.ssr)"
   ]
  },
  {
   "cell_type": "markdown",
   "metadata": {},
   "source": [
    "## Several features in the linear regression model\n",
    "\n",
    "We now define regression model with several features:"
   ]
  },
  {
   "cell_type": "code",
   "execution_count": 60,
   "metadata": {},
   "outputs": [
    {
     "data": {
      "text/html": [
       "<table class=\"simpletable\">\n",
       "<caption>OLS Regression Results</caption>\n",
       "<tr>\n",
       "  <th>Dep. Variable:</th>      <td>Heating_Load</td>   <th>  R-squared:         </th> <td>   0.741</td> \n",
       "</tr>\n",
       "<tr>\n",
       "  <th>Model:</th>                   <td>OLS</td>       <th>  Adj. R-squared:    </th> <td>   0.741</td> \n",
       "</tr>\n",
       "<tr>\n",
       "  <th>Method:</th>             <td>Least Squares</td>  <th>  F-statistic:       </th> <td>   1095.</td> \n",
       "</tr>\n",
       "<tr>\n",
       "  <th>Date:</th>             <td>Mon, 18 Sep 2023</td> <th>  Prob (F-statistic):</th> <td>2.86e-225</td>\n",
       "</tr>\n",
       "<tr>\n",
       "  <th>Time:</th>                 <td>13:48:07</td>     <th>  Log-Likelihood:    </th> <td> -2345.5</td> \n",
       "</tr>\n",
       "<tr>\n",
       "  <th>No. Observations:</th>      <td>   768</td>      <th>  AIC:               </th> <td>   4697.</td> \n",
       "</tr>\n",
       "<tr>\n",
       "  <th>Df Residuals:</th>          <td>   765</td>      <th>  BIC:               </th> <td>   4711.</td> \n",
       "</tr>\n",
       "<tr>\n",
       "  <th>Df Model:</th>              <td>     2</td>      <th>                     </th>     <td> </td>    \n",
       "</tr>\n",
       "<tr>\n",
       "  <th>Covariance Type:</th>      <td>nonrobust</td>    <th>                     </th>     <td> </td>    \n",
       "</tr>\n",
       "</table>\n",
       "<table class=\"simpletable\">\n",
       "<tr>\n",
       "            <td></td>              <th>coef</th>     <th>std err</th>      <th>t</th>      <th>P>|t|</th>  <th>[0.025</th>    <th>0.975]</th>  \n",
       "</tr>\n",
       "<tr>\n",
       "  <th>Intercept</th>            <td>  -76.8475</td> <td>    2.144</td> <td>  -35.840</td> <td> 0.000</td> <td>  -81.057</td> <td>  -72.638</td>\n",
       "</tr>\n",
       "<tr>\n",
       "  <th>Relative_Compactness</th> <td>   71.1724</td> <td>    1.792</td> <td>   39.714</td> <td> 0.000</td> <td>   67.654</td> <td>   74.690</td>\n",
       "</tr>\n",
       "<tr>\n",
       "  <th>Wall_Area</th>            <td>    0.1406</td> <td>    0.004</td> <td>   32.348</td> <td> 0.000</td> <td>    0.132</td> <td>    0.149</td>\n",
       "</tr>\n",
       "</table>\n",
       "<table class=\"simpletable\">\n",
       "<tr>\n",
       "  <th>Omnibus:</th>       <td>42.711</td> <th>  Durbin-Watson:     </th> <td>   0.299</td>\n",
       "</tr>\n",
       "<tr>\n",
       "  <th>Prob(Omnibus):</th> <td> 0.000</td> <th>  Jarque-Bera (JB):  </th> <td>  93.909</td>\n",
       "</tr>\n",
       "<tr>\n",
       "  <th>Skew:</th>          <td> 0.321</td> <th>  Prob(JB):          </th> <td>4.05e-21</td>\n",
       "</tr>\n",
       "<tr>\n",
       "  <th>Kurtosis:</th>      <td> 4.588</td> <th>  Cond. No.          </th> <td>4.57e+03</td>\n",
       "</tr>\n",
       "</table><br/><br/>Notes:<br/>[1] Standard Errors assume that the covariance matrix of the errors is correctly specified.<br/>[2] The condition number is large, 4.57e+03. This might indicate that there are<br/>strong multicollinearity or other numerical problems."
      ],
      "text/latex": [
       "\\begin{center}\n",
       "\\begin{tabular}{lclc}\n",
       "\\toprule\n",
       "\\textbf{Dep. Variable:}        &  Heating\\_Load   & \\textbf{  R-squared:         } &     0.741   \\\\\n",
       "\\textbf{Model:}                &       OLS        & \\textbf{  Adj. R-squared:    } &     0.741   \\\\\n",
       "\\textbf{Method:}               &  Least Squares   & \\textbf{  F-statistic:       } &     1095.   \\\\\n",
       "\\textbf{Date:}                 & Mon, 18 Sep 2023 & \\textbf{  Prob (F-statistic):} & 2.86e-225   \\\\\n",
       "\\textbf{Time:}                 &     13:48:07     & \\textbf{  Log-Likelihood:    } &   -2345.5   \\\\\n",
       "\\textbf{No. Observations:}     &         768      & \\textbf{  AIC:               } &     4697.   \\\\\n",
       "\\textbf{Df Residuals:}         &         765      & \\textbf{  BIC:               } &     4711.   \\\\\n",
       "\\textbf{Df Model:}             &           2      & \\textbf{                     } &             \\\\\n",
       "\\textbf{Covariance Type:}      &    nonrobust     & \\textbf{                     } &             \\\\\n",
       "\\bottomrule\n",
       "\\end{tabular}\n",
       "\\begin{tabular}{lcccccc}\n",
       "                               & \\textbf{coef} & \\textbf{std err} & \\textbf{t} & \\textbf{P$> |$t$|$} & \\textbf{[0.025} & \\textbf{0.975]}  \\\\\n",
       "\\midrule\n",
       "\\textbf{Intercept}             &     -76.8475  &        2.144     &   -35.840  &         0.000        &      -81.057    &      -72.638     \\\\\n",
       "\\textbf{Relative\\_Compactness} &      71.1724  &        1.792     &    39.714  &         0.000        &       67.654    &       74.690     \\\\\n",
       "\\textbf{Wall\\_Area}            &       0.1406  &        0.004     &    32.348  &         0.000        &        0.132    &        0.149     \\\\\n",
       "\\bottomrule\n",
       "\\end{tabular}\n",
       "\\begin{tabular}{lclc}\n",
       "\\textbf{Omnibus:}       & 42.711 & \\textbf{  Durbin-Watson:     } &    0.299  \\\\\n",
       "\\textbf{Prob(Omnibus):} &  0.000 & \\textbf{  Jarque-Bera (JB):  } &   93.909  \\\\\n",
       "\\textbf{Skew:}          &  0.321 & \\textbf{  Prob(JB):          } & 4.05e-21  \\\\\n",
       "\\textbf{Kurtosis:}      &  4.588 & \\textbf{  Cond. No.          } & 4.57e+03  \\\\\n",
       "\\bottomrule\n",
       "\\end{tabular}\n",
       "%\\caption{OLS Regression Results}\n",
       "\\end{center}\n",
       "\n",
       "Notes: \\newline\n",
       " [1] Standard Errors assume that the covariance matrix of the errors is correctly specified. \\newline\n",
       " [2] The condition number is large, 4.57e+03. This might indicate that there are \\newline\n",
       " strong multicollinearity or other numerical problems."
      ],
      "text/plain": [
       "<class 'statsmodels.iolib.summary.Summary'>\n",
       "\"\"\"\n",
       "                            OLS Regression Results                            \n",
       "==============================================================================\n",
       "Dep. Variable:           Heating_Load   R-squared:                       0.741\n",
       "Model:                            OLS   Adj. R-squared:                  0.741\n",
       "Method:                 Least Squares   F-statistic:                     1095.\n",
       "Date:                Mon, 18 Sep 2023   Prob (F-statistic):          2.86e-225\n",
       "Time:                        13:48:07   Log-Likelihood:                -2345.5\n",
       "No. Observations:                 768   AIC:                             4697.\n",
       "Df Residuals:                     765   BIC:                             4711.\n",
       "Df Model:                           2                                         \n",
       "Covariance Type:            nonrobust                                         \n",
       "========================================================================================\n",
       "                           coef    std err          t      P>|t|      [0.025      0.975]\n",
       "----------------------------------------------------------------------------------------\n",
       "Intercept              -76.8475      2.144    -35.840      0.000     -81.057     -72.638\n",
       "Relative_Compactness    71.1724      1.792     39.714      0.000      67.654      74.690\n",
       "Wall_Area                0.1406      0.004     32.348      0.000       0.132       0.149\n",
       "==============================================================================\n",
       "Omnibus:                       42.711   Durbin-Watson:                   0.299\n",
       "Prob(Omnibus):                  0.000   Jarque-Bera (JB):               93.909\n",
       "Skew:                           0.321   Prob(JB):                     4.05e-21\n",
       "Kurtosis:                       4.588   Cond. No.                     4.57e+03\n",
       "==============================================================================\n",
       "\n",
       "Notes:\n",
       "[1] Standard Errors assume that the covariance matrix of the errors is correctly specified.\n",
       "[2] The condition number is large, 4.57e+03. This might indicate that there are\n",
       "strong multicollinearity or other numerical problems.\n",
       "\"\"\""
      ]
     },
     "execution_count": 60,
     "metadata": {},
     "output_type": "execute_result"
    }
   ],
   "source": [
    "import statsmodels.formula.api as smf\n",
    "\n",
    "model2 =  smf.ols('Heating_Load ~ Relative_Compactness + Wall_Area',data = energ)\n",
    "res2 = model2.fit()\n",
    "res2.summary()"
   ]
  },
  {
   "cell_type": "markdown",
   "metadata": {},
   "source": [
    "The sum of squared residuals (SSR) necessarily decreases as we add more features into the regression:"
   ]
  },
  {
   "cell_type": "code",
   "execution_count": 61,
   "metadata": {},
   "outputs": [
    {
     "data": {
      "text/plain": [
       "20209.37857510249"
      ]
     },
     "execution_count": 61,
     "metadata": {},
     "output_type": "execute_result"
    }
   ],
   "source": [
    "res2.ssr"
   ]
  },
  {
   "cell_type": "markdown",
   "metadata": {},
   "source": [
    "The coefficients of the models are the following:"
   ]
  },
  {
   "cell_type": "code",
   "execution_count": 62,
   "metadata": {},
   "outputs": [
    {
     "data": {
      "text/plain": [
       "Intercept              -76.847527\n",
       "Relative_Compactness    71.172380\n",
       "Wall_Area                0.140556\n",
       "dtype: float64"
      ]
     },
     "execution_count": 62,
     "metadata": {},
     "output_type": "execute_result"
    }
   ],
   "source": [
    "res2.params"
   ]
  },
  {
   "cell_type": "markdown",
   "metadata": {},
   "source": [
    "> Check that this vector is equal to the Least Squares Estimator given in the slides of the lecture:\n",
    "$$ \\theta = (X'X)^{-1} X' Y  $$ "
   ]
  },
  {
   "cell_type": "code",
   "execution_count": null,
   "metadata": {},
   "outputs": [],
   "source": [
    "#### TO DO ####"
   ]
  },
  {
   "cell_type": "markdown",
   "metadata": {},
   "source": [
    "You can includes categorical variables in the model using the `C()` operator:"
   ]
  },
  {
   "cell_type": "code",
   "execution_count": 63,
   "metadata": {},
   "outputs": [
    {
     "data": {
      "text/html": [
       "<table class=\"simpletable\">\n",
       "<caption>OLS Regression Results</caption>\n",
       "<tr>\n",
       "  <th>Dep. Variable:</th>      <td>Heating_Load</td>   <th>  R-squared:         </th> <td>   0.741</td> \n",
       "</tr>\n",
       "<tr>\n",
       "  <th>Model:</th>                   <td>OLS</td>       <th>  Adj. R-squared:    </th> <td>   0.740</td> \n",
       "</tr>\n",
       "<tr>\n",
       "  <th>Method:</th>             <td>Least Squares</td>  <th>  F-statistic:       </th> <td>   436.5</td> \n",
       "</tr>\n",
       "<tr>\n",
       "  <th>Date:</th>             <td>Mon, 18 Sep 2023</td> <th>  Prob (F-statistic):</th> <td>7.56e-221</td>\n",
       "</tr>\n",
       "<tr>\n",
       "  <th>Time:</th>                 <td>13:49:28</td>     <th>  Log-Likelihood:    </th> <td> -2345.4</td> \n",
       "</tr>\n",
       "<tr>\n",
       "  <th>No. Observations:</th>      <td>   768</td>      <th>  AIC:               </th> <td>   4703.</td> \n",
       "</tr>\n",
       "<tr>\n",
       "  <th>Df Residuals:</th>          <td>   762</td>      <th>  BIC:               </th> <td>   4731.</td> \n",
       "</tr>\n",
       "<tr>\n",
       "  <th>Df Model:</th>              <td>     5</td>      <th>                     </th>     <td> </td>    \n",
       "</tr>\n",
       "<tr>\n",
       "  <th>Covariance Type:</th>      <td>nonrobust</td>    <th>                     </th>     <td> </td>    \n",
       "</tr>\n",
       "</table>\n",
       "<table class=\"simpletable\">\n",
       "<tr>\n",
       "            <td></td>              <th>coef</th>     <th>std err</th>      <th>t</th>      <th>P>|t|</th>  <th>[0.025</th>    <th>0.975]</th>  \n",
       "</tr>\n",
       "<tr>\n",
       "  <th>Intercept</th>            <td>  -76.8419</td> <td>    2.172</td> <td>  -35.373</td> <td> 0.000</td> <td>  -81.106</td> <td>  -72.577</td>\n",
       "</tr>\n",
       "<tr>\n",
       "  <th>C(Orientation)[T.3]</th>  <td>    0.0678</td> <td>    0.526</td> <td>    0.129</td> <td> 0.897</td> <td>   -0.964</td> <td>    1.100</td>\n",
       "</tr>\n",
       "<tr>\n",
       "  <th>C(Orientation)[T.4]</th>  <td>   -0.0530</td> <td>    0.526</td> <td>   -0.101</td> <td> 0.920</td> <td>   -1.085</td> <td>    0.979</td>\n",
       "</tr>\n",
       "<tr>\n",
       "  <th>C(Orientation)[T.5]</th>  <td>   -0.0375</td> <td>    0.526</td> <td>   -0.071</td> <td> 0.943</td> <td>   -1.069</td> <td>    0.994</td>\n",
       "</tr>\n",
       "<tr>\n",
       "  <th>Relative_Compactness</th> <td>   71.1724</td> <td>    1.796</td> <td>   39.638</td> <td> 0.000</td> <td>   67.648</td> <td>   74.697</td>\n",
       "</tr>\n",
       "<tr>\n",
       "  <th>Wall_Area</th>            <td>    0.1406</td> <td>    0.004</td> <td>   32.285</td> <td> 0.000</td> <td>    0.132</td> <td>    0.149</td>\n",
       "</tr>\n",
       "</table>\n",
       "<table class=\"simpletable\">\n",
       "<tr>\n",
       "  <th>Omnibus:</th>       <td>42.715</td> <th>  Durbin-Watson:     </th> <td>   0.299</td>\n",
       "</tr>\n",
       "<tr>\n",
       "  <th>Prob(Omnibus):</th> <td> 0.000</td> <th>  Jarque-Bera (JB):  </th> <td>  93.924</td>\n",
       "</tr>\n",
       "<tr>\n",
       "  <th>Skew:</th>          <td> 0.321</td> <th>  Prob(JB):          </th> <td>4.02e-21</td>\n",
       "</tr>\n",
       "<tr>\n",
       "  <th>Kurtosis:</th>      <td> 4.589</td> <th>  Cond. No.          </th> <td>4.59e+03</td>\n",
       "</tr>\n",
       "</table><br/><br/>Notes:<br/>[1] Standard Errors assume that the covariance matrix of the errors is correctly specified.<br/>[2] The condition number is large, 4.59e+03. This might indicate that there are<br/>strong multicollinearity or other numerical problems."
      ],
      "text/latex": [
       "\\begin{center}\n",
       "\\begin{tabular}{lclc}\n",
       "\\toprule\n",
       "\\textbf{Dep. Variable:}        &  Heating\\_Load   & \\textbf{  R-squared:         } &     0.741   \\\\\n",
       "\\textbf{Model:}                &       OLS        & \\textbf{  Adj. R-squared:    } &     0.740   \\\\\n",
       "\\textbf{Method:}               &  Least Squares   & \\textbf{  F-statistic:       } &     436.5   \\\\\n",
       "\\textbf{Date:}                 & Mon, 18 Sep 2023 & \\textbf{  Prob (F-statistic):} & 7.56e-221   \\\\\n",
       "\\textbf{Time:}                 &     13:49:28     & \\textbf{  Log-Likelihood:    } &   -2345.4   \\\\\n",
       "\\textbf{No. Observations:}     &         768      & \\textbf{  AIC:               } &     4703.   \\\\\n",
       "\\textbf{Df Residuals:}         &         762      & \\textbf{  BIC:               } &     4731.   \\\\\n",
       "\\textbf{Df Model:}             &           5      & \\textbf{                     } &             \\\\\n",
       "\\textbf{Covariance Type:}      &    nonrobust     & \\textbf{                     } &             \\\\\n",
       "\\bottomrule\n",
       "\\end{tabular}\n",
       "\\begin{tabular}{lcccccc}\n",
       "                               & \\textbf{coef} & \\textbf{std err} & \\textbf{t} & \\textbf{P$> |$t$|$} & \\textbf{[0.025} & \\textbf{0.975]}  \\\\\n",
       "\\midrule\n",
       "\\textbf{Intercept}             &     -76.8419  &        2.172     &   -35.373  &         0.000        &      -81.106    &      -72.577     \\\\\n",
       "\\textbf{C(Orientation)[T.3]}   &       0.0678  &        0.526     &     0.129  &         0.897        &       -0.964    &        1.100     \\\\\n",
       "\\textbf{C(Orientation)[T.4]}   &      -0.0530  &        0.526     &    -0.101  &         0.920        &       -1.085    &        0.979     \\\\\n",
       "\\textbf{C(Orientation)[T.5]}   &      -0.0375  &        0.526     &    -0.071  &         0.943        &       -1.069    &        0.994     \\\\\n",
       "\\textbf{Relative\\_Compactness} &      71.1724  &        1.796     &    39.638  &         0.000        &       67.648    &       74.697     \\\\\n",
       "\\textbf{Wall\\_Area}            &       0.1406  &        0.004     &    32.285  &         0.000        &        0.132    &        0.149     \\\\\n",
       "\\bottomrule\n",
       "\\end{tabular}\n",
       "\\begin{tabular}{lclc}\n",
       "\\textbf{Omnibus:}       & 42.715 & \\textbf{  Durbin-Watson:     } &    0.299  \\\\\n",
       "\\textbf{Prob(Omnibus):} &  0.000 & \\textbf{  Jarque-Bera (JB):  } &   93.924  \\\\\n",
       "\\textbf{Skew:}          &  0.321 & \\textbf{  Prob(JB):          } & 4.02e-21  \\\\\n",
       "\\textbf{Kurtosis:}      &  4.589 & \\textbf{  Cond. No.          } & 4.59e+03  \\\\\n",
       "\\bottomrule\n",
       "\\end{tabular}\n",
       "%\\caption{OLS Regression Results}\n",
       "\\end{center}\n",
       "\n",
       "Notes: \\newline\n",
       " [1] Standard Errors assume that the covariance matrix of the errors is correctly specified. \\newline\n",
       " [2] The condition number is large, 4.59e+03. This might indicate that there are \\newline\n",
       " strong multicollinearity or other numerical problems."
      ],
      "text/plain": [
       "<class 'statsmodels.iolib.summary.Summary'>\n",
       "\"\"\"\n",
       "                            OLS Regression Results                            \n",
       "==============================================================================\n",
       "Dep. Variable:           Heating_Load   R-squared:                       0.741\n",
       "Model:                            OLS   Adj. R-squared:                  0.740\n",
       "Method:                 Least Squares   F-statistic:                     436.5\n",
       "Date:                Mon, 18 Sep 2023   Prob (F-statistic):          7.56e-221\n",
       "Time:                        13:49:28   Log-Likelihood:                -2345.4\n",
       "No. Observations:                 768   AIC:                             4703.\n",
       "Df Residuals:                     762   BIC:                             4731.\n",
       "Df Model:                           5                                         \n",
       "Covariance Type:            nonrobust                                         \n",
       "========================================================================================\n",
       "                           coef    std err          t      P>|t|      [0.025      0.975]\n",
       "----------------------------------------------------------------------------------------\n",
       "Intercept              -76.8419      2.172    -35.373      0.000     -81.106     -72.577\n",
       "C(Orientation)[T.3]      0.0678      0.526      0.129      0.897      -0.964       1.100\n",
       "C(Orientation)[T.4]     -0.0530      0.526     -0.101      0.920      -1.085       0.979\n",
       "C(Orientation)[T.5]     -0.0375      0.526     -0.071      0.943      -1.069       0.994\n",
       "Relative_Compactness    71.1724      1.796     39.638      0.000      67.648      74.697\n",
       "Wall_Area                0.1406      0.004     32.285      0.000       0.132       0.149\n",
       "==============================================================================\n",
       "Omnibus:                       42.715   Durbin-Watson:                   0.299\n",
       "Prob(Omnibus):                  0.000   Jarque-Bera (JB):               93.924\n",
       "Skew:                           0.321   Prob(JB):                     4.02e-21\n",
       "Kurtosis:                       4.589   Cond. No.                     4.59e+03\n",
       "==============================================================================\n",
       "\n",
       "Notes:\n",
       "[1] Standard Errors assume that the covariance matrix of the errors is correctly specified.\n",
       "[2] The condition number is large, 4.59e+03. This might indicate that there are\n",
       "strong multicollinearity or other numerical problems.\n",
       "\"\"\""
      ]
     },
     "execution_count": 63,
     "metadata": {},
     "output_type": "execute_result"
    }
   ],
   "source": [
    "model3 =  smf.ols('Heating_Load ~ Relative_Compactness + Wall_Area + C(Orientation)',data = energ)\n",
    "res3 = model3.fit()\n",
    "res3.summary()"
   ]
  },
  {
   "cell_type": "code",
   "execution_count": 64,
   "metadata": {},
   "outputs": [
    {
     "data": {
      "text/plain": [
       "20207.71122433687"
      ]
     },
     "execution_count": 64,
     "metadata": {},
     "output_type": "execute_result"
    }
   ],
   "source": [
    "res3.ssr"
   ]
  },
  {
   "cell_type": "markdown",
   "metadata": {},
   "source": [
    "##  Scikit-learn for linear regression"
   ]
  },
  {
   "cell_type": "markdown",
   "metadata": {},
   "source": [
    "As we can see in the previous procedures, there are many statistical summaries and methods are provided by Statsmodels for the analysis of linear regression, although we have not really exploit these possibilties, by focusing on predictions.\n",
    "\n",
    "The [scikit-learn library](https://scikit-learn.org/stable/index.html), which is totally dedicated to machine learning methods, obviously provides [linear regression methods](https://scikit-learn.org/stable/modules/generated/sklearn.linear_model.LinearRegression.html) (without statistics). In the following of the labs, we will mainly use [scikit-learn library](https://scikit-learn.org/stable/index.html).\n",
    "\n",
    "Procedures of scikit-learn generally require numpy arrays (not data frames)."
   ]
  },
  {
   "cell_type": "code",
   "execution_count": 67,
   "metadata": {},
   "outputs": [
    {
     "data": {
      "text/plain": [
       "0.844613532161097"
      ]
     },
     "execution_count": 67,
     "metadata": {},
     "output_type": "execute_result"
    }
   ],
   "source": [
    "from sklearn.linear_model import LinearRegression\n",
    "\n",
    "data = energ.values # np array\n",
    "X_features = data[:,0:6]\n",
    "y = data[:,9]\n",
    "\n",
    "reg = LinearRegression().fit(X_features, y)\n",
    "\n",
    "reg.score(X_features, y)"
   ]
  },
  {
   "cell_type": "code",
   "execution_count": null,
   "metadata": {},
   "outputs": [
    {
     "data": {
      "text/plain": [
       "array([-7.18119067e+01, -3.66694905e+12,  3.66694905e+12,  7.33389811e+12,\n",
       "        4.27234650e+00,  1.18528388e-01])"
      ]
     },
     "execution_count": 144,
     "metadata": {},
     "output_type": "execute_result"
    }
   ],
   "source": [
    "reg.coef_"
   ]
  },
  {
   "cell_type": "code",
   "execution_count": null,
   "metadata": {},
   "outputs": [
    {
     "data": {
      "text/plain": [
       "104.33776041666667"
      ]
     },
     "execution_count": 145,
     "metadata": {},
     "output_type": "execute_result"
    }
   ],
   "source": [
    "reg.intercept_"
   ]
  },
  {
   "cell_type": "code",
   "execution_count": null,
   "metadata": {},
   "outputs": [
    {
     "data": {
      "text/plain": [
       "array([29.59977106, 29.71829944])"
      ]
     },
     "execution_count": 146,
     "metadata": {},
     "output_type": "execute_result"
    }
   ],
   "source": [
    "reg.predict(X_features[1:3,0:6])"
   ]
  },
  {
   "cell_type": "code",
   "execution_count": 68,
   "metadata": {},
   "outputs": [
    {
     "data": {
      "text/plain": [
       "array([21.33, 21.33])"
      ]
     },
     "execution_count": 68,
     "metadata": {},
     "output_type": "execute_result"
    }
   ],
   "source": [
    "y[1:3]"
   ]
  },
  {
   "cell_type": "markdown",
   "metadata": {},
   "source": [
    "## Exercice "
   ]
  },
  {
   "cell_type": "markdown",
   "metadata": {},
   "source": [
    "The [Wind Speed dataset](https://www.kaggle.com/datasets/fedesoriano/wind-speed-prediction-dataset?resource=download) contains 6574 instances of daily averaged responses from an array of 5 weather variables sensors embedded in a meteorological station. \n",
    "\n",
    "The dataset is also avaible [here](https://box.ec-nantes.fr/index.php/s/QHNiDYJZLCY3Pr5)."
   ]
  },
  {
   "cell_type": "markdown",
   "metadata": {},
   "source": [
    "Propose a similar analysis for the Wind Speed Dataset : exploratory statistics, and then linear regression to predict the Wind Speed Variable."
   ]
  },
  {
   "cell_type": "code",
   "execution_count": null,
   "metadata": {},
   "outputs": [],
   "source": [
    "#### TO DO ####"
   ]
  }
 ],
 "metadata": {
  "kernelspec": {
   "display_name": "Python 3 (ipykernel)",
   "language": "python",
   "name": "python3"
  },
  "language_info": {
   "codemirror_mode": {
    "name": "ipython",
    "version": 3
   },
   "file_extension": ".py",
   "mimetype": "text/x-python",
   "name": "python",
   "nbconvert_exporter": "python",
   "pygments_lexer": "ipython3",
   "version": "3.10.12"
  }
 },
 "nbformat": 4,
 "nbformat_minor": 4
}
