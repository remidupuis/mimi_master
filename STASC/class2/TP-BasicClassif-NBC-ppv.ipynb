{
 "cells": [
  {
   "cell_type": "markdown",
   "metadata": {},
   "source": [
    "# Implémentation de méthodes élémentaires pour la classification supervisée : Naive Bayes et classifieur par plus proches voisins"
   ]
  },
  {
   "cell_type": "markdown",
   "metadata": {},
   "source": [
    "Pour ce TP, nous aurons besoin des modules Python ci-dessous, il vous faut donc évidemment exécuter cette première cellule."
   ]
  },
  {
   "cell_type": "code",
   "execution_count": 1,
   "metadata": {},
   "outputs": [],
   "source": [
    "%matplotlib inline\n",
    "import pandas as pd\n",
    "import numpy as np\n",
    "from scipy.stats import multivariate_normal\n",
    "from sklearn.metrics import confusion_matrix"
   ]
  },
  {
   "cell_type": "markdown",
   "metadata": {},
   "source": [
    "Le jeu de données [Vertebral Column](https://archive.ics.uci.edu/ml/datasets/Vertebral+Column) permet d'étudier les pathologies d'hernie discale et de Spondylolisthesis. Ces deux pathologies sont regroupées dans le jeu de données en une seule catégorie dite `Abnormale`. \n",
    "\n",
    "Il s'agit donc d'un problème de classification supervisée à deux classes :\n",
    "- Normale (NO) \n",
    "- Abnormale (AB)    \n",
    "\n",
    "avec 6 variables bio-mécaniques disponibles (features).\n",
    "\n",
    "L'objectif du TP est d'implémenter quelques méthodes simples de classification supervisée pour ce problème."
   ]
  },
  {
   "cell_type": "markdown",
   "metadata": {},
   "source": [
    "# Importation des données"
   ]
  },
  {
   "cell_type": "markdown",
   "metadata": {},
   "source": [
    "> Télécharger le fichier column_2C.dat depuis le site de l'UCI à [cette adresse](https://archive.ics.uci.edu/ml/datasets/Vertebral+Column). \n",
    ">\n",
    "> On peut importer les données sous python par exemple avec la librairie [pandas](https://pandas.pydata.org/pandas-docs/stable/10min.html). Vous pourrez au besoin consulter la documentation de la fonction [read_csv](https://pandas.pydata.org/pandas-docs/stable/reference/api/pandas.read_csv.html). \n",
    "> \n",
    "> Le chemin donné dans la fonction `read_csv`est une chaîne de caractère qui spécifie le chemin complet vers le ficher sur votre machine. On peut aussi donner une adresse url si le fichier est disponible en ligne.\n",
    ">\n",
    "> Attention à la syntaxe pour les chemins sous Windows doit etre de la forme  `C:/truc/machin.csv`. \n",
    "> \n",
    "> Voir ce [blog](https://medium.com/@ageitgey/python-3-quick-tip-the-easy-way-to-deal-with-file-paths-on-windows-mac-and-linux-11a072b58d5f) pour en savoir plus sur la \"manipulation des chemins\" sur des OS variés. "
   ]
  },
  {
   "cell_type": "code",
   "execution_count": 2,
   "metadata": {},
   "outputs": [],
   "source": [
    "file_path= 'column_2C.dat'\n",
    "Vertebral = pd.read_csv(file_path,\n",
    "                          delim_whitespace= ',',\n",
    "                          header= None)\n",
    "Vertebral.columns = [\"pelvic_incidence\",\n",
    "                     \"pelvic_tilt\",\n",
    "                     \"lumbar_lordosis_angle\",\n",
    "                     \"sacral_slope\",\n",
    "                     \"pelvic_radius\",\n",
    "                     \"degree_spondylolisthesis\",\n",
    "                     \"class\"]"
   ]
  },
  {
   "cell_type": "markdown",
   "metadata": {},
   "source": [
    "> Vérifier à l'aide des méthodes `.head()`  et `describe()` que les données sont bien importées."
   ]
  },
  {
   "cell_type": "code",
   "execution_count": 3,
   "metadata": {},
   "outputs": [
    {
     "data": {
      "text/html": [
       "<div>\n",
       "<style scoped>\n",
       "    .dataframe tbody tr th:only-of-type {\n",
       "        vertical-align: middle;\n",
       "    }\n",
       "\n",
       "    .dataframe tbody tr th {\n",
       "        vertical-align: top;\n",
       "    }\n",
       "\n",
       "    .dataframe thead th {\n",
       "        text-align: right;\n",
       "    }\n",
       "</style>\n",
       "<table border=\"1\" class=\"dataframe\">\n",
       "  <thead>\n",
       "    <tr style=\"text-align: right;\">\n",
       "      <th></th>\n",
       "      <th>pelvic_incidence</th>\n",
       "      <th>pelvic_tilt</th>\n",
       "      <th>lumbar_lordosis_angle</th>\n",
       "      <th>sacral_slope</th>\n",
       "      <th>pelvic_radius</th>\n",
       "      <th>degree_spondylolisthesis</th>\n",
       "      <th>class</th>\n",
       "    </tr>\n",
       "  </thead>\n",
       "  <tbody>\n",
       "    <tr>\n",
       "      <th>0</th>\n",
       "      <td>63.03</td>\n",
       "      <td>22.55</td>\n",
       "      <td>39.61</td>\n",
       "      <td>40.48</td>\n",
       "      <td>98.67</td>\n",
       "      <td>-0.25</td>\n",
       "      <td>AB</td>\n",
       "    </tr>\n",
       "    <tr>\n",
       "      <th>1</th>\n",
       "      <td>39.06</td>\n",
       "      <td>10.06</td>\n",
       "      <td>25.02</td>\n",
       "      <td>29.00</td>\n",
       "      <td>114.41</td>\n",
       "      <td>4.56</td>\n",
       "      <td>AB</td>\n",
       "    </tr>\n",
       "    <tr>\n",
       "      <th>2</th>\n",
       "      <td>68.83</td>\n",
       "      <td>22.22</td>\n",
       "      <td>50.09</td>\n",
       "      <td>46.61</td>\n",
       "      <td>105.99</td>\n",
       "      <td>-3.53</td>\n",
       "      <td>AB</td>\n",
       "    </tr>\n",
       "    <tr>\n",
       "      <th>3</th>\n",
       "      <td>69.30</td>\n",
       "      <td>24.65</td>\n",
       "      <td>44.31</td>\n",
       "      <td>44.64</td>\n",
       "      <td>101.87</td>\n",
       "      <td>11.21</td>\n",
       "      <td>AB</td>\n",
       "    </tr>\n",
       "    <tr>\n",
       "      <th>4</th>\n",
       "      <td>49.71</td>\n",
       "      <td>9.65</td>\n",
       "      <td>28.32</td>\n",
       "      <td>40.06</td>\n",
       "      <td>108.17</td>\n",
       "      <td>7.92</td>\n",
       "      <td>AB</td>\n",
       "    </tr>\n",
       "  </tbody>\n",
       "</table>\n",
       "</div>"
      ],
      "text/plain": [
       "   pelvic_incidence  pelvic_tilt  lumbar_lordosis_angle  sacral_slope  \\\n",
       "0             63.03        22.55                  39.61         40.48   \n",
       "1             39.06        10.06                  25.02         29.00   \n",
       "2             68.83        22.22                  50.09         46.61   \n",
       "3             69.30        24.65                  44.31         44.64   \n",
       "4             49.71         9.65                  28.32         40.06   \n",
       "\n",
       "   pelvic_radius  degree_spondylolisthesis class  \n",
       "0          98.67                     -0.25    AB  \n",
       "1         114.41                      4.56    AB  \n",
       "2         105.99                     -3.53    AB  \n",
       "3         101.87                     11.21    AB  \n",
       "4         108.17                      7.92    AB  "
      ]
     },
     "execution_count": 3,
     "metadata": {},
     "output_type": "execute_result"
    }
   ],
   "source": [
    "Vertebral.head()"
   ]
  },
  {
   "cell_type": "code",
   "execution_count": 4,
   "metadata": {},
   "outputs": [
    {
     "data": {
      "text/html": [
       "<div>\n",
       "<style scoped>\n",
       "    .dataframe tbody tr th:only-of-type {\n",
       "        vertical-align: middle;\n",
       "    }\n",
       "\n",
       "    .dataframe tbody tr th {\n",
       "        vertical-align: top;\n",
       "    }\n",
       "\n",
       "    .dataframe thead th {\n",
       "        text-align: right;\n",
       "    }\n",
       "</style>\n",
       "<table border=\"1\" class=\"dataframe\">\n",
       "  <thead>\n",
       "    <tr style=\"text-align: right;\">\n",
       "      <th></th>\n",
       "      <th>pelvic_incidence</th>\n",
       "      <th>pelvic_tilt</th>\n",
       "      <th>lumbar_lordosis_angle</th>\n",
       "      <th>sacral_slope</th>\n",
       "      <th>pelvic_radius</th>\n",
       "      <th>degree_spondylolisthesis</th>\n",
       "    </tr>\n",
       "  </thead>\n",
       "  <tbody>\n",
       "    <tr>\n",
       "      <th>count</th>\n",
       "      <td>310.000000</td>\n",
       "      <td>310.000000</td>\n",
       "      <td>310.000000</td>\n",
       "      <td>310.000000</td>\n",
       "      <td>310.000000</td>\n",
       "      <td>310.000000</td>\n",
       "    </tr>\n",
       "    <tr>\n",
       "      <th>mean</th>\n",
       "      <td>60.496484</td>\n",
       "      <td>17.542903</td>\n",
       "      <td>51.930710</td>\n",
       "      <td>42.953871</td>\n",
       "      <td>117.920548</td>\n",
       "      <td>26.296742</td>\n",
       "    </tr>\n",
       "    <tr>\n",
       "      <th>std</th>\n",
       "      <td>17.236109</td>\n",
       "      <td>10.008140</td>\n",
       "      <td>18.553766</td>\n",
       "      <td>13.422748</td>\n",
       "      <td>13.317629</td>\n",
       "      <td>37.558883</td>\n",
       "    </tr>\n",
       "    <tr>\n",
       "      <th>min</th>\n",
       "      <td>26.150000</td>\n",
       "      <td>-6.550000</td>\n",
       "      <td>14.000000</td>\n",
       "      <td>13.370000</td>\n",
       "      <td>70.080000</td>\n",
       "      <td>-11.060000</td>\n",
       "    </tr>\n",
       "    <tr>\n",
       "      <th>25%</th>\n",
       "      <td>46.432500</td>\n",
       "      <td>10.667500</td>\n",
       "      <td>37.000000</td>\n",
       "      <td>33.347500</td>\n",
       "      <td>110.710000</td>\n",
       "      <td>1.600000</td>\n",
       "    </tr>\n",
       "    <tr>\n",
       "      <th>50%</th>\n",
       "      <td>58.690000</td>\n",
       "      <td>16.360000</td>\n",
       "      <td>49.565000</td>\n",
       "      <td>42.405000</td>\n",
       "      <td>118.265000</td>\n",
       "      <td>11.765000</td>\n",
       "    </tr>\n",
       "    <tr>\n",
       "      <th>75%</th>\n",
       "      <td>72.880000</td>\n",
       "      <td>22.120000</td>\n",
       "      <td>63.000000</td>\n",
       "      <td>52.692500</td>\n",
       "      <td>125.467500</td>\n",
       "      <td>41.285000</td>\n",
       "    </tr>\n",
       "    <tr>\n",
       "      <th>max</th>\n",
       "      <td>129.830000</td>\n",
       "      <td>49.430000</td>\n",
       "      <td>125.740000</td>\n",
       "      <td>121.430000</td>\n",
       "      <td>163.070000</td>\n",
       "      <td>418.540000</td>\n",
       "    </tr>\n",
       "  </tbody>\n",
       "</table>\n",
       "</div>"
      ],
      "text/plain": [
       "       pelvic_incidence  pelvic_tilt  lumbar_lordosis_angle  sacral_slope  \\\n",
       "count        310.000000   310.000000             310.000000    310.000000   \n",
       "mean          60.496484    17.542903              51.930710     42.953871   \n",
       "std           17.236109    10.008140              18.553766     13.422748   \n",
       "min           26.150000    -6.550000              14.000000     13.370000   \n",
       "25%           46.432500    10.667500              37.000000     33.347500   \n",
       "50%           58.690000    16.360000              49.565000     42.405000   \n",
       "75%           72.880000    22.120000              63.000000     52.692500   \n",
       "max          129.830000    49.430000             125.740000    121.430000   \n",
       "\n",
       "       pelvic_radius  degree_spondylolisthesis  \n",
       "count     310.000000                310.000000  \n",
       "mean      117.920548                 26.296742  \n",
       "std        13.317629                 37.558883  \n",
       "min        70.080000                -11.060000  \n",
       "25%       110.710000                  1.600000  \n",
       "50%       118.265000                 11.765000  \n",
       "75%       125.467500                 41.285000  \n",
       "max       163.070000                418.540000  "
      ]
     },
     "execution_count": 4,
     "metadata": {},
     "output_type": "execute_result"
    }
   ],
   "source": [
    "Vertebral.describe()"
   ]
  },
  {
   "cell_type": "code",
   "execution_count": 5,
   "metadata": {},
   "outputs": [
    {
     "name": "stdout",
     "output_type": "stream",
     "text": [
      "<class 'pandas.core.frame.DataFrame'>\n",
      "RangeIndex: 310 entries, 0 to 309\n",
      "Data columns (total 7 columns):\n",
      " #   Column                    Non-Null Count  Dtype  \n",
      "---  ------                    --------------  -----  \n",
      " 0   pelvic_incidence          310 non-null    float64\n",
      " 1   pelvic_tilt               310 non-null    float64\n",
      " 2   lumbar_lordosis_angle     310 non-null    float64\n",
      " 3   sacral_slope              310 non-null    float64\n",
      " 4   pelvic_radius             310 non-null    float64\n",
      " 5   degree_spondylolisthesis  310 non-null    float64\n",
      " 6   class                     310 non-null    object \n",
      "dtypes: float64(6), object(1)\n",
      "memory usage: 17.1+ KB\n"
     ]
    }
   ],
   "source": [
    "Vertebral.info()"
   ]
  },
  {
   "cell_type": "markdown",
   "metadata": {},
   "source": [
    "> Les librairies de Machine Learning telles que `sckitlearn` prennent en entrée des tableau numpy (pas des objets pandas). Créer un tableau numpy que vous nommerez `VertebralVar` pour les features et un vecteur numpy `VertebralClas` pour la variable de classe. Voir par exemple [ici](https://pandas.pydata.org/pandas-docs/stable/reference/api/pandas.DataFrame.to_numpy.html#pandas.DataFrame.to_numpy)."
   ]
  },
  {
   "cell_type": "code",
   "execution_count": 6,
   "metadata": {},
   "outputs": [
    {
     "data": {
      "text/html": [
       "<div>\n",
       "<style scoped>\n",
       "    .dataframe tbody tr th:only-of-type {\n",
       "        vertical-align: middle;\n",
       "    }\n",
       "\n",
       "    .dataframe tbody tr th {\n",
       "        vertical-align: top;\n",
       "    }\n",
       "\n",
       "    .dataframe thead th {\n",
       "        text-align: right;\n",
       "    }\n",
       "</style>\n",
       "<table border=\"1\" class=\"dataframe\">\n",
       "  <thead>\n",
       "    <tr style=\"text-align: right;\">\n",
       "      <th></th>\n",
       "      <th>pelvic_incidence</th>\n",
       "      <th>pelvic_tilt</th>\n",
       "      <th>lumbar_lordosis_angle</th>\n",
       "      <th>sacral_slope</th>\n",
       "      <th>pelvic_radius</th>\n",
       "      <th>degree_spondylolisthesis</th>\n",
       "      <th>class</th>\n",
       "    </tr>\n",
       "  </thead>\n",
       "  <tbody>\n",
       "    <tr>\n",
       "      <th>198</th>\n",
       "      <td>74.85</td>\n",
       "      <td>13.91</td>\n",
       "      <td>62.69</td>\n",
       "      <td>60.95</td>\n",
       "      <td>115.21</td>\n",
       "      <td>33.17</td>\n",
       "      <td>AB</td>\n",
       "    </tr>\n",
       "    <tr>\n",
       "      <th>199</th>\n",
       "      <td>75.30</td>\n",
       "      <td>16.67</td>\n",
       "      <td>61.30</td>\n",
       "      <td>58.63</td>\n",
       "      <td>118.88</td>\n",
       "      <td>31.58</td>\n",
       "      <td>AB</td>\n",
       "    </tr>\n",
       "    <tr>\n",
       "      <th>200</th>\n",
       "      <td>63.36</td>\n",
       "      <td>20.02</td>\n",
       "      <td>67.50</td>\n",
       "      <td>43.34</td>\n",
       "      <td>131.00</td>\n",
       "      <td>37.56</td>\n",
       "      <td>AB</td>\n",
       "    </tr>\n",
       "    <tr>\n",
       "      <th>201</th>\n",
       "      <td>67.51</td>\n",
       "      <td>33.28</td>\n",
       "      <td>96.28</td>\n",
       "      <td>34.24</td>\n",
       "      <td>145.60</td>\n",
       "      <td>88.30</td>\n",
       "      <td>AB</td>\n",
       "    </tr>\n",
       "    <tr>\n",
       "      <th>202</th>\n",
       "      <td>76.31</td>\n",
       "      <td>41.93</td>\n",
       "      <td>93.28</td>\n",
       "      <td>34.38</td>\n",
       "      <td>132.27</td>\n",
       "      <td>101.22</td>\n",
       "      <td>AB</td>\n",
       "    </tr>\n",
       "    <tr>\n",
       "      <th>203</th>\n",
       "      <td>73.64</td>\n",
       "      <td>9.71</td>\n",
       "      <td>63.00</td>\n",
       "      <td>63.92</td>\n",
       "      <td>98.73</td>\n",
       "      <td>26.98</td>\n",
       "      <td>AB</td>\n",
       "    </tr>\n",
       "    <tr>\n",
       "      <th>204</th>\n",
       "      <td>56.54</td>\n",
       "      <td>14.38</td>\n",
       "      <td>44.99</td>\n",
       "      <td>42.16</td>\n",
       "      <td>101.72</td>\n",
       "      <td>25.77</td>\n",
       "      <td>AB</td>\n",
       "    </tr>\n",
       "  </tbody>\n",
       "</table>\n",
       "</div>"
      ],
      "text/plain": [
       "     pelvic_incidence  pelvic_tilt  lumbar_lordosis_angle  sacral_slope  \\\n",
       "198             74.85        13.91                  62.69         60.95   \n",
       "199             75.30        16.67                  61.30         58.63   \n",
       "200             63.36        20.02                  67.50         43.34   \n",
       "201             67.51        33.28                  96.28         34.24   \n",
       "202             76.31        41.93                  93.28         34.38   \n",
       "203             73.64         9.71                  63.00         63.92   \n",
       "204             56.54        14.38                  44.99         42.16   \n",
       "\n",
       "     pelvic_radius  degree_spondylolisthesis class  \n",
       "198         115.21                     33.17    AB  \n",
       "199         118.88                     31.58    AB  \n",
       "200         131.00                     37.56    AB  \n",
       "201         145.60                     88.30    AB  \n",
       "202         132.27                    101.22    AB  \n",
       "203          98.73                     26.98    AB  \n",
       "204         101.72                     25.77    AB  "
      ]
     },
     "execution_count": 6,
     "metadata": {},
     "output_type": "execute_result"
    }
   ],
   "source": [
    "Vertebral.iloc[198:205]"
   ]
  },
  {
   "cell_type": "code",
   "execution_count": 7,
   "metadata": {},
   "outputs": [
    {
     "name": "stdout",
     "output_type": "stream",
     "text": [
      "[[ 55.29  20.44  34.    34.85 115.88]\n",
      " [ 74.43  41.56  27.7   32.88 107.95]\n",
      " [ 50.21  29.76  36.1   20.45 128.29]\n",
      " ...\n",
      " [ 47.32   8.57  35.56  38.75 120.58]\n",
      " [ 50.75  20.24  37.    30.52 122.34]\n",
      " [ 36.16  -0.81  33.63  36.97 135.94]]\n"
     ]
    }
   ],
   "source": [
    "VertebralVar = Vertebral.drop(columns='class')\n",
    "VertebralVar = VertebralVar.to_numpy()\n",
    "\n",
    "# Printing the NumPy array\n",
    "#print(VertebralVar[100:300,0:-1])\n",
    "#print(VertebralVar[0:200,0:-1])\n",
    "#print(VertebralVar[50:250,0:-1])\n",
    "print(VertebralVar[50:251,0:-1])"
   ]
  },
  {
   "cell_type": "code",
   "execution_count": 8,
   "metadata": {},
   "outputs": [
    {
     "data": {
      "text/plain": [
       "array(['AB', 'AB', 'AB', 'AB', 'AB', 'AB', 'AB', 'AB', 'AB', 'AB', 'AB',\n",
       "       'AB', 'AB', 'AB', 'AB', 'AB', 'AB', 'AB', 'AB', 'AB', 'AB', 'AB',\n",
       "       'AB', 'AB', 'AB', 'AB', 'AB', 'AB', 'AB', 'AB', 'AB', 'AB', 'AB',\n",
       "       'AB', 'AB', 'AB', 'AB', 'AB', 'AB', 'AB', 'AB', 'AB', 'AB', 'AB',\n",
       "       'AB', 'AB', 'AB', 'AB', 'AB', 'AB', 'AB', 'AB', 'AB', 'AB', 'AB',\n",
       "       'AB', 'AB', 'AB', 'AB', 'AB', 'AB', 'AB', 'AB', 'AB', 'AB', 'AB',\n",
       "       'AB', 'AB', 'AB', 'AB', 'AB', 'AB', 'AB', 'AB', 'AB', 'AB', 'AB',\n",
       "       'AB', 'AB', 'AB', 'AB', 'AB', 'AB', 'AB', 'AB', 'AB', 'AB', 'AB',\n",
       "       'AB', 'AB', 'AB', 'AB', 'AB', 'AB', 'AB', 'AB', 'AB', 'AB', 'AB',\n",
       "       'AB', 'AB', 'AB', 'AB', 'AB', 'AB', 'AB', 'AB', 'AB', 'AB', 'AB',\n",
       "       'AB', 'AB', 'AB', 'AB', 'AB', 'AB', 'AB', 'AB', 'AB', 'AB', 'AB',\n",
       "       'AB', 'AB', 'AB', 'AB', 'AB', 'AB', 'AB', 'AB', 'AB', 'AB', 'AB',\n",
       "       'AB', 'AB', 'AB', 'AB', 'AB', 'AB', 'AB', 'AB', 'AB', 'AB', 'AB',\n",
       "       'AB', 'AB', 'AB', 'AB', 'AB', 'AB', 'AB', 'AB', 'AB', 'AB', 'AB',\n",
       "       'AB', 'AB', 'AB', 'AB', 'AB', 'AB', 'AB', 'AB', 'AB', 'AB', 'AB',\n",
       "       'AB', 'AB', 'AB', 'AB', 'AB', 'AB', 'AB', 'AB', 'AB', 'AB', 'AB',\n",
       "       'AB', 'AB', 'AB', 'AB', 'AB', 'AB', 'AB', 'AB', 'AB', 'AB', 'AB',\n",
       "       'AB', 'AB', 'AB', 'AB', 'AB', 'AB', 'AB', 'AB', 'AB', 'AB', 'AB',\n",
       "       'AB', 'AB', 'AB', 'AB', 'AB', 'AB', 'AB', 'AB', 'AB', 'AB', 'AB',\n",
       "       'AB', 'NO', 'NO', 'NO', 'NO', 'NO', 'NO', 'NO', 'NO', 'NO', 'NO',\n",
       "       'NO', 'NO', 'NO', 'NO', 'NO', 'NO', 'NO', 'NO', 'NO', 'NO', 'NO',\n",
       "       'NO', 'NO', 'NO', 'NO', 'NO', 'NO', 'NO', 'NO', 'NO', 'NO', 'NO',\n",
       "       'NO', 'NO', 'NO', 'NO', 'NO', 'NO', 'NO', 'NO', 'NO', 'NO', 'NO',\n",
       "       'NO', 'NO', 'NO', 'NO', 'NO', 'NO', 'NO', 'NO', 'NO', 'NO', 'NO',\n",
       "       'NO', 'NO', 'NO', 'NO', 'NO', 'NO', 'NO', 'NO', 'NO', 'NO', 'NO',\n",
       "       'NO', 'NO', 'NO', 'NO', 'NO', 'NO', 'NO', 'NO', 'NO', 'NO', 'NO',\n",
       "       'NO', 'NO', 'NO', 'NO', 'NO', 'NO', 'NO', 'NO', 'NO', 'NO', 'NO',\n",
       "       'NO', 'NO', 'NO', 'NO', 'NO', 'NO', 'NO', 'NO', 'NO', 'NO', 'NO',\n",
       "       'NO', 'NO'], dtype=object)"
      ]
     },
     "execution_count": 8,
     "metadata": {},
     "output_type": "execute_result"
    }
   ],
   "source": [
    "VertebralClas = Vertebral['class'].to_numpy()\n",
    "\n",
    "VertebralClas"
   ]
  },
  {
   "cell_type": "markdown",
   "metadata": {},
   "source": [
    "# Découpage train / test"
   ]
  },
  {
   "cell_type": "markdown",
   "metadata": {},
   "source": [
    "En apprentissage statistique, classiquement un prédicteur est ajusté sur une partie seulement des données et l'erreur de ce dernier est ensuite évaluée sur une autre partie des données disponibles. Ceci permet de ne pas utiliser les mêmes données pour ajuster et évaluer la qualité d'un prédicteur. Cette problématique est l'objet du prochain chapitre."
   ]
  },
  {
   "cell_type": "markdown",
   "metadata": {},
   "source": [
    "> En utilisant la fonction [`train_test_split`](http://scikit-learn.org/stable/modules/generated/sklearn.model_selection.train_test_split.html#sklearn.model_selection.train_test_split) de la librairie [`sklearn.model_selection`](http://scikit-learn.org/stable/modules/classes.html#module-sklearn.model_selection), sélectionner aléatoirement 60% des observations pour l'échantillon d'apprentissage et garder le reste pour l'échantillon de test. "
   ]
  },
  {
   "cell_type": "code",
   "execution_count": 9,
   "metadata": {},
   "outputs": [],
   "source": [
    "from sklearn.model_selection import train_test_split\n",
    "VertebralVar_train,VertebralVar_test,VertebralClas_train, VertebralClas_test = train_test_split(VertebralVar, VertebralClas, train_size = 0.6)\n",
    "ntot = len(VertebralClas) ### longueur totale de l'échantillon -  TO DO ####\n",
    "ntrain = len(VertebralClas_train) ### longueur totale de l'échantillon d'apprentissage - TO DO ####\n",
    "ntest = len(VertebralClas_test)### longueur totale de l'échantillon de test -TO DO ####"
   ]
  },
  {
   "cell_type": "markdown",
   "metadata": {},
   "source": [
    "Remarque : on peut aussi le faire à la main avec la fonction [`sklearn.utils.shuffle`](https://scikit-learn.org/stable/modules/generated/sklearn.utils.shuffle.html)."
   ]
  },
  {
   "cell_type": "markdown",
   "metadata": {},
   "source": [
    "# Extraction des deux classes"
   ]
  },
  {
   "cell_type": "markdown",
   "metadata": {},
   "source": [
    "> Extraire les deux sous-échantillons de classes respectives \"Abnormale\" et \"Normale\" pour les données d'apprentissage et de test."
   ]
  },
  {
   "cell_type": "code",
   "execution_count": 10,
   "metadata": {},
   "outputs": [
    {
     "name": "stdout",
     "output_type": "stream",
     "text": [
      "[[ 8.5100e+01  2.1070e+01  9.1730e+01  6.4030e+01  1.0906e+02  3.8030e+01]\n",
      " [ 9.5380e+01  2.4820e+01  9.5160e+01  7.0560e+01  8.9310e+01  5.7660e+01]\n",
      " [ 5.8780e+01  7.6700e+00  5.3340e+01  5.1120e+01  9.8500e+01  5.1580e+01]\n",
      " [ 8.5640e+01  4.2690e+01  7.8750e+01  4.2950e+01  1.0514e+02  4.2890e+01]\n",
      " [ 7.7110e+01  3.0470e+01  6.9480e+01  4.6640e+01  1.1215e+02  7.0760e+01]\n",
      " [ 5.7300e+01  2.4190e+01  4.7000e+01  3.3110e+01  1.1681e+02  5.7700e+00]\n",
      " [ 6.9560e+01  1.5400e+01  7.4440e+01  5.4160e+01  1.0507e+02  2.9700e+01]\n",
      " [ 3.1280e+01  3.1400e+00  3.2560e+01  2.8130e+01  1.2901e+02  3.6200e+00]\n",
      " [ 8.9680e+01  3.2700e+01  8.3130e+01  5.6980e+01  1.2996e+02  9.2030e+01]\n",
      " [ 5.7520e+01  3.3650e+01  5.0910e+01  2.3880e+01  1.4098e+02  1.4875e+02]\n",
      " [ 4.3920e+01  1.4180e+01  3.7830e+01  2.9740e+01  1.3446e+02  6.4500e+00]\n",
      " [ 7.5300e+01  1.6670e+01  6.1300e+01  5.8630e+01  1.1888e+02  3.1580e+01]\n",
      " [ 8.1110e+01  2.0690e+01  6.0690e+01  6.0420e+01  9.4020e+01  4.0510e+01]\n",
      " [ 7.1190e+01  2.3900e+01  4.3700e+01  4.7290e+01  1.1986e+02  2.7280e+01]\n",
      " [ 7.2640e+01  1.8930e+01  6.8000e+01  5.3710e+01  1.1696e+02  2.5380e+01]\n",
      " [ 4.3350e+01  7.4700e+00  2.8070e+01  3.5880e+01  1.1278e+02  5.7500e+00]\n",
      " [ 5.6540e+01  1.4380e+01  4.4990e+01  4.2160e+01  1.0172e+02  2.5770e+01]\n",
      " [ 5.0820e+01  1.5400e+01  4.2530e+01  3.5420e+01  1.1219e+02  1.0870e+01]\n",
      " [ 7.6150e+01  2.1940e+01  8.2960e+01  5.4210e+01  1.2393e+02  1.0430e+01]\n",
      " [ 8.5000e+01  2.9610e+01  8.3350e+01  5.5390e+01  1.2691e+02  7.1320e+01]\n",
      " [ 8.0650e+01  2.6340e+01  6.0900e+01  5.4310e+01  1.2010e+02  5.2470e+01]\n",
      " [ 5.8100e+01  1.4840e+01  7.9650e+01  4.3260e+01  1.1359e+02  5.0240e+01]\n",
      " [ 5.0070e+01  9.1200e+00  3.2170e+01  4.0950e+01  9.9710e+01  2.6770e+01]\n",
      " [ 4.7740e+01  1.2090e+01  3.9000e+01  3.5660e+01  1.1751e+02  2.1680e+01]\n",
      " [ 5.8830e+01  3.7580e+01  1.2574e+02  2.1250e+01  1.3563e+02  1.1731e+02]\n",
      " [ 6.3400e+01  1.4120e+01  4.8140e+01  4.9290e+01  1.1192e+02  3.1780e+01]\n",
      " [ 6.0630e+01  2.0600e+01  6.4540e+01  4.0030e+01  1.1723e+02  1.0486e+02]\n",
      " [ 4.6860e+01  1.5350e+01  3.8000e+01  3.1500e+01  1.1625e+02  1.6600e+00]\n",
      " [ 8.1080e+01  2.1260e+01  7.8770e+01  5.9830e+01  9.0070e+01  4.9160e+01]\n",
      " [ 6.3030e+01  2.2550e+01  3.9610e+01  4.0480e+01  9.8670e+01 -2.5000e-01]\n",
      " [ 7.2560e+01  1.7390e+01  5.2000e+01  5.5180e+01  1.1919e+02  3.2110e+01]\n",
      " [ 7.0400e+01  1.3470e+01  6.1200e+01  5.6930e+01  1.0234e+02  2.5540e+01]\n",
      " [ 4.1190e+01  5.7900e+00  4.2870e+01  3.5390e+01  1.0335e+02  2.7660e+01]\n",
      " [ 3.1230e+01  1.7720e+01  1.5500e+01  1.3520e+01  1.2006e+02  5.0000e-01]\n",
      " [ 4.6440e+01  8.4000e+00  2.9040e+01  3.8050e+01  1.1548e+02  2.0500e+00]\n",
      " [ 1.1814e+02  3.8450e+01  5.0840e+01  7.9700e+01  8.1020e+01  7.4040e+01]\n",
      " [ 7.5650e+01  1.9340e+01  6.4150e+01  5.6310e+01  9.5900e+01  6.9550e+01]\n",
      " [ 4.8920e+01  1.9960e+01  4.0260e+01  2.8950e+01  1.1932e+02  8.0300e+00]\n",
      " [ 8.3400e+01  3.4310e+01  7.8420e+01  4.9090e+01  1.1047e+02  4.9670e+01]\n",
      " [ 6.8610e+01  1.5080e+01  6.3010e+01  5.3530e+01  1.2343e+02  3.9500e+01]\n",
      " [ 3.1480e+01  7.8300e+00  2.4280e+01  2.3660e+01  1.1383e+02  4.3900e+00]\n",
      " [ 5.6990e+01  6.8700e+00  5.7010e+01  5.0120e+01  1.0998e+02  3.6810e+01]\n",
      " [ 1.2983e+02  8.4000e+00  4.8380e+01  1.2143e+02  1.0769e+02  4.1854e+02]\n",
      " [ 8.0820e+01  1.9240e+01  6.1640e+01  6.1580e+01  8.9470e+01  4.4170e+01]\n",
      " [ 5.2420e+01  1.9010e+01  3.5870e+01  3.3410e+01  1.1656e+02  1.6900e+00]\n",
      " [ 9.4170e+01  1.5380e+01  6.7710e+01  7.8790e+01  1.1489e+02  5.3260e+01]\n",
      " [ 3.6130e+01  2.2760e+01  2.9000e+01  1.3370e+01  1.1558e+02 -3.2400e+00]\n",
      " [ 4.1350e+01  1.6580e+01  3.0710e+01  2.4780e+01  1.1327e+02 -4.5000e+00]\n",
      " [ 6.5760e+01  9.8300e+00  5.0820e+01  5.5920e+01  1.0439e+02  3.9310e+01]\n",
      " [ 5.6610e+01  1.6800e+01  4.2000e+01  3.9810e+01  1.2729e+02  2.4020e+01]\n",
      " [ 8.6470e+01  4.0300e+01  6.1140e+01  4.6170e+01  9.7400e+01  5.5750e+01]\n",
      " [ 8.3700e+01  2.0270e+01  7.7110e+01  6.3430e+01  1.2548e+02  6.9280e+01]\n",
      " [ 6.3770e+01  1.2760e+01  6.5360e+01  5.1010e+01  8.9820e+01  5.6000e+01]\n",
      " [ 7.7690e+01  2.1380e+01  6.4430e+01  5.6310e+01  1.1482e+02  2.6930e+01]\n",
      " [ 5.7040e+01  3.5000e-01  4.9200e+01  5.6690e+01  1.0305e+02  5.2170e+01]\n",
      " [ 7.0950e+01  2.0160e+01  6.2860e+01  5.0790e+01  1.1618e+02  3.2520e+01]\n",
      " [ 3.8700e+01  1.3440e+01  3.1000e+01  2.5250e+01  1.2316e+02  1.4300e+00]\n",
      " [ 3.7900e+01  4.4800e+00  2.4710e+01  3.3420e+01  1.5785e+02  3.3610e+01]\n",
      " [ 4.2020e+01 -6.5500e+00  6.7900e+01  4.8580e+01  1.1159e+02  2.7340e+01]\n",
      " [ 4.0560e+01  1.7980e+01  3.4000e+01  2.2580e+01  1.2105e+02 -1.5400e+00]\n",
      " [ 4.0250e+01  1.3920e+01  2.5120e+01  2.6330e+01  1.3033e+02  2.2300e+00]\n",
      " [ 9.6660e+01  1.9460e+01  9.0210e+01  7.7200e+01  1.2067e+02  6.4080e+01]\n",
      " [ 4.4940e+01  1.7440e+01  2.7780e+01  2.7490e+01  1.1798e+02  5.5700e+00]\n",
      " [ 6.9630e+01  2.1120e+01  5.2770e+01  4.8500e+01  1.1680e+02  5.4820e+01]\n",
      " [ 8.5580e+01  3.0460e+01  7.8230e+01  5.5120e+01  1.1487e+02  6.8380e+01]\n",
      " [ 5.4740e+01  1.2100e+01  4.1000e+01  4.2650e+01  1.1764e+02  4.0380e+01]\n",
      " [ 6.9300e+01  2.4650e+01  4.4310e+01  4.4640e+01  1.0187e+02  1.1210e+01]\n",
      " [ 5.0910e+01  2.3020e+01  4.7000e+01  2.7900e+01  1.1742e+02 -2.5300e+00]\n",
      " [ 5.8600e+01 -2.6000e-01  5.1500e+01  5.8860e+01  1.0204e+02  2.8060e+01]\n",
      " [ 8.3880e+01  2.3080e+01  8.7140e+01  6.0800e+01  1.2465e+02  8.0560e+01]\n",
      " [ 6.4810e+01  1.5170e+01  5.8840e+01  4.9640e+01  1.1168e+02  2.1410e+01]\n",
      " [ 5.4120e+01  2.6650e+01  3.5330e+01  2.7470e+01  1.2145e+02  1.5700e+00]\n",
      " [ 4.8060e+01  5.6900e+00  5.7060e+01  4.2370e+01  9.5440e+01  3.2840e+01]\n",
      " [ 6.0420e+01  5.2700e+00  5.9810e+01  5.5150e+01  1.0903e+02  3.0270e+01]\n",
      " [ 9.0510e+01  2.8270e+01  6.9810e+01  6.2240e+01  1.0089e+02  5.8820e+01]\n",
      " [ 3.8660e+01  1.2990e+01  4.0000e+01  2.5680e+01  1.2491e+02  2.7000e+00]\n",
      " [ 6.4270e+01  1.2510e+01  6.8700e+01  5.1770e+01  9.5250e+01  3.9410e+01]\n",
      " [ 8.6750e+01  3.6040e+01  6.9220e+01  5.0710e+01  1.3941e+02  1.1086e+02]\n",
      " [ 8.6040e+01  3.8750e+01  4.7870e+01  4.7290e+01  1.2209e+02  6.1990e+01]\n",
      " [ 8.5680e+01  3.8650e+01  8.2680e+01  4.7030e+01  1.2084e+02  6.1960e+01]\n",
      " [ 7.0220e+01  3.9820e+01  6.8120e+01  3.0400e+01  1.4853e+02  1.4538e+02]\n",
      " [ 8.0110e+01  3.3940e+01  8.5100e+01  4.6170e+01  1.2559e+02  1.0029e+02]\n",
      " [ 7.4430e+01  4.1560e+01  2.7700e+01  3.2880e+01  1.0795e+02  5.0000e+00]\n",
      " [ 8.5350e+01  1.5840e+01  7.1670e+01  6.9510e+01  1.2442e+02  7.6020e+01]\n",
      " [ 6.3070e+01  2.4410e+01  5.4000e+01  3.8660e+01  1.0642e+02  1.5780e+01]\n",
      " [ 5.9600e+01  3.2000e+01  4.6560e+01  2.7600e+01  1.1933e+02  1.4700e+00]\n",
      " [ 6.5540e+01  2.4160e+01  4.5780e+01  4.1380e+01  1.3644e+02  1.6380e+01]\n",
      " [ 6.3830e+01  2.0360e+01  5.4550e+01  4.3470e+01  1.1231e+02 -6.2000e-01]\n",
      " [ 7.6310e+01  4.1930e+01  9.3280e+01  3.4380e+01  1.3227e+02  1.0122e+02]\n",
      " [ 6.0040e+01  1.4310e+01  5.8040e+01  4.5730e+01  1.0513e+02  3.0410e+01]\n",
      " [ 4.9710e+01  9.6500e+00  2.8320e+01  4.0060e+01  1.0817e+02  7.9200e+00]\n",
      " [ 8.1750e+01  2.0120e+01  7.0560e+01  6.1630e+01  1.1943e+02  5.5510e+01]\n",
      " [ 7.2340e+01  1.6420e+01  5.9870e+01  5.5920e+01  7.0080e+01  1.2070e+01]\n",
      " [ 5.9790e+01  1.7880e+01  5.9210e+01  4.1910e+01  1.1932e+02  2.2120e+01]\n",
      " [ 6.9760e+01  1.9280e+01  4.8500e+01  5.0480e+01  9.6490e+01  5.1170e+01]\n",
      " [ 7.7410e+01  2.9400e+01  6.3230e+01  4.8010e+01  1.1845e+02  9.3560e+01]\n",
      " [ 4.1770e+01  1.7900e+01  2.0030e+01  2.3870e+01  1.1836e+02  2.0600e+00]\n",
      " [ 9.5480e+01  4.6550e+01  5.9000e+01  4.8930e+01  9.6680e+01  7.7280e+01]\n",
      " [ 3.6690e+01  5.0100e+00  4.1950e+01  3.1680e+01  8.4240e+01  6.6000e-01]\n",
      " [ 4.4910e+01  1.0220e+01  4.4630e+01  3.4700e+01  1.3008e+02  3.7360e+01]\n",
      " [ 4.4250e+01  1.1000e+00  3.8000e+01  4.3150e+01  9.8270e+01  2.3910e+01]\n",
      " [ 5.3430e+01  1.5860e+01  3.7170e+01  3.7570e+01  1.2057e+02  5.9900e+00]\n",
      " [ 8.4970e+01  3.3020e+01  6.0860e+01  5.1950e+01  1.2566e+02  7.4330e+01]\n",
      " [ 7.9940e+01  1.8770e+01  6.3310e+01  6.1160e+01  1.1479e+02  3.8540e+01]\n",
      " [ 4.5370e+01  1.0760e+01  2.9040e+01  3.4610e+01  1.1727e+02 -1.0680e+01]\n",
      " [ 7.2050e+01  2.4700e+01  7.9870e+01  4.7350e+01  1.0717e+02  5.6430e+01]\n",
      " [ 4.1170e+01  1.7320e+01  3.3470e+01  2.3850e+01  1.1638e+02 -9.5700e+00]\n",
      " [ 4.9710e+01  1.3040e+01  3.1330e+01  3.6670e+01  1.0865e+02 -7.8300e+00]\n",
      " [ 7.4720e+01  1.4320e+01  3.2500e+01  6.0400e+01  1.0718e+02  3.7020e+01]\n",
      " [ 6.5010e+01  9.8400e+00  5.7740e+01  5.5180e+01  9.4740e+01  4.9700e+01]\n",
      " [ 6.1410e+01  2.5380e+01  3.9100e+01  3.6030e+01  1.0340e+02  2.1840e+01]\n",
      " [ 4.8030e+01  3.9700e+00  5.8340e+01  4.4060e+01  1.2535e+02  3.5000e+01]\n",
      " [ 4.4550e+01  2.1930e+01  2.6790e+01  2.2620e+01  1.1107e+02  2.6500e+00]\n",
      " [ 4.5440e+01  9.9100e+00  4.5000e+01  3.5540e+01  1.6307e+02  2.0320e+01]\n",
      " [ 8.6900e+01  3.2930e+01  4.7790e+01  5.3970e+01  1.3508e+02  1.0172e+02]\n",
      " [ 7.0480e+01  1.2490e+01  6.2420e+01  5.7990e+01  1.1419e+02  5.6900e+01]\n",
      " [ 7.2220e+01  2.3080e+01  9.1000e+01  4.9140e+01  1.3774e+02  5.6800e+01]\n",
      " [ 5.3850e+01  1.9230e+01  3.2780e+01  3.4620e+01  1.2167e+02  5.3300e+00]\n",
      " [ 4.4530e+01  9.4300e+00  5.2000e+01  3.5100e+01  1.3471e+02  2.9110e+01]\n",
      " [ 7.7660e+01  2.2430e+01  9.3890e+01  5.5220e+01  1.2306e+02  6.1210e+01]\n",
      " [ 8.4590e+01  3.0360e+01  6.5480e+01  5.4220e+01  1.0801e+02  2.5120e+01]\n",
      " [ 6.6880e+01  2.4890e+01  4.9280e+01  4.1990e+01  1.1348e+02 -2.0100e+00]\n",
      " [ 5.6030e+01  1.6300e+01  6.2280e+01  3.9730e+01  1.1402e+02 -2.3300e+00]\n",
      " [ 4.6390e+01  1.1080e+01  3.2140e+01  3.5310e+01  9.8770e+01  6.3900e+00]\n",
      " [ 7.8400e+01  1.4040e+01  7.9690e+01  6.4360e+01  1.0473e+02  1.2390e+01]]\n"
     ]
    }
   ],
   "source": [
    "VertebralVar_train_AB = VertebralVar_train[VertebralClas_train == 'AB']\n",
    "VertebralVar_train_NO = VertebralVar_train[VertebralClas_train == 'NO']\n",
    "print(VertebralVar_train_AB)"
   ]
  },
  {
   "cell_type": "code",
   "execution_count": 11,
   "metadata": {},
   "outputs": [
    {
     "name": "stdout",
     "output_type": "stream",
     "text": [
      "125\n",
      "61\n"
     ]
    }
   ],
   "source": [
    "n_AB = len(VertebralVar_train_AB)\n",
    "n_NO = len(VertebralVar_train_NO)\n",
    "print(n_AB)\n",
    "print(n_NO)"
   ]
  },
  {
   "cell_type": "markdown",
   "metadata": {},
   "source": [
    "# Gaussian Naive Bayes"
   ]
  },
  {
   "cell_type": "markdown",
   "metadata": {},
   "source": [
    "Nous allons ajuster un classifieur naif bayesien sur les données d'apprentissage.\n",
    "\n",
    "Pour une observation $x \\in \\mathbb R^6$, la régle du MAP consiste à choisir la catégorie $\\hat y (x) = \\hat k $ qui maximise (en $k$) \n",
    "$$ score_k(x) = \\hat \\pi_k \\prod_{j=1} ^6  \\hat f_{k,j}(x_j)   $$\n",
    "où :\n",
    "- $k$ est le numéro de la classe ;\n",
    "- $\\hat \\pi_k$ est la proportion observée de la classe $k$, \n",
    "- $\\hat f_{k,j} $ est la densité gaussienne univariée de la classe $k$ pour la variable $j$. Les paramètres de cette loi valent (ajustés par maximum de vraisemblance) :\n",
    "    - $\\hat \\mu_{k,j}$ : la moyenne empirique de la variable $X^j$ restreinte à la classe k,\n",
    "    - $ \\hat \\sigma^2_{k,j}$ : la variance empirique de la variable $X^j$ restreinte à la classe k.\n",
    "    \n",
    "Noter que la fonction $x \\mapsto  \\prod_{j=1} ^6  f_{k,j}(x_j) $ peut aussi être vue comme une densité gaussienne multidimensionnelle de moyenne $(\\mu_{k,1}, \\dots, \\mu_{k,6})$ et de matrice de covariance diagonale $diag(\\hat \\sigma^2_{k,1},\\dots,\\hat  \\sigma^2_{k,6})$. Cette remarque évite de devoir calculer le produit de 6 densités univariées, à la place on calcule plus directement la valeur de la densité multidimensionnelle.\n",
    "\n",
    "Pour calculer la valeur de la densité d'une gaussienne multidimensionnelle en un point $x$ de $\\mathbb R ^d$ on peut utililser la fonction [`multivariate_normal`](https://docs.scipy.org/doc/scipy-0.14.0/reference/generated/scipy.stats.multivariate_normal.html) de la librairie [`scipy.stats`](https://docs.scipy.org/doc/scipy/reference/stats.html). \n",
    "\n",
    "On pourra utiliser la fonction `var` de numpy pour calculer le vecteur des variances."
   ]
  },
  {
   "cell_type": "markdown",
   "metadata": {},
   "source": [
    "Calcul des moyennes et des variances de chaque variable pour chacun des deux groupes :"
   ]
  },
  {
   "cell_type": "code",
   "execution_count": 12,
   "metadata": {},
   "outputs": [],
   "source": [
    "mean_AB = VertebralVar_train_AB.mean(axis = 0) \n",
    "mean_NO = VertebralVar_train_NO.mean(axis = 0) \n",
    "\n",
    "# variances estimées variable par variable pour AB (sur le train) :\n",
    "var_AB = VertebralVar_train_AB.var(axis = 0) \n",
    "# variances estimées variable par variable pour NO (sur le train) :\n",
    "var_NO = VertebralVar_train_NO.var(axis = 0)\n",
    "\n",
    "# on forme les matrices de covariance (matrices diagonales car indep) :\n",
    "Cov_NB_AB = np.diag(var_AB)\n",
    "Cov_NB_NO = np.diag(var_NO)\n"
   ]
  },
  {
   "cell_type": "markdown",
   "metadata": {},
   "source": [
    "Calcul du \"score\" sur chaque groupe pour chaque element des données test : "
   ]
  },
  {
   "cell_type": "code",
   "execution_count": 13,
   "metadata": {},
   "outputs": [
    {
     "data": {
      "text/plain": [
       "array(['NO', 'NO', 'AB', 'NO', 'NO', 'AB', 'AB', 'NO', 'NO', 'NO', 'NO',\n",
       "       'AB', 'NO', 'AB', 'NO', 'AB', 'AB', 'AB', 'NO', 'AB', 'NO', 'NO',\n",
       "       'AB', 'AB', 'AB', 'NO', 'AB', 'NO', 'AB', 'NO', 'NO', 'AB', 'AB',\n",
       "       'AB', 'NO', 'AB', 'AB', 'AB', 'NO', 'NO', 'NO', 'AB', 'NO', 'AB',\n",
       "       'NO', 'NO', 'AB', 'NO', 'NO', 'NO', 'NO', 'NO', 'NO', 'NO', 'NO',\n",
       "       'AB', 'NO', 'NO', 'AB', 'AB', 'NO', 'AB', 'NO', 'AB', 'AB', 'NO',\n",
       "       'AB', 'NO', 'AB', 'AB', 'AB', 'AB', 'AB', 'AB', 'NO', 'NO', 'AB',\n",
       "       'NO', 'NO', 'AB', 'AB', 'AB', 'AB', 'AB', 'AB', 'NO', 'AB', 'NO',\n",
       "       'NO', 'NO', 'AB', 'AB', 'NO', 'AB', 'NO', 'NO', 'NO', 'AB', 'NO',\n",
       "       'NO', 'AB', 'AB', 'AB', 'AB', 'AB', 'AB', 'AB', 'NO', 'NO', 'AB',\n",
       "       'NO', 'NO', 'NO', 'NO', 'NO', 'AB', 'AB', 'NO', 'AB', 'AB', 'AB',\n",
       "       'AB', 'AB', 'NO'], dtype='<U2')"
      ]
     },
     "execution_count": 13,
     "metadata": {},
     "output_type": "execute_result"
    }
   ],
   "source": [
    "gnb_AB = multivariate_normal(mean=mean_AB, cov=Cov_NB_AB)\n",
    "gnb_NO = multivariate_normal(mean=mean_NO, cov=Cov_NB_NO)\n",
    "\n",
    "likelihood_AB = gnb_AB.pdf(VertebralVar_test)\n",
    "likelihood_NO = gnb_NO.pdf(VertebralVar_test)\n",
    "\n",
    "prior_AB = n_AB / (n_AB + n_NO)\n",
    "prior_NO = 1 - prior_AB\n",
    "\n",
    "score_AB = likelihood_AB * prior_AB\n",
    "score_NO = likelihood_NO * prior_NO\n",
    "\n",
    "Vertebral_Clas_pred = np.where(score_AB > score_NO, 'AB', 'NO')\n",
    "\n",
    "Vertebral_Clas_pred"
   ]
  },
  {
   "cell_type": "markdown",
   "metadata": {},
   "source": [
    "La matrice de confusion est une matrice qui synthétise les performances d'une régle de classification. Chaque ligne correspond à une classe réelle, chaque colonne correspond à une classe estimée. La cellule (ligne L, colonne C) contient le nombre d'éléments de la classe réelle L qui ont été estimés comme appartenant à la classe C. Voir par exemple [ici](https://fr.wikipedia.org/wiki/Matrice_de_confusion).\n",
    "\n",
    "> Evaluer les performances de la méthode sur l'échantillon test. Vous pourrez utiliser la fonction [`confusion_matrix`](http://scikit-learn.org/stable/modules/generated/sklearn.metrics.confusion_matrix.html#sklearn.metrics.confusion_matrix) de la librairie [`sklearn.metrics`](http://scikit-learn.org/stable/modules/classes.html#module-sklearn.metrics)."
   ]
  },
  {
   "cell_type": "code",
   "execution_count": 14,
   "metadata": {},
   "outputs": [
    {
     "data": {
      "text/plain": [
       "array([[62, 23],\n",
       "       [ 1, 38]], dtype=int64)"
      ]
     },
     "execution_count": 14,
     "metadata": {},
     "output_type": "execute_result"
    }
   ],
   "source": [
    "cnf_matrix_test = confusion_matrix(y_true = VertebralClas_test, y_pred = Vertebral_Clas_pred)\n",
    "cnf_matrix_test#.astype('float') / cnf_matrix_test.sum(axis=1).reshape(-1,1) \n"
   ]
  },
  {
   "cell_type": "markdown",
   "metadata": {},
   "source": [
    ">  Il existe bien sûr une fonction scikit-learn  pour la méthode Naive Bayes : voir [ici](http://scikit-learn.org/stable/modules/naive_bayes.html). Vérifier que votre prédicteur donne la même réponse de cette fonction."
   ]
  },
  {
   "cell_type": "code",
   "execution_count": 15,
   "metadata": {},
   "outputs": [
    {
     "data": {
      "text/plain": [
       "array([[62, 23],\n",
       "       [ 1, 38]], dtype=int64)"
      ]
     },
     "execution_count": 15,
     "metadata": {},
     "output_type": "execute_result"
    }
   ],
   "source": [
    "from sklearn.naive_bayes import GaussianNB\n",
    "gnb = GaussianNB()\n",
    "gnb.fit(X = VertebralVar_train, y = VertebralClas_train)\n",
    "y_predicted = gnb.predict(X = VertebralVar_test)\n",
    "confusion_matrix(y_true = VertebralClas_test, y_pred = y_predicted)"
   ]
  },
  {
   "cell_type": "markdown",
   "metadata": {},
   "source": [
    "# Classifieur par plus proches voisins"
   ]
  },
  {
   "cell_type": "markdown",
   "metadata": {},
   "source": [
    "Il est préférable d'utiliser la structure de données de type [k-d tree](https://en.wikipedia.org/wiki/K-d_tree) pour effectuer des requêtes de plus proches voisins dans un nuage de points. "
   ]
  },
  {
   "cell_type": "markdown",
   "metadata": {},
   "source": [
    "> Contruction du k-d tree pour les données train (pour la métrique euclidienne) :"
   ]
  },
  {
   "cell_type": "code",
   "execution_count": 16,
   "metadata": {},
   "outputs": [],
   "source": [
    "from sklearn.neighbors import KDTree\n",
    "tree =  KDTree(VertebralVar_train, metric = 'euclidean')"
   ]
  },
  {
   "cell_type": "markdown",
   "metadata": {},
   "source": [
    "> Rechercher les 10 plus proches voisins dans les données d'apprentissage du premier point des données de test et afficher les classes de ces observations voisines."
   ]
  },
  {
   "cell_type": "code",
   "execution_count": 17,
   "metadata": {},
   "outputs": [
    {
     "name": "stdout",
     "output_type": "stream",
     "text": [
      "[['NO' 'AB' 'AB' 'NO' 'AB' 'AB' 'AB' 'NO' 'NO' 'AB']]\n"
     ]
    }
   ],
   "source": [
    "distances, indices_voisins = tree.query(VertebralVar_test[0].reshape(1,-1), k = 10)\n",
    "classes_voisins = VertebralClas_train[indices_voisins]\n",
    "print(classes_voisins)    "
   ]
  },
  {
   "cell_type": "code",
   "execution_count": 21,
   "metadata": {},
   "outputs": [
    {
     "data": {
      "text/plain": [
       "(124, 5)"
      ]
     },
     "execution_count": 21,
     "metadata": {},
     "output_type": "execute_result"
    }
   ],
   "source": [
    "indices_voisins.shape"
   ]
  },
  {
   "cell_type": "code",
   "execution_count": 23,
   "metadata": {},
   "outputs": [
    {
     "data": {
      "text/plain": [
       "(186,)"
      ]
     },
     "execution_count": 23,
     "metadata": {},
     "output_type": "execute_result"
    }
   ],
   "source": [
    "VertebralClas_train.shape"
   ]
  },
  {
   "cell_type": "code",
   "execution_count": 24,
   "metadata": {},
   "outputs": [
    {
     "data": {
      "text/plain": [
       "(124, 5)"
      ]
     },
     "execution_count": 24,
     "metadata": {},
     "output_type": "execute_result"
    }
   ],
   "source": [
    "classes_voisins.shape"
   ]
  },
  {
   "cell_type": "code",
   "execution_count": 18,
   "metadata": {},
   "outputs": [
    {
     "data": {
      "text/plain": [
       "(186,)"
      ]
     },
     "execution_count": 18,
     "metadata": {},
     "output_type": "execute_result"
    }
   ],
   "source": [
    "VertebralClas_train.shape"
   ]
  },
  {
   "cell_type": "markdown",
   "metadata": {},
   "source": [
    "Pour le classifieur par plus proches vosins, la prediction est la classe majoritaire des k plus proches voisins.\n",
    "\n",
    "> Donner la prédiction pour le premier point de test par vote majoritaire sur ses 10 plus proches voisins "
   ]
  },
  {
   "cell_type": "code",
   "execution_count": 19,
   "metadata": {},
   "outputs": [
    {
     "data": {
      "text/html": [
       "<div>\n",
       "<style scoped>\n",
       "    .dataframe tbody tr th:only-of-type {\n",
       "        vertical-align: middle;\n",
       "    }\n",
       "\n",
       "    .dataframe tbody tr th {\n",
       "        vertical-align: top;\n",
       "    }\n",
       "\n",
       "    .dataframe thead th {\n",
       "        text-align: right;\n",
       "    }\n",
       "</style>\n",
       "<table border=\"1\" class=\"dataframe\">\n",
       "  <thead>\n",
       "    <tr style=\"text-align: right;\">\n",
       "      <th></th>\n",
       "      <th>0</th>\n",
       "    </tr>\n",
       "  </thead>\n",
       "  <tbody>\n",
       "    <tr>\n",
       "      <th>0</th>\n",
       "      <td>AB</td>\n",
       "    </tr>\n",
       "  </tbody>\n",
       "</table>\n",
       "</div>"
      ],
      "text/plain": [
       "    0\n",
       "0  AB"
      ]
     },
     "execution_count": 19,
     "metadata": {},
     "output_type": "execute_result"
    }
   ],
   "source": [
    "# Calculate the mode\n",
    "pd.DataFrame(classes_voisins).mode(axis = 1)"
   ]
  },
  {
   "cell_type": "markdown",
   "metadata": {},
   "source": [
    "> Donner la prediction du classifieur ppv pour toutes les données de test. Evaluer la qualité du classifieur."
   ]
  },
  {
   "cell_type": "code",
   "execution_count": 20,
   "metadata": {},
   "outputs": [
    {
     "data": {
      "text/plain": [
       "array([[0.87777778, 0.12222222],\n",
       "       [0.17647059, 0.82352941]])"
      ]
     },
     "execution_count": 20,
     "metadata": {},
     "output_type": "execute_result"
    }
   ],
   "source": [
    "k_class = 5\n",
    "distances, indices_voisins = tree.query(VertebralVar_test, k = k_class)\n",
    "classes_voisins = VertebralClas_train[indices_voisins]\n",
    "\n",
    "pred_kNN_test = pd.DataFrame(classes_voisins).mode(axis = 1).loc[:,0]\n",
    "pred_kNN_test = pred_kNN_test.to_numpy()\n",
    "\n",
    "cnf_matrix_kNN = confusion_matrix(pred_kNN_test, VertebralClas_test)\n",
    "cnf_matrix_kNN.astype('float') / cnf_matrix_kNN.sum(axis=1).reshape(-1,1) "
   ]
  },
  {
   "cell_type": "markdown",
   "metadata": {},
   "source": [
    "Il existe bien sûr une fonction scikit-learn pour le classifieur plus proche voisin, voir [ici](http://scikit-learn.org/stable/modules/generated/sklearn.neighbors.KNeighborsClassifier.html)."
   ]
  }
 ],
 "metadata": {
  "anaconda-cloud": {},
  "kernelspec": {
   "display_name": "Python 3 (ipykernel)",
   "language": "python",
   "name": "python3"
  },
  "language_info": {
   "codemirror_mode": {
    "name": "ipython",
    "version": 3
   },
   "file_extension": ".py",
   "mimetype": "text/x-python",
   "name": "python",
   "nbconvert_exporter": "python",
   "pygments_lexer": "ipython3",
   "version": "3.10.12"
  }
 },
 "nbformat": 4,
 "nbformat_minor": 4
}
