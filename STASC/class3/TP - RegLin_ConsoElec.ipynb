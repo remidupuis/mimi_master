{
 "cells": [
  {
   "cell_type": "markdown",
   "metadata": {},
   "source": [
    "# Regression linéaire et un peu de séries temporelles : consommation éléctrique d'une habitation\n",
    "\n"
   ]
  },
  {
   "cell_type": "markdown",
   "metadata": {},
   "source": [
    "Dans ce TP, on illustre la  régression linéaire sur un jeu de données de consomation énergétique. \n",
    "\n",
    "Plus précisément, il s'agit de prédire la consommation d'énergie des appareils électroménagers dans une maison à faible consommation d'énergie.\n",
    "\n",
    "Le jeu de données est disponible [ici](https://box.ec-nantes.fr/index.php/s/4ppHfzHcn5M7R8z). Un [article de recherche](https://box.ec-nantes.fr/index.php/s/4ppHfzHcn5M7R8z) est associé à ces données."
   ]
  },
  {
   "cell_type": "markdown",
   "metadata": {},
   "source": [
    "Chaque observation correspond à une tranche de 10 minutes. Les données couvrent une période de 4 mois et demi.\n",
    "\n",
    "La variable `Appliances` indique la consommation énergétique (en Wh) des appareils électriques de la maison sur une tranche de 10 minutes.\n",
    "\n",
    "La température (T) et l'humidité (RH) de la maison sont contrôlées par un réseau de capteurs, et une moyenne a été calculée pour chaque période de 10 minutes. Les variables correspondantes dans la tables sont nommées `T1`, `RH_1`, ... , `T9`, `RH_9`. Les positions des capteurs sont indiqués Figs.5 et 6 de l'article.\n",
    "\n",
    "Les données énergétiques sont aussi enregistrées toutes les 10 minutes à l'aide de compteurs d'énergie. \n",
    "\n",
    "La variable `lights` indique la quantité de lumière utilisée.\n",
    "\n",
    "Les données météorologiques de la station météorologique de l'aéroport le plus proche (aéroport de Chièvres, Belgique) ont été téléchargées à partir d'un ensemble de données publiques, et fusionnées avec les données expérimentales. "
   ]
  },
  {
   "cell_type": "markdown",
   "metadata": {
    "jp-MarkdownHeadingCollapsed": true,
    "tags": []
   },
   "source": [
    "## Preparation des données"
   ]
  },
  {
   "cell_type": "markdown",
   "metadata": {},
   "source": [
    "> Importer les données avec pandas et afficher les formats."
   ]
  },
  {
   "cell_type": "code",
   "execution_count": 1,
   "metadata": {},
   "outputs": [],
   "source": [
    "import pandas as pd\n",
    "import numpy as np\n",
    "import seaborn as sns"
   ]
  },
  {
   "cell_type": "code",
   "execution_count": 2,
   "metadata": {},
   "outputs": [
    {
     "data": {
      "text/plain": [
       "date            object\n",
       "Appliances       int64\n",
       "lights           int64\n",
       "T1             float64\n",
       "RH_1           float64\n",
       "T2             float64\n",
       "RH_2           float64\n",
       "T3             float64\n",
       "RH_3           float64\n",
       "T4             float64\n",
       "RH_4           float64\n",
       "T5             float64\n",
       "RH_5           float64\n",
       "T6             float64\n",
       "RH_6           float64\n",
       "T7             float64\n",
       "RH_7           float64\n",
       "T8             float64\n",
       "RH_8           float64\n",
       "T9             float64\n",
       "RH_9           float64\n",
       "T_out          float64\n",
       "Press_mm_hg    float64\n",
       "RH_out         float64\n",
       "Windspeed      float64\n",
       "Visibility     float64\n",
       "Tdewpoint      float64\n",
       "dtype: object"
      ]
     },
     "execution_count": 2,
     "metadata": {},
     "output_type": "execute_result"
    }
   ],
   "source": [
    "conso = pd.read_csv(\"DataEnergyBuilding//Conso-Maison.csv\", delimiter = ';')\n",
    "conso.dtypes"
   ]
  },
  {
   "cell_type": "markdown",
   "metadata": {},
   "source": [
    " > Donner à la variable `date` un [format date pandas](https://pandas.pydata.org/pandas-docs/stable/reference/api/pandas.to_datetime.html)."
   ]
  },
  {
   "cell_type": "code",
   "execution_count": 3,
   "metadata": {},
   "outputs": [
    {
     "data": {
      "text/plain": [
       "date           datetime64[ns]\n",
       "Appliances              int64\n",
       "lights                  int64\n",
       "T1                    float64\n",
       "RH_1                  float64\n",
       "T2                    float64\n",
       "RH_2                  float64\n",
       "T3                    float64\n",
       "RH_3                  float64\n",
       "T4                    float64\n",
       "RH_4                  float64\n",
       "T5                    float64\n",
       "RH_5                  float64\n",
       "T6                    float64\n",
       "RH_6                  float64\n",
       "T7                    float64\n",
       "RH_7                  float64\n",
       "T8                    float64\n",
       "RH_8                  float64\n",
       "T9                    float64\n",
       "RH_9                  float64\n",
       "T_out                 float64\n",
       "Press_mm_hg           float64\n",
       "RH_out                float64\n",
       "Windspeed             float64\n",
       "Visibility            float64\n",
       "Tdewpoint             float64\n",
       "dtype: object"
      ]
     },
     "execution_count": 3,
     "metadata": {},
     "output_type": "execute_result"
    }
   ],
   "source": [
    "conso['date'] = pd.to_datetime(conso.date)\n",
    "conso.dtypes"
   ]
  },
  {
   "cell_type": "markdown",
   "metadata": {},
   "source": [
    "> La table contient-elle des données manquantes ?"
   ]
  },
  {
   "cell_type": "code",
   "execution_count": 4,
   "metadata": {},
   "outputs": [
    {
     "data": {
      "text/plain": [
       "date           0\n",
       "Appliances     0\n",
       "lights         0\n",
       "T1             0\n",
       "RH_1           0\n",
       "T2             0\n",
       "RH_2           0\n",
       "T3             0\n",
       "RH_3           0\n",
       "T4             0\n",
       "RH_4           0\n",
       "T5             0\n",
       "RH_5           0\n",
       "T6             0\n",
       "RH_6           0\n",
       "T7             0\n",
       "RH_7           0\n",
       "T8             0\n",
       "RH_8           0\n",
       "T9             0\n",
       "RH_9           0\n",
       "T_out          0\n",
       "Press_mm_hg    0\n",
       "RH_out         0\n",
       "Windspeed      0\n",
       "Visibility     0\n",
       "Tdewpoint      0\n",
       "dtype: int64"
      ]
     },
     "execution_count": 4,
     "metadata": {},
     "output_type": "execute_result"
    }
   ],
   "source": [
    "conso.isnull().sum()"
   ]
  },
  {
   "cell_type": "markdown",
   "metadata": {},
   "source": [
    "> Créer deux nouveaux tableaux `pandas`, l'un pour les observations avant mai 2016 et l'autre pour les observations de mai 2016."
   ]
  },
  {
   "cell_type": "code",
   "execution_count": 5,
   "metadata": {},
   "outputs": [],
   "source": [
    "conso_train = conso.loc[conso.date < '2016-05-01']\n",
    "conso_test = conso.loc[conso.date >= '2016-05-01']"
   ]
  },
  {
   "cell_type": "markdown",
   "metadata": {
    "jp-MarkdownHeadingCollapsed": true,
    "tags": []
   },
   "source": [
    "## Représentations graphiques"
   ]
  },
  {
   "cell_type": "markdown",
   "metadata": {},
   "source": [
    "> Représenter la série temporelle de la consommation éléctrique `Appliances`, puis la série temporelle de la température extérieure`T_out`. Vous pourrez \"zoomer\" sur certaines zones des séries temporelles pour mieux visualiser les variations à toutes les échelles, par exemple en utilisant [plotly.express.line](https://plotly.com/python/line-charts/)."
   ]
  },
  {
   "cell_type": "code",
   "execution_count": 14,
   "metadata": {},
   "outputs": [
    {
     "name": "stderr",
     "output_type": "stream",
     "text": [
      "c:\\Users\\remi\\anaconda3\\envs\\python3_10_infoia\\lib\\site-packages\\seaborn\\_oldcore.py:1498: FutureWarning: is_categorical_dtype is deprecated and will be removed in a future version. Use isinstance(dtype, CategoricalDtype) instead\n",
      "  if pd.api.types.is_categorical_dtype(vector):\n",
      "c:\\Users\\remi\\anaconda3\\envs\\python3_10_infoia\\lib\\site-packages\\seaborn\\_oldcore.py:1498: FutureWarning: is_categorical_dtype is deprecated and will be removed in a future version. Use isinstance(dtype, CategoricalDtype) instead\n",
      "  if pd.api.types.is_categorical_dtype(vector):\n",
      "c:\\Users\\remi\\anaconda3\\envs\\python3_10_infoia\\lib\\site-packages\\seaborn\\_oldcore.py:1119: FutureWarning: use_inf_as_na option is deprecated and will be removed in a future version. Convert inf values to NaN before operating instead.\n",
      "  with pd.option_context('mode.use_inf_as_na', True):\n",
      "c:\\Users\\remi\\anaconda3\\envs\\python3_10_infoia\\lib\\site-packages\\seaborn\\_oldcore.py:1119: FutureWarning: use_inf_as_na option is deprecated and will be removed in a future version. Convert inf values to NaN before operating instead.\n",
      "  with pd.option_context('mode.use_inf_as_na', True):\n",
      "c:\\Users\\remi\\anaconda3\\envs\\python3_10_infoia\\lib\\site-packages\\seaborn\\_oldcore.py:1498: FutureWarning: is_categorical_dtype is deprecated and will be removed in a future version. Use isinstance(dtype, CategoricalDtype) instead\n",
      "  if pd.api.types.is_categorical_dtype(vector):\n",
      "c:\\Users\\remi\\anaconda3\\envs\\python3_10_infoia\\lib\\site-packages\\seaborn\\_oldcore.py:1498: FutureWarning: is_categorical_dtype is deprecated and will be removed in a future version. Use isinstance(dtype, CategoricalDtype) instead\n",
      "  if pd.api.types.is_categorical_dtype(vector):\n",
      "c:\\Users\\remi\\anaconda3\\envs\\python3_10_infoia\\lib\\site-packages\\seaborn\\_oldcore.py:1119: FutureWarning: use_inf_as_na option is deprecated and will be removed in a future version. Convert inf values to NaN before operating instead.\n",
      "  with pd.option_context('mode.use_inf_as_na', True):\n",
      "c:\\Users\\remi\\anaconda3\\envs\\python3_10_infoia\\lib\\site-packages\\seaborn\\_oldcore.py:1119: FutureWarning: use_inf_as_na option is deprecated and will be removed in a future version. Convert inf values to NaN before operating instead.\n",
      "  with pd.option_context('mode.use_inf_as_na', True):\n"
     ]
    },
    {
     "data": {
      "text/plain": [
       "<Axes: xlabel='date', ylabel='T_out'>"
      ]
     },
     "execution_count": 14,
     "metadata": {},
     "output_type": "execute_result"
    },
    {
     "data": {
      "image/png": "[encoded data removed]",
      "text/plain": [
       "<Figure size 640x480 with 2 Axes>"
      ]
     },
     "metadata": {},
     "output_type": "display_data"
    }
   ],
   "source": [
    "import seaborn as sns\n",
    "import matplotlib.pyplot as plt\n",
    "dataset = conso.loc[0:200,:]\n",
    "sns.lineplot(data = dataset, x = 'date', y = 'Appliances')\n",
    "ax2 = plt.twinx()\n",
    "sns.lineplot(data=dataset, x = 'date', y = 'T_out', color=\"red\", ax=ax2)\n",
    "\n"
   ]
  },
  {
   "cell_type": "markdown",
   "metadata": {},
   "source": [
    "> Représenter et décrire la distribution de ces deux variables (i.e. en oubliant la dimension temporelle)"
   ]
  },
  {
   "cell_type": "code",
   "execution_count": null,
   "metadata": {},
   "outputs": [],
   "source": [
    "### TO DO ###"
   ]
  },
  {
   "cell_type": "markdown",
   "metadata": {},
   "source": [
    "> Représenter et comparer les histogrammes des 9 variables d'humidité (`HR_i`) en les affichant dans une figure 3x3. Pourquoi selon vous la forme de la distributon de `RH_6` se distingue fortement des autres (on pourra consulter le plan des capteurs)."
   ]
  },
  {
   "cell_type": "code",
   "execution_count": null,
   "metadata": {},
   "outputs": [],
   "source": [
    "### TO DO ###"
   ]
  },
  {
   "cell_type": "markdown",
   "metadata": {},
   "source": [
    "> Contrairement aux autre variables, vérifier que la variable `lights` ne prend que quelques valeurs. Proposer une représentation convenable pour représenter cette distribution discrète. "
   ]
  },
  {
   "cell_type": "code",
   "execution_count": null,
   "metadata": {},
   "outputs": [],
   "source": [
    "### TO DO ###"
   ]
  },
  {
   "cell_type": "markdown",
   "metadata": {
    "jp-MarkdownHeadingCollapsed": true,
    "tags": []
   },
   "source": [
    "## Etude des corrélations"
   ]
  },
  {
   "cell_type": "markdown",
   "metadata": {},
   "source": [
    "Les données étudiées ici sont évidemment de nature temporelle. Il existe des outils statistiques pour étudier des [auto-corrélations](https://en.wikipedia.org/wiki/Autocorrelation) dans une série temporelle et les [cross correlations](https://en.wikipedia.org/wiki/Cross-correlation) entre deux séries temporelles.\n",
    "\n",
    "Pour ce TP, on se limitera cependant à une étude de la corrélation sans prendre en compte la dimension temporelle, ce qui donne déjà des indications importantes entre les corrélations entre les variables."
   ]
  },
  {
   "cell_type": "markdown",
   "metadata": {},
   "source": [
    "> Vérifier que la corrélation entre  `T_out`et `T_6`est très élevée."
   ]
  },
  {
   "cell_type": "code",
   "execution_count": null,
   "metadata": {},
   "outputs": [],
   "source": [
    "### TO DO ###"
   ]
  },
  {
   "cell_type": "markdown",
   "metadata": {},
   "source": [
    "> Etudier la matrice corrélation entre toutes les variables de température. Que pouvez-vous en déduire dans la perspective de la prédiction de la variables `Appliances`? Même question pour les variables d'humidité."
   ]
  },
  {
   "cell_type": "code",
   "execution_count": null,
   "metadata": {},
   "outputs": [],
   "source": [
    "### TO DO ###"
   ]
  },
  {
   "cell_type": "markdown",
   "metadata": {},
   "source": [
    "> Calculer la correlation entre `Appliances` et toutes les autres variables."
   ]
  },
  {
   "cell_type": "code",
   "execution_count": null,
   "metadata": {},
   "outputs": [],
   "source": [
    "### TO DO ###"
   ]
  },
  {
   "cell_type": "markdown",
   "metadata": {
    "jp-MarkdownHeadingCollapsed": true,
    "tags": []
   },
   "source": [
    "## Regression simple de la consomation de T_out par T1"
   ]
  },
  {
   "cell_type": "markdown",
   "metadata": {},
   "source": [
    "La [bibliothèque scikit-learn](https://scikit-learn.org/stable/index.html), qui est entièrement dédiée aux méthodes d'apprentissage automatique, permet d'ajuster des [modèles de régression linéaire](https://scikit-learn.org/stable/modules/generated/sklearn.linear_model.LinearRegression.html) sur les données. \n",
    "\n",
    "Les procédures de scikit-learn nécessitent de manipuler les données sous forme de tableaux numpy.\n",
    "\n",
    "Pour se positionner dans un contexte non temporel et ignorer la corrélation dans le temps de T1 et T_out,  on commence par sous-échantilloner drastiquement les données. On se retrouve ainsi (artificiellement) dans une situation plus standard et plus adaptée à l'étude d'un premier modèle de régression linéaire simple. \n",
    "\n",
    "Bien sûr, idéalement il ne faudrait pas procéder ainsi mais au contraire conserver les séries temporelles complètes et étudier des modèles de regression pour séries temporelles."
   ]
  },
  {
   "cell_type": "code",
   "execution_count": null,
   "metadata": {},
   "outputs": [],
   "source": [
    "from sklearn.utils import resample\n",
    "T1 = conso.T1.values\n",
    "Tout = conso.T_out.values\n",
    "T1_mini,Tout_mini = resample(T1,\n",
    "                             Tout,\n",
    "                             random_state=0,\n",
    "                             n_samples=500)"
   ]
  },
  {
   "cell_type": "code",
   "execution_count": null,
   "metadata": {},
   "outputs": [],
   "source": [
    "from sklearn.linear_model import LinearRegression\n",
    "\n",
    "reg = LinearRegression(); # instanciation d'un modèle de regression lineaire\n",
    "reg.fit(T1_mini.reshape(-1, 1) ,Tout_mini); # ajustement par moindres carrés sur les\n",
    "# données\n",
    "# le reshape est nécessaire pour que T1_mini apparaisse comme une matrice\n",
    "# à une seule colonne, et pas comme un vecteur ligne"
   ]
  },
  {
   "cell_type": "markdown",
   "metadata": {},
   "source": [
    "On peut ensuite récupérer facilement les coefficients du modèle de régression, tout d'abord le terme constant:"
   ]
  },
  {
   "cell_type": "code",
   "execution_count": null,
   "metadata": {},
   "outputs": [],
   "source": [
    "reg.intercept_"
   ]
  },
  {
   "cell_type": "markdown",
   "metadata": {},
   "source": [
    "et le coefficient pour T1:"
   ]
  },
  {
   "cell_type": "code",
   "execution_count": null,
   "metadata": {},
   "outputs": [],
   "source": [
    "reg.coef_"
   ]
  },
  {
   "cell_type": "markdown",
   "metadata": {},
   "source": [
    "La fonction `predict` permet de donner les prédictions du modèle en des points donnés:"
   ]
  },
  {
   "cell_type": "code",
   "execution_count": null,
   "metadata": {},
   "outputs": [],
   "source": [
    "reg.predict([[20.5], [18]])"
   ]
  },
  {
   "cell_type": "markdown",
   "metadata": {},
   "source": [
    "> Retrouver ces prédictions à l'aide des coefficients du modèle :  "
   ]
  },
  {
   "cell_type": "code",
   "execution_count": null,
   "metadata": {},
   "outputs": [],
   "source": [
    "### TO DO ###"
   ]
  },
  {
   "cell_type": "markdown",
   "metadata": {},
   "source": [
    "> Afficher sur un même graphique le nuage des points (T1_mini,Tout_mini) ainsi que la droite de régression ajustée."
   ]
  },
  {
   "cell_type": "code",
   "execution_count": null,
   "metadata": {},
   "outputs": [],
   "source": [
    "### TO DO ###"
   ]
  },
  {
   "cell_type": "markdown",
   "metadata": {},
   "source": [
    "On définit le résidu de l'observation $i$ par $\\hat \\epsilon_i = Y_i - {\\hat Y}_i  =   {T_{out}}_i - {\\hat T_{out}}_i $. L'analyse des résidus est un ensemble de représentations graphiques qui vise notamment à identifier si les résidus contiennent encore de l'information qui pourrait être expliquée par les régresseurs."
   ]
  },
  {
   "cell_type": "markdown",
   "metadata": {},
   "source": [
    "> Calculer le vecteur des résidus et afficher ce dernier en fonction de ${T_1}_{mini}$ . On notera que le nuage présente une forme légèrement en U, ce qui pourrait suggérer d'ajouter comme régresseur la variable ${T_1}_{mini}^2$ dans le modèle  (vous pouvez essayer)."
   ]
  },
  {
   "cell_type": "code",
   "execution_count": null,
   "metadata": {},
   "outputs": [],
   "source": [
    "### TO DO ###"
   ]
  },
  {
   "cell_type": "markdown",
   "metadata": {},
   "source": [
    "> Calculer l'erreur quadratique moyenne $MSE = \\frac 1n \\sum_{i=1}^n \\left( {T_{out}}_i - {\\hat Y_{out}}_i \\right)^2$. "
   ]
  },
  {
   "cell_type": "code",
   "execution_count": null,
   "metadata": {},
   "outputs": [],
   "source": [
    "### TO DO ###"
   ]
  },
  {
   "cell_type": "markdown",
   "metadata": {},
   "source": [
    "En régression, le modèle le plus basique possible est celui qui prédit tout le temps par une constante, et on peut facilement vérifier que pour minimiser la MSE il faut alors prédire par la moyenne $\\bar Y$ de la variable à prédire Y (pour ce TP prendre évidemment $Y = T_{out}$) .\n",
    "\n",
    "Ce modèle peut être aussi défini comme un modèle de regression linéaire avec un seul feature qui est constant et égal à 1 (et le coefficient de ce feature vaut alors $\\bar Y$.\n",
    "\n",
    "La MSE de ce modèle basique vaut par définition la variance de la variable à prédire : \n",
    "$$ \n",
    "MSE_{basique} = \\frac 1n \\sum_{i=1}^n \\left( Y_i - {\\hat Y}_i \\right)^2 \n",
    "= \\frac 1n \\sum_{i=1}^n \\left( Y_i - \\bar Y \\right)^2 \n",
    "= var(Y)\n",
    "$$\n",
    "On définit alors le coefficient de détermination d'un modèle de régression par  $$ R^2 = 1 - \\frac{MSE}{var(Y)} .$$\n",
    "Ce score mesure la qualité de l'ajustement du modèle sur les données. Il est compris entre 0 et 1. Un score près de 1 correspond à un très bon ajustement alors qu'un score proche de 0 signifie que la MSE du modèle est aussi élevée que celle du modèle basique, autrement dit que le modèle évalué ne fait pas mieux que le modèle le plus basique.\n",
    "\n",
    "On calcule le coefficient de détermination $R^2$ avec la fonction score :"
   ]
  },
  {
   "cell_type": "code",
   "execution_count": null,
   "metadata": {},
   "outputs": [],
   "source": [
    "reg.score(T1.reshape(-1,1),Tout)"
   ]
  },
  {
   "cell_type": "markdown",
   "metadata": {},
   "source": [
    "## Regression multiple"
   ]
  },
  {
   "cell_type": "markdown",
   "metadata": {
    "jp-MarkdownHeadingCollapsed": true,
    "tags": []
   },
   "source": [
    "### Scénario 1 : prédiction à chaque instant"
   ]
  },
  {
   "cell_type": "markdown",
   "metadata": {},
   "source": [
    "Nous allons maintenant passer à l'étude d'un modèle de régression multiple. On s'intéresse au problème (difficile) de la prédiction de la consommation  au temps t par toutes les autres variables  au temps t (à l'exception de la variable date)."
   ]
  },
  {
   "cell_type": "code",
   "execution_count": null,
   "metadata": {},
   "outputs": [],
   "source": [
    "data = conso_train.to_numpy()  \n",
    "Appliances_train = data[:,1]\n",
    "X_features_train = data[:,2:]"
   ]
  },
  {
   "cell_type": "code",
   "execution_count": null,
   "metadata": {},
   "outputs": [],
   "source": [
    "reg2 = LinearRegression(); \n",
    "reg2.fit(X_features_train,Appliances_train);"
   ]
  },
  {
   "cell_type": "markdown",
   "metadata": {},
   "source": [
    "> Afficher le vecteur des coefficients estimés"
   ]
  },
  {
   "cell_type": "code",
   "execution_count": null,
   "metadata": {},
   "outputs": [],
   "source": [
    "### TO DO ###"
   ]
  },
  {
   "cell_type": "markdown",
   "metadata": {},
   "source": [
    "> Retrouver cette estimation grâce à la formule des moindres carrés :\n",
    "    $$\\hat \\theta = (X'X)^{-1} X' y.$$\n",
    "En utilisant les calculs matricielle de numpy, on note des différences assez importantes par rapport au coefficient renvoyé par sckit-learn (probablement dues à un calcul approximatif de l'inverse pour numpy)."
   ]
  },
  {
   "cell_type": "code",
   "execution_count": null,
   "metadata": {},
   "outputs": [],
   "source": [
    "### TO DO ###"
   ]
  },
  {
   "cell_type": "markdown",
   "metadata": {},
   "source": [
    "> Calculer le coefficient de détermination sur les données d'apprentissage. L'ajustement est-il bon ?"
   ]
  },
  {
   "cell_type": "code",
   "execution_count": null,
   "metadata": {},
   "outputs": [],
   "source": [
    "### TO DO ###"
   ]
  },
  {
   "cell_type": "markdown",
   "metadata": {},
   "source": [
    "> Calculer les prédictions sur les données du mois de mai et comparer aux vraies valeurs. Calculer le coefficient de détermination $R^2$ sur les données de mai, vérifier que ce dernier est clairement inférieure au $R^2$ calculé sur les données d'apprentissage. Est-ce moral ?"
   ]
  },
  {
   "cell_type": "code",
   "execution_count": null,
   "metadata": {},
   "outputs": [],
   "source": [
    "### TO DO ###"
   ]
  },
  {
   "cell_type": "markdown",
   "metadata": {
    "jp-MarkdownHeadingCollapsed": true,
    "tags": []
   },
   "source": [
    "### Scénario 2 : features historiques"
   ]
  },
  {
   "cell_type": "markdown",
   "metadata": {
    "tags": []
   },
   "source": [
    "Dans la réalité pour faire la prédiction au temps t, on dispose de l'historique des consommations du passé. On peut imaginer des scénarios variés suivant ce que l'on peut prendre comme features à l'instant où l'on souhaite faire la prédiction de consommation.\n",
    "\n",
    "> Pour les données avant mai d'une part, et pour les données de mai d'autre part, créer une nouvelle colonne dans les features qui contient la consommation enregistrée 10 minutes plus tôt. Effectuer l'ajustement pour ce nouveau modèle de régression et comparer les performances de ce modèle à celui du modèle précédent."
   ]
  },
  {
   "cell_type": "code",
   "execution_count": null,
   "metadata": {},
   "outputs": [],
   "source": [
    "### TO DO ###"
   ]
  },
  {
   "cell_type": "markdown",
   "metadata": {
    "jp-MarkdownHeadingCollapsed": true,
    "tags": []
   },
   "source": [
    "### (En Bonus!) Scénario 3 : Données agrégées et features historiques "
   ]
  },
  {
   "cell_type": "markdown",
   "metadata": {},
   "source": [
    "Dans ce dernier scénario, on suppose que l'on ne dispose pas, au moment de la prédiction, de la consommation des 10 minutes précédentes (Scénario 2), mais que l'on dispose en revanche de la consommation totale de la journée précédente (i.e. la somme).\n",
    "\n",
    "> Construire la matrice des features qui correspond à ce problème et ajuster un modèle de régression linéaire multiple pour construire le prédicteur. Discuter la qualité de l'ajustement."
   ]
  },
  {
   "cell_type": "code",
   "execution_count": null,
   "metadata": {},
   "outputs": [],
   "source": [
    "### TO DO ###\n",
    "\n",
    "\n",
    "\n",
    "\n",
    "\n",
    "\n",
    "\n"
   ]
  },
  {
   "cell_type": "markdown",
   "metadata": {
    "tags": []
   },
   "source": [
    "**Remarque**  : la librairie [statsmodels](https://www.statsmodels.org/stable/) permet une étude plus fine du modèle de la régression linéaire, avec des procédures statistiques pour discuter l'estimation du modèle, des tests d'hypothèse, des régions de confiance sur les quantités d'interêt du modèle. Ces approches nécessitent une approche très statistique du modèle linéaire que nous n'abordons pas dans ce cours."
   ]
  }
 ],
 "metadata": {
  "kernelspec": {
   "display_name": "Python 3 (ipykernel)",
   "language": "python",
   "name": "python3"
  },
  "language_info": {
   "codemirror_mode": {
    "name": "ipython",
    "version": 3
   },
   "file_extension": ".py",
   "mimetype": "text/x-python",
   "name": "python",
   "nbconvert_exporter": "python",
   "pygments_lexer": "ipython3",
   "version": "3.10.12"
  }
 },
 "nbformat": 4,
 "nbformat_minor": 4
}
