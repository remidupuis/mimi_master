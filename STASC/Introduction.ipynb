{
 "cells": [
  {
   "cell_type": "markdown",
   "metadata": {},
   "source": [
    "# Introduction to scientific computing with Python\n",
    "\n",
    "*Merci à [Maxime Sangnier](https://perso.lpsm.paris/~msangnier/) d'avoir partagé avec nous ses TPs.*\n",
    "\n",
    "\n",
    "## Part 1: Basics of Python"
   ]
  },
  {
   "cell_type": "markdown",
   "metadata": {},
   "source": [
    "# Table of contents\n",
    "1. [What is and why Python](#part1)\n",
    "    - [Overview](#part1sec1)\n",
    "    - [Comparison with other languages](#part1sec2)\n",
    "1. [Practical points](#part2)\n",
    "    - [Versions of Python](#part2sec1)\n",
    "    - [Installation](#part2sec2)\n",
    "    - [Usage](#part2sec3)\n",
    "    - [Getting help](#part2sec4)\n",
    "1. [An introduction to JupyterLab](#part3)\n",
    "    - [Survival kit](#part3sec1)\n",
    "    - [Useful features](#part3sec2)\n",
    "    - [Text and equations](#part3sec3)\n",
    "    - [Run and share JupyterLab on the cloud](#part3sec4)\n",
    "1. [Basics of the Python language](#part4)\n",
    "    - [Numbers](#part4sec1)\n",
    "    - [Data structures](#part4sec2)\n",
    "    - [Conditional statements](#part4sec3)\n",
    "    - [For loop](#part4sec4)\n",
    "    - [While loop](#part4sec5)\n",
    "    - [Function](#part4sec6)\n",
    "    - [Modules](#part4sec7)\n",
    "1. [Exercises](#part5)\n",
    "1. [References](#part6)\n"
   ]
  },
  {
   "cell_type": "markdown",
   "metadata": {},
   "source": [
    "# What is and why Python <a id=\"part1\"></a>\n",
    "## Overview <a id=\"part1sec1\"></a>\n",
    "For scientific computing, one mainly needs three things:\n",
    "- workable toolboxes to applied mathematics, such as for sampling data, loading real-world data, processing, visualizing and analyzing them, solving equations, computing Fourier transformations, manipulating mathematical objects (polynomials, matrices, tensors), etc.\n",
    "- a perfect trade-off between power and easiness of the programming language (scientists are not developers);\n",
    "- efficient computations: code should execute quickly.\n",
    "\n",
    "As a consequence, a good language for scientific computing should gather these three aspects while providing also easy ways of communicating with collaborators (and students), as well as re-using and maintaining ad-hoc code produced by researchers.\n",
    "Python (in union with IPython and available packages such as Scipy) is a scripting language that is suitable for scientific computing regarding the previous requirements.\n",
    "The reasons of its popularity in the scientific community are that Python:\n",
    "- is free and open-source, making its development fast and the Python community excited;\n",
    "- comes with a rich collection of packages for scientific computing (not exhaustive yet);\n",
    "- can do much more than scientific computing (web server management, data bases, etc.). This is very useful since scientists interact with other domains of computer science;\n",
    "- is easy to learn, easy to write and easy to read;\n",
    "- can be structured and maintained efficiently (packages, modules, object oriented programming);\n",
    "- quite fast to execute thanks to a *precompilation*;\n",
    "- computationally demanding parts can be converted from Python to C ([Cython](http://cython.org/)).\n",
    "\n",
    "However, Python has also some drawbacks.\n",
    "In particular, it:\n",
    "- requires a more advanced knowledge in development (low-level commands, many types and containers) than other scientific languages such as Matlab and R, even though it is few compared to C;\n",
    "- comes with less packages than Matlab and R *in their own domain of research*;\n",
    "- is a language in progress. In particular, differences between Python 2 (still often used by operating systems) and Python 3 (used by researchers and scientists) can confuse the practitioner.\n",
    "\n",
    "## Comparison with other languages <a id=\"part1sec2\"></a>\n",
    "### R\n",
    "Advantages:\n",
    "- free and open-source;\n",
    "- very advanced features for statistics.\n",
    "\n",
    "Drawbacks:\n",
    "- the language is not so powerful;\n",
    "- dedicated to a single domain (statistics).\n",
    "\n",
    "### Matlab\n",
    "Advantages:\n",
    "- rich collection of toolboxes for many scientific domains. Each toolbox contains implementations of numerous common algorithms;\n",
    "- by default linked with a fast linear algebra library ([MKL](https://software.intel.com/en-us/intel-mkl));\n",
    "- easy to learn, easy to write (not so easy to read).\n",
    "\n",
    "Drawbacks:\n",
    "- not free;\n",
    "- parallel computation not available in the base version;\n",
    "- language not so powerful.\n",
    "\n",
    "### C,  C++\n",
    "Advantages:\n",
    "- very fast execution (optimized compilers). Such a compiled language serves as a baseline for measuring running times of implementations;\n",
    "- common and very powerful language.\n",
    "\n",
    "Drawbacks:\n",
    "- may be difficult to learn (language addressed to developers);\n",
    "- painful usage: no interactivity, compilation mandatory.\n",
    "\n",
    "# Practical points <a id=\"part2\"></a>\n",
    "## Versions of Python <a id=\"part2sec1\"></a>\n",
    "There are currently two versions of Python: 2 and 3.\n",
    "The most commonly used version in the research and industrial community is now Python 3, even though Python 2 may still be the default choice on several operating systems.\n",
    "\n",
    "Let us remark that Python 3 is not backwards-compatible (see [differences between both versions](https://docs.python.org/3/whatsnew/3.0.html)).\n",
    "In practice, this means that a Python 2 script cannot always be interpreted by Python 3 (and respectively).\n",
    "\n",
    "In this tutorial, we focus on Python 3.\n",
    "\n",
    "## Installation <a id=\"part2sec2\"></a>\n",
    "### Windows and macOS\n",
    "A Python essential kit can be easily obtained by installing [Anaconda](https://docs.anaconda.com/anaconda/install/).\n",
    "It includes all you need for scientific computing.\n",
    "In addition, an alternative to Anaconda is [Enthought Canopy](https://store.enthought.com/downloads/#default).\n",
    "Even though it is a commercial product, Canopy is free for academic purposes.\n",
    "Finally, another workable option on Windows is [Python(x,y)](http://python-xy.github.io/).\n",
    "\n",
    "### Linux\n",
    "On Debian and Ubuntu, a good option is to install Python and its package manager pip:\n",
    "\n",
    "    sudo apt-get install python3 python3-pip spyder3\n",
    "    \n",
    "Then, use pip to install the packages needed for scientific computing:\n",
    "\n",
    "    sudo pip3 install jupyter numpy scipy matplotlib pillow scikit-learn seaborn pandas statsmodels cvxopt ipympl tensorflow\n",
    "\n",
    "If you have trouble installing a package, use instead:\n",
    "\n",
    "    sudo apt-get install python3-[package_name]\n",
    "    \n",
    "## Usage <a id=\"part2sec3\"></a>\n",
    "Since Python is a scripting language, there are several ways to use it.\n",
    "The main ones are detailed below.\n",
    "\n",
    "### Command line\n",
    "In a shell, execute:\n",
    "\n",
    "    python3\n",
    "\n",
    "Then, start using it:\n",
    "\n",
    "    a = 3.14\n",
    "    print(\"hello world\")\n",
    "\n",
    "<img src=\"https://perso.lpsm.paris/~msangnier/files/pythonM2/img/console2.png\" width=700>\n",
    "\n",
    "Press CTRL+D or type:\n",
    "\n",
    "    quit()\n",
    "\n",
    "to exit.\n",
    "\n",
    "If your code is written in a file *script.py*, you can run it from a shell with:\n",
    "\n",
    "    python3 script.py\n",
    "\n",
    "or in Python with:\n",
    "\n",
    "    execfile('script.py')\n",
    "\n",
    "### IPython\n",
    "[IPython](http://ipython.org/) is a powerful interactive shell that comes with numerous useful features such as:\n",
    "- interactivity;\n",
    "- tab-completion;\n",
    "- command history;\n",
    "- object introspection;\n",
    "- special (magic) commands;\n",
    "- numbered input/output.\n",
    "\n",
    "<img src=\"https://perso.lpsm.paris/~msangnier/files/pythonM2/img/iconsole2.png\" width=700>\n",
    "\n",
    "One can use up and down arrows to access command history, tab for completion and %[command] for [magic commands](http://ipython.org/ipython-doc/3/interactive/magics.html) (or directly [command]).\n",
    "The most used are:\n",
    "- *cd [path]*: change the current working directory;\n",
    "- *history*: print input history;\n",
    "- *load [file]*: load code into the current frontend;\n",
    "- *matplotlib [gui]*: set up matplotlib to work interactively;\n",
    "- *pwd*: return the current working directory path;\n",
    "- *reset*: reset the namespace;\n",
    "- *run [file]*: run the script inside IPython as a program;\n",
    "- *whos*: print all interactive variables with extra information.\n",
    "\n",
    "To run a script, use:\n",
    "\n",
    "    run script.py\n",
    "\n",
    "### Spyder\n",
    "[Spyder](http://pythonhosted.org/spyder/) is a Matlab-like IDE that shows both an editor and a Python shell.\n",
    "It is an efficient tool for developing and testing codes.\n",
    "\n",
    "<img src=\"https://perso.lpsm.paris/~msangnier/files/pythonM2/img/spyder2.png\" width=700>\n",
    "In particular feature, it enables to run only part of the script while keeping the previous results (variable states) in memory.\n",
    "\n",
    "To run a script, you can edit it and press F5.\n",
    "If you want to execute only a selection of it, select the part of interest and press F9.\n",
    "\n",
    "### JupyterLab\n",
    "JupyterLab is a novel web-based IDE to produce easy-to-read reports with text, equations, code and results (called a notebook).\n",
    "This is what is used here!\n",
    "\n",
    "<img src=\"https://perso.lpsm.paris/~msangnier/files/pythonM2/img/jupyterlab.png\" width=700>\n",
    "\n",
    "To launch it, write in a shell:\n",
    "\n",
    "    jupyter-lab\n",
    "\n",
    "## Getting help <a id=\"part2sec4\"></a>\n",
    "Python and related modules are very well documented in local (docstrings) and on the Internet (documentation on the Internet may be clearer and updated compared to the local one).\n",
    "To access the docstring, use *help*:"
   ]
  },
  {
   "cell_type": "code",
   "execution_count": 7,
   "metadata": {},
   "outputs": [
    {
     "name": "stdout",
     "output_type": "stream",
     "text": [
      "Help on built-in function print in module builtins:\n",
      "\n",
      "print(...)\n",
      "    print(value, ..., sep=' ', end='\\n', file=sys.stdout, flush=False)\n",
      "    \n",
      "    Prints the values to a stream, or to sys.stdout by default.\n",
      "    Optional keyword arguments:\n",
      "    file:  a file-like object (stream); defaults to the current sys.stdout.\n",
      "    sep:   string inserted between values, default a space.\n",
      "    end:   string appended after the last value, default a newline.\n",
      "    flush: whether to forcibly flush the stream.\n",
      "\n"
     ]
    }
   ],
   "source": [
    "help(print)"
   ]
  },
  {
   "cell_type": "markdown",
   "metadata": {},
   "source": [
    "In a notebook (or IPython), you can also use *?* and SHIFT+TAB:\n",
    "\n",
    "<img src=\"https://perso.lpsm.paris/~msangnier/files/pythonM2/img/help.png\" width=1000>"
   ]
  },
  {
   "cell_type": "markdown",
   "metadata": {},
   "source": [
    "Otherwise, you can search the net for an answer.\n",
    "The easiest way is to google your query: [vandermonde matrix python](https://www.google.fr/?client=ubuntu#channel=fs&q=vandermonde+matrix+python&gfe_rd=cr).\n",
    "\n",
    "Finally, you can go directly to a package documentation website.\n",
    "The following links provide the documentation of the packages used in this introduction (see next sections for details on the packages):\n",
    "- [official documentation](https://docs.python.org/3.5/tutorial/index.html);\n",
    "- [Scipy](http://docs.scipy.org/doc/scipy/reference/);\n",
    "- [Numpy](http://docs.scipy.org/doc/numpy/reference/);\n",
    "- [Statsmodels](http://www.statsmodels.org/stable/index.html);\n",
    "- [Scikit-learn](http://scikit-learn.org/stable/documentation.html).\n",
    "\n",
    "# An introduction to JupyterLab <a id=\"part3\"></a>\n",
    "A notebook is a sequence of cells that may be of two types:\n",
    "- code: it enables to edit, execute and see the output of a small Python script;\n",
    "- markdown: if offers a way to write text and equations, as well as to import images.\n",
    "\n",
    "## Survival kit <a id=\"part3sec1\"></a>\n",
    "A Jupyter notebook can be modified in two modes:\n",
    "- the command mode: we can add, delete and modify cells;\n",
    "- the edit mode: we can edit and run the script inside a cell.\n",
    "\n",
    "The forthcoming sections describe the most useful keyboard shortcuts.\n",
    "An exhaustive list of the available actions and shortcuts can be found by hitting the palette in the menu bar (or CTRL+SHIFT+C).\n",
    "\n",
    "It is highly recommended to experience these shortcuts on your own on the test cell below.\n",
    "\n",
    "### Command shortcuts\n",
    "If you are in the edit mode, press ESC to enter the command mode.\n",
    "\n",
    "- To edit a cell (enter the edit mode), go to the desired cell and press ENTER.\n",
    "- To add a cell below, press B.\n",
    "- To add a cell above, press A.\n",
    "- To cut a cell, press X.\n",
    "- To copy a cell, press C.\n",
    "- To paste a cell below, press V.\n",
    "- To delete a cell, press DD.\n",
    "- To convert a cell to a markdown cell, press M.\n",
    "- To convert a cell to a code cell, press Y.\n",
    "\n",
    "### Edit shortcuts\n",
    "If you are in the command mode, press ENTER to enter the edit mode.\n",
    "\n",
    "- To run a cell, press CTRL+ENTER.\n",
    "- To run a cell and select the one below, press SHIFT+ENTER.\n",
    "- To run a cell and add one below, press ALT+ENTER.\n",
    "- To apply autocompletion, press TAB at the end of the word. For example, write \"pri\", then press TAB.\n",
    "It gives \"print\".\n",
    "- To get an inline help, press SHIFT+TAB.\n",
    "- To indent several lines, select them and press TAB.\n",
    "- To dedent several lines, select them and press SHIFT+TAB.\n",
    "- To (un)comment a line (or several ones after selection), press CTRL+/.\n",
    "- To exit the edit mode, press ESC.\n"
   ]
  },
  {
   "cell_type": "code",
   "execution_count": 8,
   "metadata": {},
   "outputs": [
    {
     "name": "stdout",
     "output_type": "stream",
     "text": [
      "This is a test cell\n"
     ]
    }
   ],
   "source": [
    "print(\"This is a test cell\")"
   ]
  },
  {
   "cell_type": "markdown",
   "metadata": {},
   "source": [
    "## Useful features <a id=\"part3sec2\"></a>\n",
    "### Code console\n",
    "You can open a code console by clicking the + button in the file browser and selecting the kernel.\n",
    "It enables you to run interactively small part of codes in a console, keeping the history in full view.\n",
    "\n",
    "Such a code console can also be opened or linked to a Python file.\n",
    "This is a way to run a part of code directly from a Python file.\n",
    "To do so, when editing this file, right-click in it and  select *Create Console for Editor*. Then, select a single line or a block of code and send it to the code console by hitting SHIFT+ENTER.\n",
    "\n",
    "### Mirrored output\n",
    "You can create a new synchronized view of a cell output by right-clicking a cell and hitting *Create New View for Output*.\n",
    "This view can then be moved to a separate tab."
   ]
  },
  {
   "cell_type": "markdown",
   "metadata": {},
   "source": [
    "## Text and equations <a id=\"part3sec3\"></a>\n",
    "By default, cells are for code but they can be converted to markdown cells (see the shortcut above).\n",
    "Markdown cells accept both [Markdown](https://jupyter-notebook.readthedocs.io/en/stable/examples/Notebook/Working%20With%20Markdown%20Cells.html) (text formatting) and [LaTeX](https://fr.wikipedia.org/wiki/Aide:Formules_TeX) (equations).\n",
    "\n",
    "### General formatting\n",
    "Headings are defined with the symbol `#`:\n",
    "    # First level\n",
    "    ## Second level\n",
    "    ### Third level\n",
    "    #### Fourth level\n",
    "    ##### Fifth level\n",
    "    \n",
    "Even though paragraphs are defined automatically, you can force a line break with the code `<br>` or draw a horizontal line with `***`.\n",
    "***\n",
    "\n",
    "### Items, emphasis and colors\n",
    "Lists can be characterized by bullets, using `-`:\n",
    "- Bullet 1;\n",
    "- Bullet 2;\n",
    "or by numbers, using `1.`:\n",
    "1. first item;\n",
    "1. second item.\n",
    "\n",
    "Lists can also be nested thanks to indented symbols:\n",
    "- Bullet 1;\n",
    "    1. Item 1;\n",
    "    2. Item 2.\n",
    "- Bullet 2;\n",
    "    1. a single item.\n",
    "\n",
    "Emphasis can be done by **bold** (using `**text**`) or *italic* font (using `*text*`).\n",
    "\n",
    "Colors are defined by the code `<font color=blue|red|green|pink|yellow>text</font>`.\n",
    "This has to be used carefully since it is more html code than Markdown scripting.\n",
    "\n",
    "### Raw text and quoting\n",
    "You can use inline raw text for path and file names using the single quote symbol ` or indentation for blocs.\n",
    "\n",
    "For instance, this is a `# raw text`, while this is a raw bloc:\n",
    "\n",
    "    raw text\n",
    "    with multiple lines.\n",
    "    \n",
    "You can also quote by using `>`:\n",
    "    \n",
    "> A mathematician is a device for turning coffee into theorems.<br>\n",
    "Paul Erdos\n",
    "\n",
    "### Images and references\n",
    "\n",
    "You can add an image with `![text](URL)`:\n",
    "\n",
    "![Picture by Vincent Delerm](http://photo.vincent-delerm.com/wp-content/uploads/2018/03/F1060019.jpg)\n",
    "\n",
    "> Picture by [Vincent Delerm](http://vincent-delerm.com/).\n",
    "\n",
    "You may also use `<img src=\"URL\" width=WIDTH>` to resize the image.\n",
    "\n",
    "\n",
    "\n",
    "\n",
    "\n",
    "References can be made to external links with `[text](URL)` and to internal labels with `[text](#label)`, where a tag `<a id=\"label\"></a>` has been put somewhere in the notebook.\n",
    "\n",
    "### Equations\n",
    "Equations should be written in the LaTeX language, for which help is [available](https://fr.wikipedia.org/wiki/Aide:Formules_TeX).\n",
    "If you know the symbol and want to obtain the LaTeX command, you can [detexify](http://detexify.kirelabs.org/classify.html) it.\n",
    "\n",
    "You only need basics of LaTeX:\n",
    "- Inline equation with `$equation$`: $x = \\sqrt{2}$.    \n",
    "- Centered equation with\n",
    "\n",
    "\n",
    "        $$\n",
    "        [equation]\n",
    "    $$\n",
    "\n",
    "For instance:\n",
    "$$\n",
    "    \\int_0^1 1 \\, dx = 1.\n",
    "$$\n",
    "- Multiple line equation with\n",
    "\n",
    "\n",
    "        \\begin{align}\n",
    "        item &= item \\\\\n",
    "        &= item.\n",
    "    \\end{align}\n",
    "\n",
    "For instance:\n",
    "\\begin{align}\n",
    "    \\int_0^1 1 \\, dx &= \\frac{1}{2} \\int_0^1 2 \\, dx\\\\\n",
    "    &= \\frac{1}{2} \\cdot 2 \\\\\n",
    "    &= 1.\n",
    "\\end{align}\n",
    "- Exponents and subscripts with `^` and `_`: $x_{i}^2$.\n",
    "- Summation and product with `\\sum_{i=1}^n` and `\\prod_{i=1}^n`: $\\sum_{i=1}^n \\prod_{j=1}^m x_{ij}$.\n",
    "- Real numbers with `\\mathbb`: $\\forall x \\in \\mathbb R^d$.\n",
    "- Calligraphic letters with `\\mathcal`: $\\mathcal N(0, 1)$.\n",
    "- Big parentheses with `\\left(… \\right)`: $\\left( \\frac{1}{n} \\sum_{i=1}^n x_i \\right)$."
   ]
  },
  {
   "cell_type": "markdown",
   "metadata": {},
   "source": [
    "## Run and share your Jupyter Notebook in the cloud  <a id=\"#part3sec4\"></a>"
   ]
  },
  {
   "cell_type": "markdown",
   "metadata": {},
   "source": [
    "You can share a fully interactive Jupyter notebook that doesn't require any installation with [Binder](https://mybinder.org/), [Google Colaboratory](https://colab.research.google.com), or [Kaggle kernels](https://www.kaggle.com/notebooks), among other.\n",
    "\n",
    "[Kaggle](https://www.kaggle.com/notebooks) and [Google Colaboratory](https://colab.research.google.com) supports free GPU computing, which is important for Deep Learning projects for instance.\n",
    "\n",
    "See [this blog](https://www.dataschool.io/cloud-services-for-jupyter-notebook/#3googlecolaboratorycolab) for more details.\n"
   ]
  },
  {
   "cell_type": "markdown",
   "metadata": {},
   "source": [
    "# Basics of the Python language <a id=\"part4\"></a>\n",
    "## Numbers <a id=\"part4sec1\"></a>\n",
    "### Integer, floats and complex"
   ]
  },
  {
   "cell_type": "code",
   "execution_count": 9,
   "metadata": {},
   "outputs": [],
   "source": [
    "a = 1  # Integer\n",
    "b = 1.  # Float\n",
    "c = 1.+2.j  # Complex"
   ]
  },
  {
   "cell_type": "code",
   "execution_count": 10,
   "metadata": {},
   "outputs": [
    {
     "name": "stdout",
     "output_type": "stream",
     "text": [
      "1\n"
     ]
    },
    {
     "data": {
      "text/plain": [
       "int"
      ]
     },
     "execution_count": 10,
     "metadata": {},
     "output_type": "execute_result"
    }
   ],
   "source": [
    "print(a)\n",
    "type(a)"
   ]
  },
  {
   "cell_type": "code",
   "execution_count": 11,
   "metadata": {},
   "outputs": [
    {
     "name": "stdout",
     "output_type": "stream",
     "text": [
      "1.0\n"
     ]
    },
    {
     "data": {
      "text/plain": [
       "float"
      ]
     },
     "execution_count": 11,
     "metadata": {},
     "output_type": "execute_result"
    }
   ],
   "source": [
    "print(b)\n",
    "type(b)"
   ]
  },
  {
   "cell_type": "code",
   "execution_count": 12,
   "metadata": {},
   "outputs": [
    {
     "name": "stdout",
     "output_type": "stream",
     "text": [
      "(1+2j)\n"
     ]
    },
    {
     "data": {
      "text/plain": [
       "complex"
      ]
     },
     "execution_count": 12,
     "metadata": {},
     "output_type": "execute_result"
    }
   ],
   "source": [
    "print(c)\n",
    "type(c)"
   ]
  },
  {
   "cell_type": "code",
   "execution_count": 13,
   "metadata": {},
   "outputs": [
    {
     "name": "stdout",
     "output_type": "stream",
     "text": [
      "1.0 2.0\n"
     ]
    }
   ],
   "source": [
    "print(c.real, c.imag)"
   ]
  },
  {
   "cell_type": "markdown",
   "metadata": {},
   "source": [
    "**Question**\n",
    "\n",
    "What are the result and the type of the following expressions:\n",
    "- 3+5.;\n",
    "- 16 * 4;\n",
    "- 8 / 2;\n",
    "- 2 * 10 / 2?"
   ]
  },
  {
   "cell_type": "code",
   "execution_count": 6,
   "metadata": {},
   "outputs": [
    {
     "name": "stdout",
     "output_type": "stream",
     "text": [
      "['3+5. = 8.0', '16 * 4 = 64', '8 / 2 = 4.0', '2 * 10 / 2 = 10.0']\n"
     ]
    }
   ],
   "source": [
    "# Answer\n",
    "equations = [\n",
    "    \"3+5.\",\n",
    "    \"16 * 4\",\n",
    "    \"8 / 2\",\n",
    "    \"2 * 10 / 2\"]\n",
    "print([f\"{equation} = {eval(equation)}\" for equation in equations])\n"
   ]
  },
  {
   "cell_type": "markdown",
   "metadata": {},
   "source": [
    "### Booleans"
   ]
  },
  {
   "cell_type": "code",
   "execution_count": 14,
   "metadata": {},
   "outputs": [
    {
     "data": {
      "text/plain": [
       "bool"
      ]
     },
     "execution_count": 14,
     "metadata": {},
     "output_type": "execute_result"
    }
   ],
   "source": [
    "test = True\n",
    "type(test)"
   ]
  },
  {
   "cell_type": "code",
   "execution_count": 15,
   "metadata": {},
   "outputs": [
    {
     "name": "stdout",
     "output_type": "stream",
     "text": [
      "True\n"
     ]
    }
   ],
   "source": [
    "print(test and a == 1)"
   ]
  },
  {
   "cell_type": "code",
   "execution_count": 16,
   "metadata": {},
   "outputs": [
    {
     "name": "stdout",
     "output_type": "stream",
     "text": [
      "True\n"
     ]
    }
   ],
   "source": [
    "print(test or a == 2)"
   ]
  },
  {
   "cell_type": "code",
   "execution_count": 17,
   "metadata": {},
   "outputs": [
    {
     "name": "stdout",
     "output_type": "stream",
     "text": [
      "False\n"
     ]
    }
   ],
   "source": [
    "print(a != 1)"
   ]
  },
  {
   "cell_type": "code",
   "execution_count": 18,
   "metadata": {},
   "outputs": [
    {
     "name": "stdout",
     "output_type": "stream",
     "text": [
      "False\n"
     ]
    }
   ],
   "source": [
    "print(test and not a == 1)"
   ]
  },
  {
   "cell_type": "markdown",
   "metadata": {},
   "source": [
    "A Boolean is a number:"
   ]
  },
  {
   "cell_type": "code",
   "execution_count": 19,
   "metadata": {},
   "outputs": [
    {
     "name": "stdout",
     "output_type": "stream",
     "text": [
      "1\n"
     ]
    }
   ],
   "source": [
    "print(int(test))  # Cast Boolean to int"
   ]
  },
  {
   "cell_type": "code",
   "execution_count": 20,
   "metadata": {},
   "outputs": [
    {
     "name": "stdout",
     "output_type": "stream",
     "text": [
      "2 0 3.2\n"
     ]
    }
   ],
   "source": [
    "print(test+1, test-1, test*3.2)"
   ]
  },
  {
   "cell_type": "markdown",
   "metadata": {},
   "source": [
    "**Question**\n",
    "\n",
    "Write an expression that returns:\n",
    "- $-1$ if $x \\le -1$;\n",
    "- $1$ if $x \\ge 1$;\n",
    "- x otherwise."
   ]
  },
  {
   "cell_type": "code",
   "execution_count": 24,
   "metadata": {},
   "outputs": [
    {
     "name": "stdout",
     "output_type": "stream",
     "text": [
      "['expression(-3) = -1', 'expression(-2.0) = -1', 'expression(-1) = -1', 'expression(0.6) = 0.6', 'expression(1) = 1', 'expression(6) = 1']\n"
     ]
    }
   ],
   "source": [
    "# Answer\n",
    "def expression(x):\n",
    "    return -1 if x<-1 else 1 if x >1 else x\n",
    "\n",
    "xs = [-3, -2.0, -1, 0.6, 1, 6]\n",
    "print([f\"expression({x}) = {expression(x)}\" for x in xs])"
   ]
  },
  {
   "cell_type": "markdown",
   "metadata": {},
   "source": [
    "### Swap variables in a concise manner"
   ]
  },
  {
   "cell_type": "code",
   "execution_count": 25,
   "metadata": {},
   "outputs": [
    {
     "name": "stdout",
     "output_type": "stream",
     "text": [
      "1 3\n",
      "3 1\n"
     ]
    }
   ],
   "source": [
    "abis = 3\n",
    "print(a, abis)\n",
    "\n",
    "a, abis = abis, a  # Swap variables\n",
    "print(a, abis)"
   ]
  },
  {
   "cell_type": "markdown",
   "metadata": {},
   "source": [
    "### Operations\n",
    "Integers, floats, complex numbers and Booleans benefit from usual arithmetic operations.\n",
    "\n",
    "- Addition:"
   ]
  },
  {
   "cell_type": "code",
   "execution_count": 26,
   "metadata": {},
   "outputs": [
    {
     "name": "stdout",
     "output_type": "stream",
     "text": [
      "5.3\n"
     ]
    }
   ],
   "source": [
    "print(a+2.3)"
   ]
  },
  {
   "cell_type": "markdown",
   "metadata": {},
   "source": [
    "- Subtraction:"
   ]
  },
  {
   "cell_type": "code",
   "execution_count": 27,
   "metadata": {},
   "outputs": [
    {
     "name": "stdout",
     "output_type": "stream",
     "text": [
      "-2.0\n"
     ]
    }
   ],
   "source": [
    "print(b-3)"
   ]
  },
  {
   "cell_type": "markdown",
   "metadata": {},
   "source": [
    "- Multiplication:"
   ]
  },
  {
   "cell_type": "code",
   "execution_count": 29,
   "metadata": {},
   "outputs": [
    {
     "name": "stdout",
     "output_type": "stream",
     "text": [
      "(3+6j)\n"
     ]
    }
   ],
   "source": [
    "print(c * 3)"
   ]
  },
  {
   "cell_type": "markdown",
   "metadata": {},
   "source": [
    "- Division:\n",
    "    Beware: integers inherit from integer division in Python 2 and floating division in Python 3."
   ]
  },
  {
   "cell_type": "code",
   "execution_count": 28,
   "metadata": {},
   "outputs": [
    {
     "name": "stdout",
     "output_type": "stream",
     "text": [
      "0.5\n"
     ]
    }
   ],
   "source": [
    "print(1/2)  # Returns 0 in Python 2 and 0.5 in Python 3"
   ]
  },
  {
   "cell_type": "markdown",
   "metadata": {},
   "source": [
    "A good practice is to use floating numbers:"
   ]
  },
  {
   "cell_type": "code",
   "execution_count": 30,
   "metadata": {},
   "outputs": [
    {
     "name": "stdout",
     "output_type": "stream",
     "text": [
      "0.5\n",
      "1.5\n"
     ]
    }
   ],
   "source": [
    "print(1./2)\n",
    "print(a/2.)"
   ]
  },
  {
   "cell_type": "markdown",
   "metadata": {},
   "source": [
    "As well as explicit integer division (note that the result is of type *int*):"
   ]
  },
  {
   "cell_type": "code",
   "execution_count": 31,
   "metadata": {},
   "outputs": [
    {
     "name": "stdout",
     "output_type": "stream",
     "text": [
      "1 <class 'int'>\n"
     ]
    }
   ],
   "source": [
    "a = 3//2\n",
    "print(a, type(a))"
   ]
  },
  {
   "cell_type": "markdown",
   "metadata": {},
   "source": [
    "- Power:"
   ]
  },
  {
   "cell_type": "code",
   "execution_count": 32,
   "metadata": {},
   "outputs": [
    {
     "name": "stdout",
     "output_type": "stream",
     "text": [
      "1000\n"
     ]
    }
   ],
   "source": [
    "print(10**3)"
   ]
  },
  {
   "cell_type": "markdown",
   "metadata": {},
   "source": [
    "- Modulo:"
   ]
  },
  {
   "cell_type": "code",
   "execution_count": 34,
   "metadata": {},
   "outputs": [
    {
     "name": "stdout",
     "output_type": "stream",
     "text": [
      "1\n"
     ]
    }
   ],
   "source": [
    "print(5%2)"
   ]
  },
  {
   "cell_type": "markdown",
   "metadata": {},
   "source": [
    "**Question**\n",
    "\n",
    "Given two integers $x$ and $y$ such that $x \\ge y$, compute and print the quotient of the Euclidean division of $x$ by $y$.\n",
    "Do the same for the remainder."
   ]
  },
  {
   "cell_type": "code",
   "execution_count": 35,
   "metadata": {},
   "outputs": [],
   "source": [
    "# Answer\n",
    "#TODO"
   ]
  },
  {
   "cell_type": "markdown",
   "metadata": {},
   "source": [
    "## Data structures <a id=\"part4sec2\"></a>\n",
    "### Strings\n",
    "Strings are immutable objects (they cannot be modified), that can be defined with simple, double or triple quotes.\n",
    "Simple and double quotes are equivalent:"
   ]
  },
  {
   "cell_type": "code",
   "execution_count": 36,
   "metadata": {},
   "outputs": [
    {
     "name": "stdout",
     "output_type": "stream",
     "text": [
      "Wilcoxon\n"
     ]
    }
   ],
   "source": [
    "test1 = \"Wilcoxon\"\n",
    "test2 = 'Chi2'\n",
    "print(test1)"
   ]
  },
  {
   "cell_type": "markdown",
   "metadata": {},
   "source": [
    "… Except for quotes themselves.\n",
    "We write:"
   ]
  },
  {
   "cell_type": "code",
   "execution_count": 38,
   "metadata": {},
   "outputs": [
    {
     "name": "stdout",
     "output_type": "stream",
     "text": [
      "\" or \"\n"
     ]
    }
   ],
   "source": [
    "print(\"\\\"\" + \" or \" + '\"')"
   ]
  },
  {
   "cell_type": "markdown",
   "metadata": {},
   "source": [
    "And:"
   ]
  },
  {
   "cell_type": "code",
   "execution_count": 39,
   "metadata": {},
   "outputs": [
    {
     "name": "stdout",
     "output_type": "stream",
     "text": [
      "' or '\n"
     ]
    }
   ],
   "source": [
    "print('\\'' + ' or ' + \"'\")"
   ]
  },
  {
   "cell_type": "markdown",
   "metadata": {},
   "source": [
    "Triple quotes allow to have several lines:"
   ]
  },
  {
   "cell_type": "code",
   "execution_count": 40,
   "metadata": {},
   "outputs": [
    {
     "name": "stdout",
     "output_type": "stream",
     "text": [
      "This is\n",
      "a Wilcoxon test\n"
     ]
    }
   ],
   "source": [
    "txt1 = \"\"\"This is\n",
    "a Wilcoxon test\"\"\"\n",
    "print(txt1)"
   ]
  },
  {
   "cell_type": "markdown",
   "metadata": {},
   "source": [
    "This is equivalent to using the special character *\\\\n*:"
   ]
  },
  {
   "cell_type": "code",
   "execution_count": 41,
   "metadata": {},
   "outputs": [
    {
     "name": "stdout",
     "output_type": "stream",
     "text": [
      "This is\n",
      "a Chi2 test\n"
     ]
    }
   ],
   "source": [
    "txt2 = \"This is\\na Chi2 test\"\n",
    "print(txt2)"
   ]
  },
  {
   "cell_type": "markdown",
   "metadata": {},
   "source": [
    "#### Operations on strings\n",
    "Strings can be concatenated and repeated."
   ]
  },
  {
   "cell_type": "code",
   "execution_count": 42,
   "metadata": {},
   "outputs": [
    {
     "name": "stdout",
     "output_type": "stream",
     "text": [
      "Wilcoxon, p=0.1\n",
      "Chi2Chi2Chi2\n"
     ]
    }
   ],
   "source": [
    "print(test1 + \", p=\" + str(0.1))  # Concatenation\n",
    "print(test2 * 3)  # Repetition"
   ]
  },
  {
   "cell_type": "markdown",
   "metadata": {},
   "source": [
    "We can change the case of a string."
   ]
  },
  {
   "cell_type": "code",
   "execution_count": 43,
   "metadata": {},
   "outputs": [
    {
     "name": "stdout",
     "output_type": "stream",
     "text": [
      "wilcoxon\n",
      "CHI2\n",
      "Mr. Tickle\n"
     ]
    }
   ],
   "source": [
    "print(test1.lower())\n",
    "print(test2.upper())\n",
    "print(\"mr. \".capitalize() + \"tickle\".capitalize())"
   ]
  },
  {
   "cell_type": "markdown",
   "metadata": {},
   "source": [
    "Strings can be joined with a given separator."
   ]
  },
  {
   "cell_type": "code",
   "execution_count": 44,
   "metadata": {},
   "outputs": [
    {
     "data": {
      "text/plain": [
       "'Wilcoxon-Chi2'"
      ]
     },
     "execution_count": 44,
     "metadata": {},
     "output_type": "execute_result"
    }
   ],
   "source": [
    "\"-\".join([test1, test2])"
   ]
  },
  {
   "cell_type": "markdown",
   "metadata": {},
   "source": [
    "**Question**\n",
    "\n",
    "Given the three variables below, produce the string:\n",
    "\n",
    "    outcome ~ xx + yy + zz"
   ]
  },
  {
   "cell_type": "code",
   "execution_count": 45,
   "metadata": {},
   "outputs": [],
   "source": [
    "x = \"Xx\"\n",
    "y = \"YY\"\n",
    "z = \"zZ\""
   ]
  },
  {
   "cell_type": "code",
   "execution_count": 55,
   "metadata": {},
   "outputs": [
    {
     "name": "stdout",
     "output_type": "stream",
     "text": [
      "outcome ~ xx + yy + zz\n"
     ]
    }
   ],
   "source": [
    "# Answer\n",
    "print(\"outcome ~ \" + \" + \".join([string.lower() for string in [x, y, z]]))"
   ]
  },
  {
   "cell_type": "markdown",
   "metadata": {},
   "source": [
    "#### String formatting and printing\n",
    "Python 3 provides an improved string formatting syntax, called f-string.\n",
    "In a nutshell, it is enough to put an *f* at the beginning and curly braces around expressions that should be replaced with their values."
   ]
  },
  {
   "cell_type": "code",
   "execution_count": 56,
   "metadata": {},
   "outputs": [
    {
     "name": "stdout",
     "output_type": "stream",
     "text": [
      "The first test is Wilcoxon, while the second is Chi2.\n"
     ]
    }
   ],
   "source": [
    "print(f\"The first test is {test1}, while the second is {test2}.\")"
   ]
  },
  {
   "cell_type": "markdown",
   "metadata": {},
   "source": [
    "Multiline f-strings are allowed:"
   ]
  },
  {
   "cell_type": "code",
   "execution_count": 57,
   "metadata": {},
   "outputs": [
    {
     "data": {
      "text/plain": [
       "'The p-value for the Wilcoxon test is: 0.03'"
      ]
     },
     "execution_count": 57,
     "metadata": {},
     "output_type": "execute_result"
    }
   ],
   "source": [
    "pval = 0.03\n",
    "\n",
    "(f\"The p-value for the {test1} test is: \"\n",
    " f\"{pval}\")"
   ]
  },
  {
   "cell_type": "markdown",
   "metadata": {},
   "source": [
    "Or escaping a return with *\\*:"
   ]
  },
  {
   "cell_type": "code",
   "execution_count": 58,
   "metadata": {},
   "outputs": [
    {
     "data": {
      "text/plain": [
       "'The p-value for the Wilcoxon test is: 0.03'"
      ]
     },
     "execution_count": 58,
     "metadata": {},
     "output_type": "execute_result"
    }
   ],
   "source": [
    "f\"The p-value for the {test1} test is: \" \\\n",
    "f\"{pval}\""
   ]
  },
  {
   "cell_type": "markdown",
   "metadata": {},
   "source": [
    "Using triple \" will lead to:"
   ]
  },
  {
   "cell_type": "code",
   "execution_count": 59,
   "metadata": {},
   "outputs": [
    {
     "name": "stdout",
     "output_type": "stream",
     "text": [
      "The p-value for the Wilcoxon test is:\n",
      "0.03\n"
     ]
    }
   ],
   "source": [
    "print(f\"\"\"The p-value for the {test1} test is:\n",
    "{pval}\"\"\")"
   ]
  },
  {
   "cell_type": "markdown",
   "metadata": {},
   "source": [
    "Format specifiers: `{value:{width}.{precision}}` can be used, mainly for numbers:"
   ]
  },
  {
   "cell_type": "code",
   "execution_count": 60,
   "metadata": {},
   "outputs": [
    {
     "name": "stdout",
     "output_type": "stream",
     "text": [
      "The root is 0.123.\n",
      "The root is 1.23e-01.\n",
      "The root is       0.12.\n"
     ]
    }
   ],
   "source": [
    "root = 0.123456789\n",
    "print(f\"The root is {root:.3f}.\")\n",
    "print(f\"The root is {root:.2e}.\")\n",
    "print(f\"The root is {root:10.2f}.\")"
   ]
  },
  {
   "cell_type": "markdown",
   "metadata": {},
   "source": [
    "For a full support, see the [Format Specification Mini-Language](https://docs.python.org/3.6/library/string.html#formatspec)."
   ]
  },
  {
   "cell_type": "markdown",
   "metadata": {},
   "source": [
    "Strings can also be formatted in the old way:"
   ]
  },
  {
   "cell_type": "code",
   "execution_count": 61,
   "metadata": {},
   "outputs": [
    {
     "name": "stdout",
     "output_type": "stream",
     "text": [
      "The first test is Wilcoxon, while the second is Chi2.\n",
      "The first test is Chi2, while the second is Wilcoxon.\n",
      "The first test is Wilcoxon, while the second is Chi2.\n",
      "The first test is Wilcoxon, while the second is Chi2.\n",
      "The root is 0.123456789.\n",
      "The root is 0.123.\n",
      "The root is 1.23e-01.\n",
      "The root is       0.12.\n"
     ]
    }
   ],
   "source": [
    "print(\"The first test is {}, while the second is {}.\".format(test1, test2))  # With positional arguments\n",
    "print(\"The first test is {1}, while the second is {0}.\".format(test1, test2))  # With numbered arguments\n",
    "print(\"The first test is {T1}, while the second is {T2}.\"\n",
    "      .format(T1=test1, T2=test2))  # With keywords arguments\n",
    "print(\"The first test is {}, while the second is {T2}.\"\n",
    "      .format(test1, T2=test2))\n",
    "print(\"The root is {}.\".format(0.123456789))  # Numbers can be printed directly or converted\n",
    "print(\"The root is {0:.3f}.\".format(0.123456789))\n",
    "print(\"The root is {0:.2e}.\".format(0.123456789))\n",
    "print(\"The root is {0:10.2f}.\".format(0.123456789))"
   ]
  },
  {
   "cell_type": "markdown",
   "metadata": {},
   "source": [
    "In the expression *x:y.zA*,\n",
    "- *x* is the positioning parameter;\n",
    "- *y* is the (minimum) number of (potentially blank) numbers before .;\n",
    "- *z* is the (maximum) number of numbers after .;\n",
    "- *A* is the formatting letter:\n",
    "    - f: float;\n",
    "    - e: exponential notation;\n",
    "    - d: integer."
   ]
  },
  {
   "cell_type": "markdown",
   "metadata": {},
   "source": [
    "Strings can also be formatted in the very old way:"
   ]
  },
  {
   "cell_type": "code",
   "execution_count": 62,
   "metadata": {},
   "outputs": [
    {
     "name": "stdout",
     "output_type": "stream",
     "text": [
      "An integer: 2\n",
      "A float: 0.123457\n",
      "A short float: 0.12\n",
      "A nice p-value: 5.0e-02\n",
      "Robert is 64 years old\n"
     ]
    }
   ],
   "source": [
    "print(\"An integer: %d\" % 2)\n",
    "print(\"A float: %f\" % 0.123456789)\n",
    "print(\"A short float: %0.2f\" % 0.123456789)\n",
    "print(\"A nice p-value: %0.1e\" % 0.05)\n",
    "print(\"%s is %d years old\" % (\"Robert\", 64))"
   ]
  },
  {
   "cell_type": "markdown",
   "metadata": {},
   "source": [
    "When several arguments are given, *print* prints them all (the behavior is slightly different between Python 2 and Python 3)."
   ]
  },
  {
   "cell_type": "code",
   "execution_count": 63,
   "metadata": {},
   "outputs": [
    {
     "name": "stdout",
     "output_type": "stream",
     "text": [
      "string 1 string 2\n"
     ]
    }
   ],
   "source": [
    "print(\"string 1\", \"string 2\")"
   ]
  },
  {
   "cell_type": "markdown",
   "metadata": {},
   "source": [
    "One can also control the end character:"
   ]
  },
  {
   "cell_type": "code",
   "execution_count": 65,
   "metadata": {},
   "outputs": [
    {
     "name": "stdout",
     "output_type": "stream",
     "text": [
      "Something to say… and something else\n",
      "normal end is endline\n"
     ]
    }
   ],
   "source": [
    "print(\"Something to say\", end=\"\")  # Python 3\n",
    "#print(\"Something to say\"),  # Python 2\n",
    "print(\"… and something else\")\n",
    "print(\"normal end is endline\")"
   ]
  },
  {
   "cell_type": "markdown",
   "metadata": {},
   "source": [
    "**Remark:** objects can be printed simply by evaluating them:"
   ]
  },
  {
   "cell_type": "code",
   "execution_count": 66,
   "metadata": {},
   "outputs": [
    {
     "data": {
      "text/plain": [
       "'Wilcoxon'"
      ]
     },
     "execution_count": 66,
     "metadata": {},
     "output_type": "execute_result"
    }
   ],
   "source": [
    "test1"
   ]
  },
  {
   "cell_type": "markdown",
   "metadata": {},
   "source": [
    "To remove this side effect, use a semicolon:"
   ]
  },
  {
   "cell_type": "code",
   "execution_count": 67,
   "metadata": {},
   "outputs": [],
   "source": [
    "test1;"
   ]
  },
  {
   "cell_type": "markdown",
   "metadata": {},
   "source": [
    "**Question**\n",
    "\n",
    "Given the three variables below, produce the sentence:\n",
    "\n",
    "    The expression x+y*z = 3+1.4142*5 approximately equals 1.01e+01."
   ]
  },
  {
   "cell_type": "code",
   "execution_count": 68,
   "metadata": {},
   "outputs": [],
   "source": [
    "x = 3\n",
    "y = 2**0.5\n",
    "z = 5"
   ]
  },
  {
   "cell_type": "code",
   "execution_count": 77,
   "metadata": {},
   "outputs": [
    {
     "name": "stdout",
     "output_type": "stream",
     "text": [
      "The expression x+y*z = 3+1.4142*5 approximately equals  1.01e+01\n"
     ]
    }
   ],
   "source": [
    "# Answer\n",
    "\n",
    "print(f\"The expression x+y*z = {x}+{y:.4f}*{z} approximately equals {x+y*z : .2e}\")"
   ]
  },
  {
   "cell_type": "markdown",
   "metadata": {},
   "source": [
    "### List\n",
    "A list is an ordered collection of items, that may have different types.\n",
    "A list is a mutable object and can thus be modified."
   ]
  },
  {
   "cell_type": "code",
   "execution_count": 78,
   "metadata": {},
   "outputs": [
    {
     "name": "stdout",
     "output_type": "stream",
     "text": [
      "[1, 3, 5, 7, 'odd numbers']\n"
     ]
    }
   ],
   "source": [
    "l = [1, 3, 5, 7, \"odd numbers\"]\n",
    "print(l)"
   ]
  },
  {
   "cell_type": "markdown",
   "metadata": {},
   "source": [
    "#### Indexing and slicing\n",
    "Indexing starts at 0."
   ]
  },
  {
   "cell_type": "code",
   "execution_count": 79,
   "metadata": {},
   "outputs": [
    {
     "name": "stdout",
     "output_type": "stream",
     "text": [
      "First item:  1\n",
      "Last item:  odd numbers\n"
     ]
    }
   ],
   "source": [
    "print(\"First item: \", l[0])  # First item\n",
    "print(\"Last item: \", l[-1])  # Last item"
   ]
  },
  {
   "cell_type": "markdown",
   "metadata": {},
   "source": [
    "The slicing syntax is: *l[start:stop:stride]*.\n",
    "If some arguments are omitted, they are replaced by the *natural* ones (start=0, stride=1)."
   ]
  },
  {
   "cell_type": "code",
   "execution_count": 80,
   "metadata": {},
   "outputs": [
    {
     "name": "stdout",
     "output_type": "stream",
     "text": [
      "First two items:  [1, 3]\n",
      "Sublists:  [1, 5, 'odd numbers'] [3, 5]\n",
      "Reverse:  ['odd numbers', 7, 5, 3, 1]\n"
     ]
    }
   ],
   "source": [
    "print(\"First two items: \", l[:2])  # Equivalent to l[0:2]\n",
    "print(\"Sublists: \", l[::2], l[1:3])  # First sublist equivalent to l[0::2]\n",
    "print(\"Reverse: \", l[::-1])"
   ]
  },
  {
   "cell_type": "markdown",
   "metadata": {},
   "source": [
    "Note that, when slicing, the last element is not considered."
   ]
  },
  {
   "cell_type": "code",
   "execution_count": 81,
   "metadata": {},
   "outputs": [
    {
     "name": "stdout",
     "output_type": "stream",
     "text": [
      "[1, 3]\n",
      "[5, 7, 'odd numbers']\n",
      "[5, 7]\n"
     ]
    }
   ],
   "source": [
    "print(l[0:2])  # Items numbered 0 and 1 (2 excluded)\n",
    "print(l[2:])  # All items after number 2 included\n",
    "print(l[2:-1])  # All items after number 2 included, last item exluced"
   ]
  },
  {
   "cell_type": "markdown",
   "metadata": {},
   "source": [
    "**Question**\n",
    "\n",
    "Given the list below (of size denoted by $n$), print its head (the first $n-1$ items) and its tail (the last $n-1$ items)."
   ]
  },
  {
   "cell_type": "code",
   "execution_count": 82,
   "metadata": {},
   "outputs": [],
   "source": [
    "x = [5, 3, 7, 8, 3, 4, 6]"
   ]
  },
  {
   "cell_type": "code",
   "execution_count": 88,
   "metadata": {},
   "outputs": [
    {
     "name": "stdout",
     "output_type": "stream",
     "text": [
      "Head: [5, 3]\n",
      "Tail: [4, 6]\n"
     ]
    }
   ],
   "source": [
    "# Answer\n",
    "def head_and_tail(x, n):\n",
    "    print(f\"Head: {x[:n]}\")\n",
    "    print(f\"Tail: {x[-n:]}\")\n",
    "\n",
    "head_and_tail(x, 2)"
   ]
  },
  {
   "cell_type": "markdown",
   "metadata": {},
   "source": [
    "#### Concatenation, extension and repetition"
   ]
  },
  {
   "cell_type": "code",
   "execution_count": 89,
   "metadata": {},
   "outputs": [
    {
     "name": "stdout",
     "output_type": "stream",
     "text": [
      "[1, 3, 5, 7, 'odd numbers', 9]\n"
     ]
    }
   ],
   "source": [
    "l = l+[9]  # Concatenation\n",
    "print(l)"
   ]
  },
  {
   "cell_type": "code",
   "execution_count": 90,
   "metadata": {},
   "outputs": [
    {
     "name": "stdout",
     "output_type": "stream",
     "text": [
      "[1, 3, 5, 7, 'odd numbers', 9, 11]\n"
     ]
    }
   ],
   "source": [
    "l += [11]  # Concatenation\n",
    "print(l)"
   ]
  },
  {
   "cell_type": "markdown",
   "metadata": {},
   "source": [
    "Extension is an in-place operation."
   ]
  },
  {
   "cell_type": "code",
   "execution_count": 91,
   "metadata": {},
   "outputs": [
    {
     "name": "stdout",
     "output_type": "stream",
     "text": [
      "[1, 3, 5, 7, 'odd numbers', 9, 11, 'extension']\n"
     ]
    }
   ],
   "source": [
    "l.extend([\"extension\"])  # Extension\n",
    "print(l)"
   ]
  },
  {
   "cell_type": "code",
   "execution_count": 92,
   "metadata": {},
   "outputs": [
    {
     "name": "stdout",
     "output_type": "stream",
     "text": [
      "[1, 3, 5, 7, 'odd numbers', 9, 11, 'extension', 1, 3, 5, 7, 'odd numbers', 9, 11, 'extension']\n"
     ]
    }
   ],
   "source": [
    "l *= 2  # Repetition\n",
    "print(l)"
   ]
  },
  {
   "cell_type": "markdown",
   "metadata": {},
   "source": [
    "#### Adding, deleting and indexing an item"
   ]
  },
  {
   "cell_type": "code",
   "execution_count": 93,
   "metadata": {},
   "outputs": [
    {
     "name": "stdout",
     "output_type": "stream",
     "text": [
      "[1, 3, 5, 7, 'odd numbers', 9, 11, 'extension', 1, 3, 5, 7, 'odd numbers', 9, 11, 'extension', 13]\n"
     ]
    }
   ],
   "source": [
    "l.append(13)  # Add an item at the end of the list\n",
    "print(l)"
   ]
  },
  {
   "cell_type": "code",
   "execution_count": 94,
   "metadata": {},
   "outputs": [
    {
     "name": "stdout",
     "output_type": "stream",
     "text": [
      "[3, 5, 7, 'odd numbers', 9, 11, 'extension', 1, 3, 5, 7, 'odd numbers', 9, 11, 'extension', 13]\n"
     ]
    }
   ],
   "source": [
    "del l[0]  # Delete the first item\n",
    "print(l)"
   ]
  },
  {
   "cell_type": "code",
   "execution_count": 96,
   "metadata": {},
   "outputs": [
    {
     "name": "stdout",
     "output_type": "stream",
     "text": [
      "9 is in position 4\n"
     ]
    }
   ],
   "source": [
    "print(\"9 is in position\", l.index(9))"
   ]
  },
  {
   "cell_type": "markdown",
   "metadata": {},
   "source": [
    "**Question**\n",
    "\n",
    "Move the first item of $x$ to the last position."
   ]
  },
  {
   "cell_type": "code",
   "execution_count": 117,
   "metadata": {},
   "outputs": [],
   "source": [
    "x = [5, 3, 7, 8, 3, 4, 6]"
   ]
  },
  {
   "cell_type": "code",
   "execution_count": 118,
   "metadata": {},
   "outputs": [
    {
     "name": "stdout",
     "output_type": "stream",
     "text": [
      "Original x = [5, 3, 7, 8, 3, 4, 6]\n",
      "New x = [3, 7, 8, 3, 4, 6, 5]\n"
     ]
    }
   ],
   "source": [
    "# Answer\n",
    "print(f\"Original x = {x}\")\n",
    "x.append(x[0])\n",
    "x = x[1:]\n",
    "print(f\"New x = {x}\")\n"
   ]
  },
  {
   "cell_type": "markdown",
   "metadata": {},
   "source": [
    "#### Presence"
   ]
  },
  {
   "cell_type": "code",
   "execution_count": 119,
   "metadata": {},
   "outputs": [
    {
     "name": "stdout",
     "output_type": "stream",
     "text": [
      "2 is in l:  False\n",
      "3 is in l:  True\n"
     ]
    }
   ],
   "source": [
    "print(\"2 is in l: \", 2 in l)\n",
    "print(\"3 is in l: \", 3 in l)"
   ]
  },
  {
   "cell_type": "markdown",
   "metadata": {},
   "source": [
    "#### Other operations"
   ]
  },
  {
   "cell_type": "code",
   "execution_count": 120,
   "metadata": {},
   "outputs": [
    {
     "name": "stdout",
     "output_type": "stream",
     "text": [
      "16\n"
     ]
    }
   ],
   "source": [
    "print(len(l))"
   ]
  },
  {
   "cell_type": "code",
   "execution_count": 121,
   "metadata": {},
   "outputs": [
    {
     "name": "stdout",
     "output_type": "stream",
     "text": [
      "[13, 'extension', 11, 9, 'odd numbers', 7, 5, 3, 1, 'extension', 11, 9, 'odd numbers', 7, 5, 3]\n"
     ]
    }
   ],
   "source": [
    "l.reverse()\n",
    "print(l)"
   ]
  },
  {
   "cell_type": "markdown",
   "metadata": {},
   "source": [
    "More details: use *help(list)* or *list?* in Ipython and Jupyter notebook."
   ]
  },
  {
   "cell_type": "markdown",
   "metadata": {},
   "source": [
    "### Tuple\n",
    "Roughly speaking, a tuple is an immutable list (it cannot be changed).\n",
    "It can be defined in two ways:"
   ]
  },
  {
   "cell_type": "code",
   "execution_count": 122,
   "metadata": {},
   "outputs": [
    {
     "data": {
      "text/plain": [
       "tuple"
      ]
     },
     "execution_count": 122,
     "metadata": {},
     "output_type": "execute_result"
    }
   ],
   "source": [
    "t = (1, 2)  # Definition with parentheses\n",
    "type(t)"
   ]
  },
  {
   "cell_type": "code",
   "execution_count": 123,
   "metadata": {},
   "outputs": [
    {
     "name": "stdout",
     "output_type": "stream",
     "text": [
      "(1, 2)\n"
     ]
    }
   ],
   "source": [
    "t = 1, 2  # Light definition\n",
    "print(t)"
   ]
  },
  {
   "cell_type": "code",
   "execution_count": 124,
   "metadata": {},
   "outputs": [
    {
     "name": "stdout",
     "output_type": "stream",
     "text": [
      "(1, 2, 'three')\n",
      "Length:  3\n"
     ]
    }
   ],
   "source": [
    "t += (\"three\",)  # Concatenation with a singleton\n",
    "print(t)\n",
    "\n",
    "print(\"Length: \", len(t))  # Length"
   ]
  },
  {
   "cell_type": "code",
   "execution_count": 125,
   "metadata": {},
   "outputs": [
    {
     "name": "stdout",
     "output_type": "stream",
     "text": [
      "1 2 three\n"
     ]
    }
   ],
   "source": [
    "t0, t1, t2 = t  # Unpacking\n",
    "print(t0, t1, t2)"
   ]
  },
  {
   "cell_type": "markdown",
   "metadata": {},
   "source": [
    "### Sets\n",
    "A set is an unordered collection of unique items.\n",
    "Usual mathematical operations (union, difference) can be performed."
   ]
  },
  {
   "cell_type": "code",
   "execution_count": 126,
   "metadata": {},
   "outputs": [
    {
     "name": "stdout",
     "output_type": "stream",
     "text": [
      "{1, 3, 5}\n"
     ]
    }
   ],
   "source": [
    "odd = set([1, 3, 5, 5])\n",
    "even = set([2, 4])\n",
    "\n",
    "type(odd)\n",
    "print(odd)"
   ]
  },
  {
   "cell_type": "code",
   "execution_count": 127,
   "metadata": {},
   "outputs": [
    {
     "name": "stdout",
     "output_type": "stream",
     "text": [
      "{3, 5}\n"
     ]
    }
   ],
   "source": [
    "print(odd - set([1]))  # Difference of sets"
   ]
  },
  {
   "cell_type": "code",
   "execution_count": 128,
   "metadata": {},
   "outputs": [
    {
     "name": "stdout",
     "output_type": "stream",
     "text": [
      "{1, 2, 3, 4, 5}\n"
     ]
    }
   ],
   "source": [
    "print(odd | even)  # Union of sets"
   ]
  },
  {
   "cell_type": "code",
   "execution_count": 129,
   "metadata": {},
   "outputs": [
    {
     "name": "stdout",
     "output_type": "stream",
     "text": [
      "{2}\n"
     ]
    }
   ],
   "source": [
    "odd.add(2)\n",
    "print(odd & even)  # Intersection of sets"
   ]
  },
  {
   "cell_type": "code",
   "execution_count": 130,
   "metadata": {},
   "outputs": [
    {
     "name": "stdout",
     "output_type": "stream",
     "text": [
      "{1, 3, 4, 5}\n"
     ]
    }
   ],
   "source": [
    "print(odd ^ even)  # Complementary of the intersection of sets"
   ]
  },
  {
   "cell_type": "markdown",
   "metadata": {},
   "source": [
    "**Question**\n",
    "\n",
    "Print items that are simultaneously in $x$ and $y$."
   ]
  },
  {
   "cell_type": "code",
   "execution_count": 132,
   "metadata": {},
   "outputs": [],
   "source": [
    "x = [5, 3, 7, 8, 3, 4, 6]\n",
    "y = [1, 9, 3, 7, 6, 2]"
   ]
  },
  {
   "cell_type": "code",
   "execution_count": 133,
   "metadata": {},
   "outputs": [
    {
     "name": "stdout",
     "output_type": "stream",
     "text": [
      "{3, 6, 7}\n"
     ]
    }
   ],
   "source": [
    "# Answer\n",
    "print(set(x) & set(y))"
   ]
  },
  {
   "cell_type": "markdown",
   "metadata": {},
   "source": [
    "### Dictionary\n",
    "A dictionary is a table key/value.\n",
    "Keys can be any immutable type (string, numbers, …)."
   ]
  },
  {
   "cell_type": "code",
   "execution_count": 134,
   "metadata": {},
   "outputs": [
    {
     "name": "stdout",
     "output_type": "stream",
     "text": [
      "[[1, -0.5], [-2, 1]]\n"
     ]
    }
   ],
   "source": [
    "d = {'x': [[1, -0.5], [-2, 1]], 'y': [0, 1]}  # Definition\n",
    "print(d['x'])"
   ]
  },
  {
   "cell_type": "code",
   "execution_count": 135,
   "metadata": {},
   "outputs": [
    {
     "name": "stdout",
     "output_type": "stream",
     "text": [
      "{'x': [[1, -0.5], [-2, 1]], 'y': [0, 1], 10: 'ten'}\n"
     ]
    }
   ],
   "source": [
    "d[10] = \"ten\"  # Add an item\n",
    "print(d)"
   ]
  },
  {
   "cell_type": "code",
   "execution_count": 136,
   "metadata": {},
   "outputs": [
    {
     "name": "stdout",
     "output_type": "stream",
     "text": [
      "dict_keys(['x', 'y', 10])\n",
      "dict_values([[[1, -0.5], [-2, 1]], [0, 1], 'ten'])\n"
     ]
    }
   ],
   "source": [
    "# Print keys and values\n",
    "print(d.keys())\n",
    "print(d.values())"
   ]
  },
  {
   "cell_type": "code",
   "execution_count": 137,
   "metadata": {},
   "outputs": [
    {
     "data": {
      "text/plain": [
       "True"
      ]
     },
     "execution_count": 137,
     "metadata": {},
     "output_type": "execute_result"
    }
   ],
   "source": [
    "\"x\" in d  # Check if a key is in the dictionary"
   ]
  },
  {
   "cell_type": "markdown",
   "metadata": {},
   "source": [
    "**Question**\n",
    "\n",
    "Add a new item to the dictionary defined below, with key \"sigma2\" and value $sigma^2$.\n",
    "Set $mu$ to $0$ and print the final dictionary."
   ]
  },
  {
   "cell_type": "code",
   "execution_count": 141,
   "metadata": {},
   "outputs": [],
   "source": [
    "db = {'mu': 3, 'sigma': 1.5}"
   ]
  },
  {
   "cell_type": "code",
   "execution_count": 142,
   "metadata": {},
   "outputs": [
    {
     "name": "stdout",
     "output_type": "stream",
     "text": [
      "{'mu': 0, 'sigma': 1.5, 'sigma2': 2.25}\n"
     ]
    }
   ],
   "source": [
    "# Answer\n",
    "db[\"sigma2\"] = db[\"sigma\"]**2\n",
    "db[\"mu\"] = 0\n",
    "print(db)"
   ]
  },
  {
   "cell_type": "markdown",
   "metadata": {},
   "source": [
    "### Assignment operator\n",
    "In Python the assignment operator *=* is used for two purposes:\n",
    "- modify attributes and items of mutable objects;\n",
    "- bind a name to a value.\n",
    "\n",
    "The last point means that ** *=* does not make a copy** but creates a new alias for an already existing value.\n",
    "\n",
    "Examples:\n",
    "- Immutable objects:"
   ]
  },
  {
   "cell_type": "code",
   "execution_count": 143,
   "metadata": {},
   "outputs": [
    {
     "data": {
      "text/plain": [
       "True"
      ]
     },
     "execution_count": 143,
     "metadata": {},
     "output_type": "execute_result"
    }
   ],
   "source": [
    "a = 1.1\n",
    "b = a\n",
    "b is a  # two names, same data (in memory)"
   ]
  },
  {
   "cell_type": "code",
   "execution_count": 144,
   "metadata": {},
   "outputs": [
    {
     "name": "stdout",
     "output_type": "stream",
     "text": [
      "1590597151792 1590597151792\n"
     ]
    }
   ],
   "source": [
    "print(id(a), id(b))"
   ]
  },
  {
   "cell_type": "code",
   "execution_count": 145,
   "metadata": {},
   "outputs": [
    {
     "data": {
      "text/plain": [
       "True"
      ]
     },
     "execution_count": 145,
     "metadata": {},
     "output_type": "execute_result"
    }
   ],
   "source": [
    "a = \"monday\"\n",
    "b = a\n",
    "b is a  # two names, same data (in memory)"
   ]
  },
  {
   "cell_type": "code",
   "execution_count": 146,
   "metadata": {},
   "outputs": [
    {
     "data": {
      "text/plain": [
       "True"
      ]
     },
     "execution_count": 146,
     "metadata": {},
     "output_type": "execute_result"
    }
   ],
   "source": [
    "a = 3, 10\n",
    "b = a\n",
    "b is a  # two names, same data (in memory)"
   ]
  },
  {
   "cell_type": "markdown",
   "metadata": {},
   "source": [
    "- Mutable objects:"
   ]
  },
  {
   "cell_type": "code",
   "execution_count": 147,
   "metadata": {},
   "outputs": [
    {
     "data": {
      "text/plain": [
       "True"
      ]
     },
     "execution_count": 147,
     "metadata": {},
     "output_type": "execute_result"
    }
   ],
   "source": [
    "a = [1, 2]\n",
    "b = a\n",
    "b is a  # two names, same data (in memory)"
   ]
  },
  {
   "cell_type": "code",
   "execution_count": 148,
   "metadata": {},
   "outputs": [
    {
     "name": "stdout",
     "output_type": "stream",
     "text": [
      "[1, 3]\n",
      "[1, 3]\n"
     ]
    }
   ],
   "source": [
    "b[-1] = 3\n",
    "print(a)\n",
    "print(b)"
   ]
  },
  {
   "cell_type": "markdown",
   "metadata": {},
   "source": [
    "Modifications appear on both a and b (same data).\n",
    "To make a copy, use:"
   ]
  },
  {
   "cell_type": "code",
   "execution_count": 149,
   "metadata": {},
   "outputs": [
    {
     "data": {
      "text/plain": [
       "False"
      ]
     },
     "execution_count": 149,
     "metadata": {},
     "output_type": "execute_result"
    }
   ],
   "source": [
    "b = a.copy()  # In Python 3\n",
    "#b = a[:]  # In Python 2\n",
    "b is a"
   ]
  },
  {
   "cell_type": "code",
   "execution_count": 151,
   "metadata": {},
   "outputs": [
    {
     "name": "stdout",
     "output_type": "stream",
     "text": [
      "[1, 3]\n",
      "[1, 2]\n"
     ]
    }
   ],
   "source": [
    "b[-1] = 2\n",
    "print(a)\n",
    "print(b)"
   ]
  },
  {
   "cell_type": "markdown",
   "metadata": {},
   "source": [
    "*a* and *b* are two different objects.\n",
    "\n",
    "This is the same for dictionaries and sets:"
   ]
  },
  {
   "cell_type": "code",
   "execution_count": 152,
   "metadata": {},
   "outputs": [
    {
     "data": {
      "text/plain": [
       "True"
      ]
     },
     "execution_count": 152,
     "metadata": {},
     "output_type": "execute_result"
    }
   ],
   "source": [
    "a = {\"k\": 1}\n",
    "b = a\n",
    "b is a"
   ]
  },
  {
   "cell_type": "code",
   "execution_count": 153,
   "metadata": {},
   "outputs": [
    {
     "data": {
      "text/plain": [
       "False"
      ]
     },
     "execution_count": 153,
     "metadata": {},
     "output_type": "execute_result"
    }
   ],
   "source": [
    "b = a.copy()\n",
    "b is a"
   ]
  },
  {
   "cell_type": "code",
   "execution_count": 154,
   "metadata": {},
   "outputs": [
    {
     "data": {
      "text/plain": [
       "True"
      ]
     },
     "execution_count": 154,
     "metadata": {},
     "output_type": "execute_result"
    }
   ],
   "source": [
    "a = set([1, 2])\n",
    "b = a\n",
    "b is a"
   ]
  },
  {
   "cell_type": "code",
   "execution_count": 155,
   "metadata": {},
   "outputs": [
    {
     "data": {
      "text/plain": [
       "False"
      ]
     },
     "execution_count": 155,
     "metadata": {},
     "output_type": "execute_result"
    }
   ],
   "source": [
    "b = a.copy()\n",
    "b is a"
   ]
  },
  {
   "cell_type": "markdown",
   "metadata": {},
   "source": [
    "## Conditional statements <a id=\"part4sec3\"></a>\n",
    "In Python, the blocks of the control flows are delimited by indentation.\n",
    "See for instance the use of `if/elif/else` statement.\n",
    "The comparisons are made with `==`, `!=`, `is`, `in`, `not`, `<`, `<=`, …"
   ]
  },
  {
   "cell_type": "code",
   "execution_count": 156,
   "metadata": {},
   "outputs": [
    {
     "name": "stdout",
     "output_type": "stream",
     "text": [
      "The target is greater than 3.\n"
     ]
    }
   ],
   "source": [
    "h = 3.14  # Target\n",
    "i = 3  # Guess\n",
    "\n",
    "print(\"The target is\", end=\" \")\n",
    "if h < i:\n",
    "    print(\"less than %d.\" % i)\n",
    "elif h > i:\n",
    "    print(\"greater than %d.\" % i)\n",
    "else:\n",
    "    print(\"exactly %d.\" % i)"
   ]
  },
  {
   "cell_type": "markdown",
   "metadata": {},
   "source": [
    "**Question**\n",
    "\n",
    "Write a conditional statement that:\n",
    "- add y to x if y is missing in x;\n",
    "- change y to -y in x otherwise."
   ]
  },
  {
   "cell_type": "code",
   "execution_count": 164,
   "metadata": {},
   "outputs": [],
   "source": [
    "x = [4, 2, 7]\n",
    "y = 6\n"
   ]
  },
  {
   "cell_type": "code",
   "execution_count": 165,
   "metadata": {},
   "outputs": [
    {
     "name": "stdout",
     "output_type": "stream",
     "text": [
      "x = [4, 2, 7, 6] and y = 6\n"
     ]
    }
   ],
   "source": [
    "# Answer\n",
    "if y not in x:\n",
    "    x.append(y) \n",
    "else:\n",
    "    y = -y\n",
    "print(f\"x = {x} and y = {y}\")"
   ]
  },
  {
   "cell_type": "markdown",
   "metadata": {},
   "source": [
    "### Evaluating objects\n",
    "`if [object]` is false for\n",
    "- 0, 0.0 numbers;\n",
    "- empty structures;\n",
    "- False and None;\n",
    "\n",
    "and true otherwise.\n",
    "\n",
    "**Example**: checking if a list is empty."
   ]
  },
  {
   "cell_type": "code",
   "execution_count": 166,
   "metadata": {},
   "outputs": [
    {
     "name": "stdout",
     "output_type": "stream",
     "text": [
      "Empty list.\n"
     ]
    }
   ],
   "source": [
    "a = []\n",
    "\n",
    "if not a:\n",
    "    print(\"Empty list.\")"
   ]
  },
  {
   "cell_type": "markdown",
   "metadata": {},
   "source": [
    "**Question**\n",
    "\n",
    "Write a script that prints the result of the operation $x/y$ if $y \\neq 0$ and \"infinity\" otherwise."
   ]
  },
  {
   "cell_type": "code",
   "execution_count": 167,
   "metadata": {},
   "outputs": [],
   "source": [
    "x = 10\n",
    "y = 0"
   ]
  },
  {
   "cell_type": "code",
   "execution_count": 168,
   "metadata": {},
   "outputs": [
    {
     "name": "stdout",
     "output_type": "stream",
     "text": [
      "infinity\n"
     ]
    }
   ],
   "source": [
    "if y:\n",
    "    print(x/y)\n",
    "else:\n",
    "    print(\"infinity\")"
   ]
  },
  {
   "cell_type": "markdown",
   "metadata": {},
   "source": [
    "### Assignment operator\n",
    "Conditional statements can also be used in union with the assignment operator:"
   ]
  },
  {
   "cell_type": "code",
   "execution_count": 169,
   "metadata": {},
   "outputs": [
    {
     "name": "stdout",
     "output_type": "stream",
     "text": [
      "The target is greater or equal than 3.\n"
     ]
    }
   ],
   "source": [
    "res = \"greater or equal\" if h >= i else \"less\"\n",
    "print(\"The target is \" + res + \" than %d.\" % i)"
   ]
  },
  {
   "cell_type": "markdown",
   "metadata": {},
   "source": [
    "## For loop <a id=\"part4sec4\"></a>\n",
    "Example of a for loop:"
   ]
  },
  {
   "cell_type": "code",
   "execution_count": 170,
   "metadata": {},
   "outputs": [
    {
     "name": "stdout",
     "output_type": "stream",
     "text": [
      "0 1 2 3 4 5 6 7 8 9 \n",
      "the loop was not broken\n"
     ]
    }
   ],
   "source": [
    "for it in range(10):\n",
    "    print(it, end=\" \")\n",
    "else:\n",
    "    print(\"\\nthe loop was not broken\")"
   ]
  },
  {
   "cell_type": "markdown",
   "metadata": {},
   "source": [
    "Here, the optional `else` part is executed when the loop goes until the end.\n",
    "If the loop is broken (such as in the following example), the `else` part is not executed.\n",
    "Besides `break`, another interested keyword is `continue`. It skips the end of the current iteration."
   ]
  },
  {
   "cell_type": "code",
   "execution_count": 174,
   "metadata": {},
   "outputs": [
    {
     "name": "stdout",
     "output_type": "stream",
     "text": [
      "1 3 5 7 "
     ]
    }
   ],
   "source": [
    "for it in range(10):\n",
    "    if it % 2 == 0:  # Even numbers\n",
    "        continue\n",
    "    if it > 8:\n",
    "        break\n",
    "    print(it, end=\" \")\n",
    "else:\n",
    "    print(\"\\nthe loop was not broken\")"
   ]
  },
  {
   "cell_type": "markdown",
   "metadata": {},
   "source": [
    "A special feature of Python is to being able to iterate over the items of any sequence (range, list, tuple, dictionary, …).\n",
    "\n",
    "### Range\n",
    "The syntax for the range function is:\n",
    "`range(stop)` or `rang(start, stop, step)` with third parameter optional."
   ]
  },
  {
   "cell_type": "code",
   "execution_count": 172,
   "metadata": {},
   "outputs": [
    {
     "name": "stdout",
     "output_type": "stream",
     "text": [
      "0 1 2 3 4 "
     ]
    }
   ],
   "source": [
    "for it in range(5):\n",
    "    print(it, end=\" \")"
   ]
  },
  {
   "cell_type": "code",
   "execution_count": 173,
   "metadata": {},
   "outputs": [
    {
     "name": "stdout",
     "output_type": "stream",
     "text": [
      "10 13 16 19 "
     ]
    }
   ],
   "source": [
    "for it in range(10, 20, 3):\n",
    "    print(it, end=\" \")"
   ]
  },
  {
   "cell_type": "markdown",
   "metadata": {},
   "source": [
    "### List"
   ]
  },
  {
   "cell_type": "code",
   "execution_count": 175,
   "metadata": {},
   "outputs": [
    {
     "name": "stdout",
     "output_type": "stream",
     "text": [
      "WV\n",
      "BMW\n",
      "2016\n"
     ]
    }
   ],
   "source": [
    "for car in ['WV', 'BMW', 2016]:\n",
    "    print(car)"
   ]
  },
  {
   "cell_type": "markdown",
   "metadata": {},
   "source": [
    "### Tuple"
   ]
  },
  {
   "cell_type": "code",
   "execution_count": 191,
   "metadata": {},
   "outputs": [
    {
     "name": "stdout",
     "output_type": "stream",
     "text": [
      "My favorite number is 7 "
     ]
    }
   ],
   "source": [
    "for it in (\"My favorite number\", \"is\", 7):\n",
    "    print(it, end=\" \")"
   ]
  },
  {
   "cell_type": "markdown",
   "metadata": {},
   "source": [
    "### Dictionary"
   ]
  },
  {
   "cell_type": "code",
   "execution_count": 177,
   "metadata": {},
   "outputs": [
    {
     "name": "stdout",
     "output_type": "stream",
     "text": [
      "Name\n",
      "Date\n",
      "Location\n"
     ]
    }
   ],
   "source": [
    "conf = {\"Name\": \"NIPS\", \"Date\": 2016, \"Location\": \"Barcelona\"}\n",
    "\n",
    "for key in conf:\n",
    "    print(key)"
   ]
  },
  {
   "cell_type": "code",
   "execution_count": 178,
   "metadata": {},
   "outputs": [
    {
     "name": "stdout",
     "output_type": "stream",
     "text": [
      "Name : NIPS\n",
      "Date : 2016\n",
      "Location : Barcelona\n"
     ]
    }
   ],
   "source": [
    "for key, value in conf.items():\n",
    "    print(key, \":\", value)"
   ]
  },
  {
   "cell_type": "code",
   "execution_count": 179,
   "metadata": {},
   "outputs": [
    {
     "name": "stdout",
     "output_type": "stream",
     "text": [
      "Date : 2016\n",
      "Location : Barcelona\n",
      "Name : NIPS\n"
     ]
    }
   ],
   "source": [
    "for key, value in sorted(conf.items()):\n",
    "    print(key, \":\", value)"
   ]
  },
  {
   "cell_type": "markdown",
   "metadata": {},
   "source": [
    "**Question**\n",
    "\n",
    "Compute and print the first 10 items of the sequence\n",
    "$$\n",
    "    \\begin{cases}\n",
    "        u_0 &= 0 \\\\\n",
    "        u_{n+1} &= 3u_n+2, \\forall n \\in \\mathbb N.\n",
    "    \\end{cases}\n",
    "$$"
   ]
  },
  {
   "cell_type": "code",
   "execution_count": 184,
   "metadata": {},
   "outputs": [
    {
     "name": "stdout",
     "output_type": "stream",
     "text": [
      "[0, 2, 8, 26, 80, 242, 728, 2186, 6560]\n"
     ]
    }
   ],
   "source": [
    "# Answer\n",
    "sequence = [0]\n",
    "for u in range(1,9):\n",
    "    sequence.append(3*sequence[-1]+2)\n",
    "\n",
    "print(sequence)"
   ]
  },
  {
   "cell_type": "markdown",
   "metadata": {},
   "source": [
    "### Useful commands: enumerate and zip\n",
    "The enumerate command provides the number associated to each item while zip makes a collection of pairs of items from two lists."
   ]
  },
  {
   "cell_type": "code",
   "execution_count": 186,
   "metadata": {},
   "outputs": [
    {
     "name": "stdout",
     "output_type": "stream",
     "text": [
      "WV (item 0)\n",
      "BMW (item 1)\n",
      "2016 (item 2)\n",
      "<enumerate object at 0x0000017256FFDA80>\n"
     ]
    }
   ],
   "source": [
    "for i, val in enumerate(['WV', 'BMW', 2016]):\n",
    "    print(val, \"(item %d)\" % i)\n",
    "\n",
    "print(enumerate(['WV', 'BMW', 2016]))"
   ]
  },
  {
   "cell_type": "code",
   "execution_count": 189,
   "metadata": {},
   "outputs": [
    {
     "name": "stdout",
     "output_type": "stream",
     "text": [
      "x = 1 , y = 0\n",
      "x = 0 , y = 1\n",
      "x = -1 , y = 0\n",
      "x = 0 , y = -1\n",
      "<zip object at 0x00000172570C9B00>\n"
     ]
    }
   ],
   "source": [
    "for x, y in zip([1, 0, -1, 0], [0, 1, 0, -1]):\n",
    "    print(\"x =\", x, \", y =\", y)\n",
    "\n",
    "print(zip([1, 0, -1, 0], [0, 1, 0, -1]))"
   ]
  },
  {
   "cell_type": "markdown",
   "metadata": {},
   "source": [
    "**Question**\n",
    "\n",
    "Produce the following output:\n",
    "\n",
    "    BBC was launched in 1992.\n",
    "    CNN was launched in 1980.\n",
    "    FOX NEWS was launched in 1996."
   ]
  },
  {
   "cell_type": "code",
   "execution_count": 193,
   "metadata": {},
   "outputs": [],
   "source": [
    "x = ['BBC', 'CNN', 'FOX NEWS']\n",
    "y = [1992, 1980, 1996]"
   ]
  },
  {
   "cell_type": "code",
   "execution_count": 192,
   "metadata": {},
   "outputs": [
    {
     "name": "stdout",
     "output_type": "stream",
     "text": [
      "BBC was launced in 1992\n",
      "CNN was launced in 1980\n",
      "FOX NEWS was launced in 1996\n"
     ]
    }
   ],
   "source": [
    "# Answer\n",
    "for i, j in zip(x, y):\n",
    "    print(f\"{i} was launced in {j}\")"
   ]
  },
  {
   "cell_type": "markdown",
   "metadata": {},
   "source": [
    "### Making a list in a concise manner:\n",
    "(also called *list comprehensions*)"
   ]
  },
  {
   "cell_type": "code",
   "execution_count": 194,
   "metadata": {},
   "outputs": [
    {
     "name": "stdout",
     "output_type": "stream",
     "text": [
      "[0, 1, 4, 9, 16, 25, 36, 49, 64, 81]\n"
     ]
    }
   ],
   "source": [
    "l = [a**2 for a in range(10)]\n",
    "print(l)"
   ]
  },
  {
   "cell_type": "code",
   "execution_count": 195,
   "metadata": {},
   "outputs": [
    {
     "name": "stdout",
     "output_type": "stream",
     "text": [
      "[0, 4, 16, 36, 64]\n"
     ]
    }
   ],
   "source": [
    "l = [a**2 for a in range(10) if a%2 == 0]\n",
    "print(l)"
   ]
  },
  {
   "cell_type": "markdown",
   "metadata": {},
   "source": [
    "**Question**\n",
    "\n",
    "Build the list of square root values of items in $x$."
   ]
  },
  {
   "cell_type": "code",
   "execution_count": 197,
   "metadata": {},
   "outputs": [],
   "source": [
    "x = [1.5, 41., .413, 5.13, 3.4, 8.74]"
   ]
  },
  {
   "cell_type": "code",
   "execution_count": 198,
   "metadata": {},
   "outputs": [
    {
     "data": {
      "text/plain": [
       "[2.25, 1681.0, 0.17056899999999997, 26.3169, 11.559999999999999, 76.3876]"
      ]
     },
     "execution_count": 198,
     "metadata": {},
     "output_type": "execute_result"
    }
   ],
   "source": [
    "# Answer\n",
    "[i**2 for i in x]"
   ]
  },
  {
   "cell_type": "markdown",
   "metadata": {},
   "source": [
    "## While loop <a id=\"part4sec5\"></a>\n",
    "Akin to the `for` statement, the `while` loop benefits from the keywords `break`, `continue` and `else`."
   ]
  },
  {
   "cell_type": "code",
   "execution_count": 199,
   "metadata": {},
   "outputs": [
    {
     "name": "stdout",
     "output_type": "stream",
     "text": [
      "the loop was not broken\n",
      "sqrt(10) is approximately 3.16\n"
     ]
    }
   ],
   "source": [
    "v = 0\n",
    "while v**2 < 10:\n",
    "    v += .01\n",
    "else:\n",
    "    print(\"the loop was not broken\")\n",
    "\n",
    "print(\"sqrt(10) is approximately {0:.2f}\".format(v-.01))"
   ]
  },
  {
   "cell_type": "markdown",
   "metadata": {},
   "source": [
    "Write a loop that finds the floor value of $x$."
   ]
  },
  {
   "cell_type": "code",
   "execution_count": 201,
   "metadata": {},
   "outputs": [],
   "source": [
    "x = 12.3"
   ]
  },
  {
   "cell_type": "code",
   "execution_count": 203,
   "metadata": {},
   "outputs": [
    {
     "data": {
      "text/plain": [
       "12"
      ]
     },
     "execution_count": 203,
     "metadata": {},
     "output_type": "execute_result"
    }
   ],
   "source": [
    "# Answer\n",
    "def myfloor(x):\n",
    "    n = 0\n",
    "    while n <= x:\n",
    "        n+=1\n",
    "    return n-1\n",
    "\n",
    "myfloor(x)"
   ]
  },
  {
   "cell_type": "markdown",
   "metadata": {},
   "source": [
    "## Function <a id=\"part4sec6\"></a>\n",
    "A function is defined with the keyword `def`:"
   ]
  },
  {
   "cell_type": "code",
   "execution_count": 204,
   "metadata": {},
   "outputs": [
    {
     "name": "stdout",
     "output_type": "stream",
     "text": [
      "This is a test\n"
     ]
    }
   ],
   "source": [
    "def test():\n",
    "    \"\"\"Test function\n",
    "    \n",
    "    This function prints \\\"This is a test\\\"\n",
    "    \"\"\"\n",
    "    print(\"This is a test\")\n",
    "\n",
    "test()"
   ]
  },
  {
   "cell_type": "markdown",
   "metadata": {},
   "source": [
    "The documentation string (or docstring) of the function appears when one uses *help* or *?*:"
   ]
  },
  {
   "cell_type": "code",
   "execution_count": 205,
   "metadata": {},
   "outputs": [
    {
     "name": "stdout",
     "output_type": "stream",
     "text": [
      "\u001b[1;31mSignature:\u001b[0m \u001b[0mtest\u001b[0m\u001b[1;33m(\u001b[0m\u001b[1;33m)\u001b[0m\u001b[1;33m\u001b[0m\u001b[1;33m\u001b[0m\u001b[0m\n",
      "\u001b[1;31mDocstring:\u001b[0m\n",
      "Test function\n",
      "\n",
      "This function prints \"This is a test\"\n",
      "\u001b[1;31mFile:\u001b[0m      c:\\users\\remi\\appdata\\local\\temp\\ipykernel_7128\\1233203591.py\n",
      "\u001b[1;31mType:\u001b[0m      function"
     ]
    }
   ],
   "source": [
    "test?"
   ]
  },
  {
   "cell_type": "markdown",
   "metadata": {},
   "source": [
    "Note that a function is an object like an integer or a list."
   ]
  },
  {
   "cell_type": "code",
   "execution_count": 206,
   "metadata": {},
   "outputs": [
    {
     "data": {
      "text/plain": [
       "function"
      ]
     },
     "execution_count": 206,
     "metadata": {},
     "output_type": "execute_result"
    }
   ],
   "source": [
    "type(test)"
   ]
  },
  {
   "cell_type": "code",
   "execution_count": 207,
   "metadata": {},
   "outputs": [
    {
     "name": "stdout",
     "output_type": "stream",
     "text": [
      "This is a test\n"
     ]
    }
   ],
   "source": [
    "f = test\n",
    "f()"
   ]
  },
  {
   "cell_type": "markdown",
   "metadata": {},
   "source": [
    "Functions can also return a result:"
   ]
  },
  {
   "cell_type": "code",
   "execution_count": 208,
   "metadata": {},
   "outputs": [
    {
     "name": "stdout",
     "output_type": "stream",
     "text": [
      "3\n"
     ]
    }
   ],
   "source": [
    "def add(a, b):\n",
    "    return a+b\n",
    "\n",
    "print(add(1, 2))"
   ]
  },
  {
   "cell_type": "markdown",
   "metadata": {},
   "source": [
    "### Parameters\n",
    "A function can have two kinds of parameters:\n",
    "- mandatory parameters;\n",
    "- optional parameters.\n",
    "Optional parameters always come after mandatory ones and are defined with default values.\n",
    "In the following example, *name* is mandatory, while *age* and *job* are optional."
   ]
  },
  {
   "cell_type": "code",
   "execution_count": 1,
   "metadata": {},
   "outputs": [
    {
     "name": "stdout",
     "output_type": "stream",
     "text": [
      "My name is Picasso.\n",
      "I am a painter and I am 40 years old.\n",
      "\n",
      "My name is Kerviel.\n",
      "I am a trader and I am 39 years old.\n",
      "\n"
     ]
    }
   ],
   "source": [
    "def identity(name, age=39, job=\"trader\"):\n",
    "    print(\"My name is %s.\" % name)\n",
    "    print(\"I am a %s and I am %d years old.\" % (job, age))\n",
    "    print()\n",
    "\n",
    "identity(\"Picasso\", 40, \"painter\")\n",
    "identity(\"Kerviel\")"
   ]
  },
  {
   "cell_type": "markdown",
   "metadata": {},
   "source": [
    "In this example, the function is called with positional arguments.\n",
    "This means that the order of the parameters should be the same as in the definition.\n",
    "However, parameters can also be passed with their keyword.\n",
    "In this case, the order is not significant."
   ]
  },
  {
   "cell_type": "code",
   "execution_count": 2,
   "metadata": {},
   "outputs": [
    {
     "name": "stdout",
     "output_type": "stream",
     "text": [
      "My name is Armstrong.\n",
      "I am a musician and I am 42 years old.\n",
      "\n"
     ]
    }
   ],
   "source": [
    "identity(job=\"musician\", name=\"Armstrong\", age=42)"
   ]
  },
  {
   "cell_type": "markdown",
   "metadata": {},
   "source": [
    "When both techniques are mixed, positional arguments always come before keyword arguments."
   ]
  },
  {
   "cell_type": "code",
   "execution_count": 3,
   "metadata": {},
   "outputs": [
    {
     "name": "stdout",
     "output_type": "stream",
     "text": [
      "My name is Bach.\n",
      "I am a composer and I am 39 years old.\n",
      "\n"
     ]
    }
   ],
   "source": [
    "identity(\"Bach\", job=\"composer\")"
   ]
  },
  {
   "cell_type": "markdown",
   "metadata": {},
   "source": [
    "One can check if a parameter has been passed using the neutral value *None*:"
   ]
  },
  {
   "cell_type": "code",
   "execution_count": 4,
   "metadata": {},
   "outputs": [
    {
     "name": "stdout",
     "output_type": "stream",
     "text": [
      "(1, 3)\n",
      "(1, 2)\n"
     ]
    }
   ],
   "source": [
    "def init_f(a, b=None):\n",
    "    if b is None:\n",
    "        b = a + 1\n",
    "    return a, b\n",
    "\n",
    "print(init_f(1, 3))\n",
    "print(init_f(1))"
   ]
  },
  {
   "cell_type": "markdown",
   "metadata": {},
   "source": [
    "**Question**\n",
    "\n",
    "Write a function, called *sq*, that has two arguments: *x* and *gamma* (default value: 1) and that returns $gamma ~\\times~ x^2$."
   ]
  },
  {
   "cell_type": "code",
   "execution_count": 6,
   "metadata": {},
   "outputs": [
    {
     "name": "stdout",
     "output_type": "stream",
     "text": [
      "4\n",
      "12\n"
     ]
    }
   ],
   "source": [
    "# Answer\n",
    "def sq(x, gamma = 1):\n",
    "    return gamma*x**2\n",
    "\n",
    "\n",
    "\n",
    "print(sq(2))\n",
    "print(sq(2, 3))"
   ]
  },
  {
   "cell_type": "markdown",
   "metadata": {},
   "source": [
    "### Packing and unpacking arguments\n",
    "Parameters can be packed in a tuple or a dictionary and unpacked when calling a function."
   ]
  },
  {
   "cell_type": "code",
   "execution_count": 7,
   "metadata": {},
   "outputs": [
    {
     "name": "stdout",
     "output_type": "stream",
     "text": [
      "My name is Diniz.\n",
      "I am a race walker and I am 38 years old.\n",
      "\n"
     ]
    }
   ],
   "source": [
    "tuple_arg = (\"Diniz\", 38, \"race walker\")\n",
    "identity(*tuple_arg)"
   ]
  },
  {
   "cell_type": "code",
   "execution_count": 8,
   "metadata": {},
   "outputs": [
    {
     "name": "stdout",
     "output_type": "stream",
     "text": [
      "My name is Riner.\n",
      "I am a judoka and I am 27 years old.\n",
      "\n"
     ]
    }
   ],
   "source": [
    "dic_arg = {\"job\": \"judoka\", \"age\": 27, \"name\": \"Riner\"}\n",
    "identity(**dic_arg)"
   ]
  },
  {
   "cell_type": "markdown",
   "metadata": {},
   "source": [
    "Respectively, a function can be defined with packed arguments.\n",
    "This makes it possible to allow an arbitrary number of arguments."
   ]
  },
  {
   "cell_type": "code",
   "execution_count": 9,
   "metadata": {},
   "outputs": [
    {
     "name": "stdout",
     "output_type": "stream",
     "text": [
      "My name is John.\n",
      "I am a violonist and I am 22 years old.\n",
      "\n",
      "I am also a student (level M2).\n",
      "I study Statistics, and  Machine learning .\n"
     ]
    }
   ],
   "source": [
    "def student(level=\"B1\", *args, **kwargs):\n",
    "    identity(**kwargs)\n",
    "    print(\"I am also a student (level {}).\".format(level))\n",
    "    print(\"I study \", end=\"\")\n",
    "    for it in args[:-1]:\n",
    "        print(it, end=\", \")\n",
    "    print(\"and \", args[-1], \".\")\n",
    "\n",
    "student(\"M2\", \"Statistics\", \"Machine learning\", name=\"John\", job=\"violonist\", age=22)"
   ]
  },
  {
   "cell_type": "markdown",
   "metadata": {},
   "source": [
    "**Question**\n",
    "\n",
    "Write a function that prints the number of arguments and each of its arguments on a separate line."
   ]
  },
  {
   "cell_type": "code",
   "execution_count": 11,
   "metadata": {},
   "outputs": [
    {
     "name": "stdout",
     "output_type": "stream",
     "text": [
      "Number of arguments: 3\n",
      "1\n",
      "2\n",
      "3\n"
     ]
    }
   ],
   "source": [
    "def my_print(*args):\n",
    "    print(\"Number of arguments:\", len(args))\n",
    "    for arg in args:\n",
    "        print(arg)\n",
    "        \n",
    "my_print(1, 2, \"3\")"
   ]
  },
  {
   "cell_type": "markdown",
   "metadata": {},
   "source": [
    "### Modifying parameters\n",
    "Like in other languages, a function can modifier some parameters.\n",
    "The rule is:\n",
    "- if an argument is mutable, then it can be modified inside a function;\n",
    "- if an argument is immutable, it cannot be modified."
   ]
  },
  {
   "cell_type": "code",
   "execution_count": 12,
   "metadata": {},
   "outputs": [
    {
     "name": "stdout",
     "output_type": "stream",
     "text": [
      "(1, 2) [1, 2, 1, 2]\n"
     ]
    }
   ],
   "source": [
    "def repeat(*args):\n",
    "    for it in args:\n",
    "        it *= 2\n",
    "\n",
    "a = (1, 2)  # Immutable\n",
    "b = [1, 2]  # Mutable\n",
    "\n",
    "repeat(a, b)\n",
    "print(a, b)"
   ]
  },
  {
   "cell_type": "markdown",
   "metadata": {},
   "source": [
    "### Lambda expressions\n",
    "A lambda function is a small anonymous function, that is restricted to a single expression.\n",
    "It is generally used as an argument to or an output from a usual function."
   ]
  },
  {
   "cell_type": "code",
   "execution_count": 13,
   "metadata": {},
   "outputs": [],
   "source": [
    "def apply(x, fun=lambda x: x):\n",
    "    return [fun(item) for item in x]\n",
    "\n",
    "def arithmetic_progression(a=0, b=1):\n",
    "    return lambda n: a + n*b"
   ]
  },
  {
   "cell_type": "code",
   "execution_count": 14,
   "metadata": {},
   "outputs": [
    {
     "name": "stdout",
     "output_type": "stream",
     "text": [
      "[1, 3, 5, 7, 9, 11, 13, 15, 17, 19]\n"
     ]
    }
   ],
   "source": [
    "f = arithmetic_progression(1, 2)\n",
    "\n",
    "print(apply(range(10), f))"
   ]
  },
  {
   "cell_type": "markdown",
   "metadata": {},
   "source": [
    "**Question**\n",
    "\n",
    "Given the function $sq$ (created just before), define a lambda function that returns $4x^2$."
   ]
  },
  {
   "cell_type": "code",
   "execution_count": 15,
   "metadata": {},
   "outputs": [
    {
     "name": "stdout",
     "output_type": "stream",
     "text": [
      "16\n"
     ]
    }
   ],
   "source": [
    "sq4 = lambda x: sq(x, gamma=4)\n",
    "\n",
    "print(sq4(2))"
   ]
  },
  {
   "cell_type": "markdown",
   "metadata": {},
   "source": [
    "### Methods\n",
    "Since Python is an object-oriented programming language, objects always come with functions linked to them.\n",
    "These functions are called *methods* and generally modify directly the variable they are called with.\n",
    "For instance:"
   ]
  },
  {
   "cell_type": "code",
   "execution_count": 16,
   "metadata": {},
   "outputs": [
    {
     "name": "stdout",
     "output_type": "stream",
     "text": [
      "[5, 3, 1]\n"
     ]
    }
   ],
   "source": [
    "l = [1, 3, 5]\n",
    "l.reverse()  # l is reversed (thus modified)\n",
    "print(l)"
   ]
  },
  {
   "cell_type": "markdown",
   "metadata": {},
   "source": [
    "To know the methods associated to an object (here the list *l*), write:\n",
    "    \n",
    "    l.\n",
    "    \n",
    "then press TAB.\n",
    "To obtain an inline help concerning a method (here list.reverse), write:\n",
    "\n",
    "    l.reverse\n",
    "\n",
    "then press SHIFT+TAB."
   ]
  },
  {
   "cell_type": "markdown",
   "metadata": {},
   "source": [
    "**Question**\n",
    "\n",
    "Sort the previous list."
   ]
  },
  {
   "cell_type": "code",
   "execution_count": 19,
   "metadata": {},
   "outputs": [
    {
     "name": "stdout",
     "output_type": "stream",
     "text": [
      "[1, 3, 5]\n"
     ]
    }
   ],
   "source": [
    "# Answer\n",
    "l.sort()\n",
    "print(l)"
   ]
  },
  {
   "cell_type": "markdown",
   "metadata": {},
   "source": [
    "## Modules <a id=\"part4sec7\"></a>\n",
    "### Loading modules\n",
    "Up to now, we only experienced internal features of Python.\n",
    "Yet, our interest will next focus on external tools.\n",
    "These tools are stored in modules, which can be loaded in several manners."
   ]
  },
  {
   "cell_type": "code",
   "execution_count": 23,
   "metadata": {},
   "outputs": [],
   "source": [
    "import sys  # Load the sys module\n",
    "import numpy as np  # Load the numpy module with the name np\n",
    "from scipy import stats  # Load the stats submodule from the scipy module\n",
    "from scipy.linalg import inv  # Load the matrix inversion function from a submodule\n",
    "# from statsmodels import *  # Import evrything from the statsmodels module"
   ]
  },
  {
   "cell_type": "markdown",
   "metadata": {},
   "source": [
    "The last manner is not recommended since it can create name clashes between modules and makes the code harder to read and to understand.\n",
    "\n",
    "To know the content of a module, use `dir`:"
   ]
  },
  {
   "cell_type": "code",
   "execution_count": 24,
   "metadata": {},
   "outputs": [
    {
     "data": {
      "text/plain": [
       "['stderr',\n",
       " 'stdin',\n",
       " 'stdlib_module_names',\n",
       " 'stdout',\n",
       " 'thread_info',\n",
       " 'unraisablehook',\n",
       " 'version',\n",
       " 'version_info',\n",
       " 'warnoptions',\n",
       " 'winver']"
      ]
     },
     "execution_count": 24,
     "metadata": {},
     "output_type": "execute_result"
    }
   ],
   "source": [
    "dir(sys)[-10:]"
   ]
  },
  {
   "cell_type": "markdown",
   "metadata": {},
   "source": [
    "Now, modules content can be accessed in the following manner:"
   ]
  },
  {
   "cell_type": "code",
   "execution_count": 27,
   "metadata": {},
   "outputs": [
    {
     "name": "stdout",
     "output_type": "stream",
     "text": [
      "['ALLOW_THREADS', 'BUFSIZE', 'CLIP', 'DataSource', 'ERR_CALL', 'ERR_DEFAULT', 'ERR_IGNORE', 'ERR_LOG', 'ERR_PRINT', 'ERR_RAISE', 'ERR_WARN', 'FLOATING_POINT_SUPPORT', 'FPE_DIVIDEBYZERO', 'FPE_INVALID', 'FPE_OVERFLOW', 'FPE_UNDERFLOW', 'False_', 'Inf', 'Infinity', 'MAXDIMS', 'MAY_SHARE_BOUNDS', 'MAY_SHARE_EXACT', 'NAN', 'NINF', 'NZERO', 'NaN', 'PINF', 'PZERO', 'RAISE', 'RankWarning', 'SHIFT_DIVIDEBYZERO', 'SHIFT_INVALID', 'SHIFT_OVERFLOW', 'SHIFT_UNDERFLOW', 'ScalarType', 'True_', 'UFUNC_BUFSIZE_DEFAULT', 'UFUNC_PYVALS_NAME', 'WRAP', '_CopyMode', '_NoValue', '_UFUNC_API', '__NUMPY_SETUP__', '__all__', '__builtins__', '__cached__', '__config__', '__deprecated_attrs__', '__dir__', '__doc__', '__expired_functions__', '__file__', '__former_attrs__', '__future_scalars__', '__getattr__', '__git_version__', '__loader__', '__name__', '__package__', '__path__', '__spec__', '__version__', '_add_newdoc_ufunc', '_builtins', '_distributor_init', '_financial_names', '_get_promotion_state', '_globals', '_int_extended_msg', '_mat', '_no_nep50_warning', '_pyinstaller_hooks_dir', '_pytesttester', '_set_promotion_state', '_specific_msg', '_typing', '_using_numpy2_behavior', '_utils', '_version', 'abs', 'absolute', 'add', 'add_docstring', 'add_newdoc', 'add_newdoc_ufunc', 'all', 'allclose', 'alltrue', 'amax', 'amin', 'angle', 'any', 'append', 'apply_along_axis', 'apply_over_axes', 'arange', 'arccos', 'arccosh', 'arcsin', 'arcsinh', 'arctan', 'arctan2', 'arctanh', 'argmax', 'argmin', 'argpartition', 'argsort', 'argwhere', 'around', 'array', 'array2string', 'array_equal', 'array_equiv', 'array_repr', 'array_split', 'array_str', 'asanyarray', 'asarray', 'asarray_chkfinite', 'ascontiguousarray', 'asfarray', 'asfortranarray', 'asmatrix', 'atleast_1d', 'atleast_2d', 'atleast_3d', 'average', 'bartlett', 'base_repr', 'binary_repr', 'bincount', 'bitwise_and', 'bitwise_not', 'bitwise_or', 'bitwise_xor', 'blackman', 'block', 'bmat', 'bool_', 'broadcast', 'broadcast_arrays', 'broadcast_shapes', 'broadcast_to', 'busday_count', 'busday_offset', 'busdaycalendar', 'byte', 'byte_bounds', 'bytes_', 'c_', 'can_cast', 'cast', 'cbrt', 'cdouble', 'ceil', 'cfloat', 'char', 'character', 'chararray', 'choose', 'clip', 'clongdouble', 'clongfloat', 'column_stack', 'common_type', 'compare_chararrays', 'compat', 'complex128', 'complex64', 'complex_', 'complexfloating', 'compress', 'concatenate', 'conj', 'conjugate', 'convolve', 'copy', 'copysign', 'copyto', 'corrcoef', 'correlate', 'cos', 'cosh', 'count_nonzero', 'cov', 'cross', 'csingle', 'ctypeslib', 'cumprod', 'cumproduct', 'cumsum', 'datetime64', 'datetime_as_string', 'datetime_data', 'deg2rad', 'degrees', 'delete', 'deprecate', 'deprecate_with_doc', 'diag', 'diag_indices', 'diag_indices_from', 'diagflat', 'diagonal', 'diff', 'digitize', 'disp', 'divide', 'divmod', 'dot', 'double', 'dsplit', 'dstack', 'dtype', 'dtypes', 'e', 'ediff1d', 'einsum', 'einsum_path', 'emath', 'empty', 'empty_like', 'equal', 'errstate', 'euler_gamma', 'exceptions', 'exp', 'exp2', 'expand_dims', 'expm1', 'extract', 'eye', 'fabs', 'fastCopyAndTranspose', 'fft', 'fill_diagonal', 'find_common_type', 'finfo', 'fix', 'flatiter', 'flatnonzero', 'flexible', 'flip', 'fliplr', 'flipud', 'float16', 'float32', 'float64', 'float_', 'float_power', 'floating', 'floor', 'floor_divide', 'fmax', 'fmin', 'fmod', 'format_float_positional', 'format_float_scientific', 'format_parser', 'frexp', 'from_dlpack', 'frombuffer', 'fromfile', 'fromfunction', 'fromiter', 'frompyfunc', 'fromregex', 'fromstring', 'full', 'full_like', 'gcd', 'generic', 'genfromtxt', 'geomspace', 'get_array_wrap', 'get_include', 'get_printoptions', 'getbufsize', 'geterr', 'geterrcall', 'geterrobj', 'gradient', 'greater', 'greater_equal', 'half', 'hamming', 'hanning', 'heaviside', 'histogram', 'histogram2d', 'histogram_bin_edges', 'histogramdd', 'hsplit', 'hstack', 'hypot', 'i0', 'identity', 'iinfo', 'imag', 'in1d', 'index_exp', 'indices', 'inexact', 'inf', 'info', 'infty', 'inner', 'insert', 'int16', 'int32', 'int64', 'int8', 'int_', 'intc', 'integer', 'interp', 'intersect1d', 'intp', 'invert', 'is_busday', 'isclose', 'iscomplex', 'iscomplexobj', 'isfinite', 'isfortran', 'isin', 'isinf', 'isnan', 'isnat', 'isneginf', 'isposinf', 'isreal', 'isrealobj', 'isscalar', 'issctype', 'issubclass_', 'issubdtype', 'issubsctype', 'iterable', 'ix_', 'kaiser', 'kron', 'lcm', 'ldexp', 'left_shift', 'less', 'less_equal', 'lexsort', 'lib', 'linalg', 'linspace', 'little_endian', 'load', 'loadtxt', 'log', 'log10', 'log1p', 'log2', 'logaddexp', 'logaddexp2', 'logical_and', 'logical_not', 'logical_or', 'logical_xor', 'logspace', 'longcomplex', 'longdouble', 'longfloat', 'longlong', 'lookfor', 'ma', 'mask_indices', 'mat', 'matmul', 'matrix', 'max', 'maximum', 'maximum_sctype', 'may_share_memory', 'mean', 'median', 'memmap', 'meshgrid', 'mgrid', 'min', 'min_scalar_type', 'minimum', 'mintypecode', 'mod', 'modf', 'moveaxis', 'msort', 'multiply', 'nan', 'nan_to_num', 'nanargmax', 'nanargmin', 'nancumprod', 'nancumsum', 'nanmax', 'nanmean', 'nanmedian', 'nanmin', 'nanpercentile', 'nanprod', 'nanquantile', 'nanstd', 'nansum', 'nanvar', 'nbytes', 'ndarray', 'ndenumerate', 'ndim', 'ndindex', 'nditer', 'negative', 'nested_iters', 'newaxis', 'nextafter', 'nonzero', 'not_equal', 'numarray', 'number', 'obj2sctype', 'object_', 'ogrid', 'oldnumeric', 'ones', 'ones_like', 'outer', 'packbits', 'pad', 'partition', 'percentile', 'pi', 'piecewise', 'place', 'poly', 'poly1d', 'polyadd', 'polyder', 'polydiv', 'polyfit', 'polyint', 'polymul', 'polynomial', 'polysub', 'polyval', 'positive', 'power', 'printoptions', 'prod', 'product', 'promote_types', 'ptp', 'put', 'put_along_axis', 'putmask', 'quantile', 'r_', 'rad2deg', 'radians', 'random', 'ravel', 'ravel_multi_index', 'real', 'real_if_close', 'rec', 'recarray', 'recfromcsv', 'recfromtxt', 'reciprocal', 'record', 'remainder', 'repeat', 'require', 'reshape', 'resize', 'result_type', 'right_shift', 'rint', 'roll', 'rollaxis', 'roots', 'rot90', 'round', 'round_', 'row_stack', 's_', 'safe_eval', 'save', 'savetxt', 'savez', 'savez_compressed', 'sctype2char', 'sctypeDict', 'sctypes', 'searchsorted', 'select', 'set_numeric_ops', 'set_printoptions', 'set_string_function', 'setbufsize', 'setdiff1d', 'seterr', 'seterrcall', 'seterrobj', 'setxor1d', 'shape', 'shares_memory', 'short', 'show_config', 'show_runtime', 'sign', 'signbit', 'signedinteger', 'sin', 'sinc', 'single', 'singlecomplex', 'sinh', 'size', 'sometrue', 'sort', 'sort_complex', 'source', 'spacing', 'split', 'sqrt', 'square', 'squeeze', 'stack', 'std', 'str_', 'string_', 'subtract', 'sum', 'swapaxes', 'take', 'take_along_axis', 'tan', 'tanh', 'tensordot', 'test', 'testing', 'tile', 'timedelta64', 'trace', 'tracemalloc_domain', 'transpose', 'trapz', 'tri', 'tril', 'tril_indices', 'tril_indices_from', 'trim_zeros', 'triu', 'triu_indices', 'triu_indices_from', 'true_divide', 'trunc', 'typecodes', 'typename', 'ubyte', 'ufunc', 'uint', 'uint16', 'uint32', 'uint64', 'uint8', 'uintc', 'uintp', 'ulonglong', 'unicode_', 'union1d', 'unique', 'unpackbits', 'unravel_index', 'unsignedinteger', 'unwrap', 'ushort', 'vander', 'var', 'vdot', 'vectorize', 'version', 'void', 'vsplit', 'vstack', 'where', 'who', 'zeros', 'zeros_like']\n"
     ]
    }
   ],
   "source": [
    "print(dir(np))"
   ]
  },
  {
   "cell_type": "markdown",
   "metadata": {},
   "source": [
    "**Question**\n",
    "\n",
    "Compute $e^{-1}$."
   ]
  },
  {
   "cell_type": "code",
   "execution_count": 30,
   "metadata": {},
   "outputs": [
    {
     "name": "stdout",
     "output_type": "stream",
     "text": [
      "0.36787944117144233\n"
     ]
    }
   ],
   "source": [
    "# Answer\n",
    "print(np.e**(-1))"
   ]
  },
  {
   "cell_type": "markdown",
   "metadata": {},
   "source": [
    "### Handling the path and creating modules\n",
    "To be found by Python, modules should be stored in a directory of *sys.path*:"
   ]
  },
  {
   "cell_type": "code",
   "execution_count": 31,
   "metadata": {},
   "outputs": [
    {
     "data": {
      "text/plain": [
       "['c:\\\\Users\\\\remi\\\\Desktop\\\\MIMI_MASTER\\\\STASC',\n",
       " 'c:\\\\Users\\\\remi\\\\anaconda3\\\\envs\\\\python3_10_infoia\\\\python310.zip',\n",
       " 'c:\\\\Users\\\\remi\\\\anaconda3\\\\envs\\\\python3_10_infoia\\\\DLLs',\n",
       " 'c:\\\\Users\\\\remi\\\\anaconda3\\\\envs\\\\python3_10_infoia\\\\lib',\n",
       " 'c:\\\\Users\\\\remi\\\\anaconda3\\\\envs\\\\python3_10_infoia',\n",
       " '',\n",
       " 'c:\\\\Users\\\\remi\\\\anaconda3\\\\envs\\\\python3_10_infoia\\\\lib\\\\site-packages',\n",
       " 'c:\\\\Users\\\\remi\\\\anaconda3\\\\envs\\\\python3_10_infoia\\\\lib\\\\site-packages\\\\win32',\n",
       " 'c:\\\\Users\\\\remi\\\\anaconda3\\\\envs\\\\python3_10_infoia\\\\lib\\\\site-packages\\\\win32\\\\lib',\n",
       " 'c:\\\\Users\\\\remi\\\\anaconda3\\\\envs\\\\python3_10_infoia\\\\lib\\\\site-packages\\\\Pythonwin']"
      ]
     },
     "execution_count": 31,
     "metadata": {},
     "output_type": "execute_result"
    }
   ],
   "source": [
    "sys.path"
   ]
  },
  {
   "cell_type": "markdown",
   "metadata": {},
   "source": [
    "If your module is stored in another directory, add it to the Python path:"
   ]
  },
  {
   "cell_type": "code",
   "execution_count": 32,
   "metadata": {},
   "outputs": [],
   "source": [
    "sys.path.append('./aux/')"
   ]
  },
  {
   "cell_type": "markdown",
   "metadata": {},
   "source": [
    "Now, to create a module in the directory `./aux/`, store the functions and variables definitions (see cell below) in a Python file, named `my_module.py` (for example using Spyder).\n",
    "Then, you can write:\n",
    "\n",
    "    %load aux/my_module.py\n",
    "    \n",
    "to know the content of the file `aux/my_module.py`."
   ]
  },
  {
   "cell_type": "code",
   "execution_count": 33,
   "metadata": {},
   "outputs": [
    {
     "name": "stdout",
     "output_type": "stream",
     "text": [
      "Function 1\n"
     ]
    }
   ],
   "source": [
    "# %load aux/my_module.py\n",
    "\"\"\"\n",
    "Test module.\n",
    "\n",
    "Author: Maxime Sangnier\n",
    "\"\"\"\n",
    "\n",
    "def f1():\n",
    "    print(\"Function 1\")\n",
    "\n",
    "def f2():\n",
    "    print(\"Function 2\")\n",
    "\n",
    "pi = 3.14\n",
    "\n",
    "if __name__ == \"__main__\":\n",
    "    f1()  # Example of using this module\n",
    "\n"
   ]
  },
  {
   "cell_type": "code",
   "execution_count": 34,
   "metadata": {},
   "outputs": [
    {
     "ename": "ModuleNotFoundError",
     "evalue": "No module named 'my_module'",
     "output_type": "error",
     "traceback": [
      "\u001b[1;31m---------------------------------------------------------------------------\u001b[0m",
      "\u001b[1;31mModuleNotFoundError\u001b[0m                       Traceback (most recent call last)",
      "\u001b[1;32mc:\\Users\\remi\\Desktop\\MIMI_MASTER\\STASC\\Introduction.ipynb Cell 263\u001b[0m line \u001b[0;36m1\n\u001b[1;32m----> <a href='vscode-notebook-cell:/c%3A/Users/remi/Desktop/MIMI_MASTER/STASC/Introduction.ipynb#Y523sZmlsZQ%3D%3D?line=0'>1</a>\u001b[0m \u001b[39mimport\u001b[39;00m \u001b[39mmy_module\u001b[39;00m \u001b[39mas\u001b[39;00m \u001b[39mm\u001b[39;00m\n\u001b[0;32m      <a href='vscode-notebook-cell:/c%3A/Users/remi/Desktop/MIMI_MASTER/STASC/Introduction.ipynb#Y523sZmlsZQ%3D%3D?line=1'>2</a>\u001b[0m get_ipython()\u001b[39m.\u001b[39mrun_line_magic(\u001b[39m'\u001b[39m\u001b[39mpinfo\u001b[39m\u001b[39m'\u001b[39m, \u001b[39m'\u001b[39m\u001b[39mm\u001b[39m\u001b[39m'\u001b[39m)\n",
      "\u001b[1;31mModuleNotFoundError\u001b[0m: No module named 'my_module'"
     ]
    }
   ],
   "source": [
    "import my_module as m\n",
    "m?"
   ]
  },
  {
   "cell_type": "code",
   "execution_count": 35,
   "metadata": {},
   "outputs": [
    {
     "ename": "NameError",
     "evalue": "name 'm' is not defined",
     "output_type": "error",
     "traceback": [
      "\u001b[1;31m---------------------------------------------------------------------------\u001b[0m",
      "\u001b[1;31mNameError\u001b[0m                                 Traceback (most recent call last)",
      "\u001b[1;32mc:\\Users\\remi\\Desktop\\MIMI_MASTER\\STASC\\Introduction.ipynb Cell 264\u001b[0m line \u001b[0;36m1\n\u001b[1;32m----> <a href='vscode-notebook-cell:/c%3A/Users/remi/Desktop/MIMI_MASTER/STASC/Introduction.ipynb#Y524sZmlsZQ%3D%3D?line=0'>1</a>\u001b[0m m\u001b[39m.\u001b[39mf2()\n",
      "\u001b[1;31mNameError\u001b[0m: name 'm' is not defined"
     ]
    }
   ],
   "source": [
    "m.f2()"
   ]
  },
  {
   "cell_type": "markdown",
   "metadata": {},
   "source": [
    "In Python 2, if you modify your module, reload it this way:\n",
    "\n",
    "    reload(m)\n",
    "   \n",
    "otherwise changes won't be considered."
   ]
  },
  {
   "cell_type": "markdown",
   "metadata": {},
   "source": [
    "The last part of the module is executed when `my_module.py` is run as a script:"
   ]
  },
  {
   "cell_type": "code",
   "execution_count": 36,
   "metadata": {},
   "outputs": [
    {
     "ename": "Exception",
     "evalue": "File `'aux/my_module.py'` not found.",
     "output_type": "error",
     "traceback": [
      "\u001b[1;31m---------------------------------------------------------------------------\u001b[0m",
      "\u001b[1;31mOSError\u001b[0m                                   Traceback (most recent call last)",
      "File \u001b[1;32mc:\\Users\\remi\\anaconda3\\envs\\python3_10_infoia\\lib\\site-packages\\IPython\\core\\magics\\execution.py:716\u001b[0m, in \u001b[0;36mExecutionMagics.run\u001b[1;34m(self, parameter_s, runner, file_finder)\u001b[0m\n\u001b[0;32m    715\u001b[0m     fpath \u001b[39m=\u001b[39m arg_lst[\u001b[39m0\u001b[39m]\n\u001b[1;32m--> 716\u001b[0m     filename \u001b[39m=\u001b[39m file_finder(fpath)\n\u001b[0;32m    717\u001b[0m \u001b[39mexcept\u001b[39;00m \u001b[39mIndexError\u001b[39;00m \u001b[39mas\u001b[39;00m e:\n",
      "File \u001b[1;32mc:\\Users\\remi\\anaconda3\\envs\\python3_10_infoia\\lib\\site-packages\\IPython\\utils\\path.py:90\u001b[0m, in \u001b[0;36mget_py_filename\u001b[1;34m(name)\u001b[0m\n\u001b[0;32m     89\u001b[0m         \u001b[39mreturn\u001b[39;00m py_name\n\u001b[1;32m---> 90\u001b[0m \u001b[39mraise\u001b[39;00m \u001b[39mIOError\u001b[39;00m(\u001b[39m\"\u001b[39m\u001b[39mFile `\u001b[39m\u001b[39m%r\u001b[39;00m\u001b[39m` not found.\u001b[39m\u001b[39m\"\u001b[39m \u001b[39m%\u001b[39m name)\n",
      "\u001b[1;31mOSError\u001b[0m: File `'aux/my_module.py'` not found.",
      "\nThe above exception was the direct cause of the following exception:\n",
      "\u001b[1;31mException\u001b[0m                                 Traceback (most recent call last)",
      "\u001b[1;32mc:\\Users\\remi\\Desktop\\MIMI_MASTER\\STASC\\Introduction.ipynb Cell 267\u001b[0m line \u001b[0;36m1\n\u001b[1;32m----> <a href='vscode-notebook-cell:/c%3A/Users/remi/Desktop/MIMI_MASTER/STASC/Introduction.ipynb#Y530sZmlsZQ%3D%3D?line=0'>1</a>\u001b[0m get_ipython()\u001b[39m.\u001b[39;49mrun_line_magic(\u001b[39m'\u001b[39;49m\u001b[39mrun\u001b[39;49m\u001b[39m'\u001b[39;49m, \u001b[39m'\u001b[39;49m\u001b[39maux/my_module.py\u001b[39;49m\u001b[39m'\u001b[39;49m)\n",
      "File \u001b[1;32mc:\\Users\\remi\\anaconda3\\envs\\python3_10_infoia\\lib\\site-packages\\IPython\\core\\interactiveshell.py:2432\u001b[0m, in \u001b[0;36mInteractiveShell.run_line_magic\u001b[1;34m(self, magic_name, line, _stack_depth)\u001b[0m\n\u001b[0;32m   2430\u001b[0m     kwargs[\u001b[39m'\u001b[39m\u001b[39mlocal_ns\u001b[39m\u001b[39m'\u001b[39m] \u001b[39m=\u001b[39m \u001b[39mself\u001b[39m\u001b[39m.\u001b[39mget_local_scope(stack_depth)\n\u001b[0;32m   2431\u001b[0m \u001b[39mwith\u001b[39;00m \u001b[39mself\u001b[39m\u001b[39m.\u001b[39mbuiltin_trap:\n\u001b[1;32m-> 2432\u001b[0m     result \u001b[39m=\u001b[39m fn(\u001b[39m*\u001b[39margs, \u001b[39m*\u001b[39m\u001b[39m*\u001b[39mkwargs)\n\u001b[0;32m   2434\u001b[0m \u001b[39m# The code below prevents the output from being displayed\u001b[39;00m\n\u001b[0;32m   2435\u001b[0m \u001b[39m# when using magics with decorator @output_can_be_silenced\u001b[39;00m\n\u001b[0;32m   2436\u001b[0m \u001b[39m# when the last Python token in the expression is a ';'.\u001b[39;00m\n\u001b[0;32m   2437\u001b[0m \u001b[39mif\u001b[39;00m \u001b[39mgetattr\u001b[39m(fn, magic\u001b[39m.\u001b[39mMAGIC_OUTPUT_CAN_BE_SILENCED, \u001b[39mFalse\u001b[39;00m):\n",
      "File \u001b[1;32mc:\\Users\\remi\\anaconda3\\envs\\python3_10_infoia\\lib\\site-packages\\IPython\\core\\magics\\execution.py:727\u001b[0m, in \u001b[0;36mExecutionMagics.run\u001b[1;34m(self, parameter_s, runner, file_finder)\u001b[0m\n\u001b[0;32m    725\u001b[0m     \u001b[39mif\u001b[39;00m os\u001b[39m.\u001b[39mname \u001b[39m==\u001b[39m \u001b[39m'\u001b[39m\u001b[39mnt\u001b[39m\u001b[39m'\u001b[39m \u001b[39mand\u001b[39;00m re\u001b[39m.\u001b[39mmatch(\u001b[39mr\u001b[39m\u001b[39m\"\u001b[39m\u001b[39m^\u001b[39m\u001b[39m'\u001b[39m\u001b[39m.*\u001b[39m\u001b[39m'\u001b[39m\u001b[39m$\u001b[39m\u001b[39m\"\u001b[39m,fpath):\n\u001b[0;32m    726\u001b[0m         warn(\u001b[39m'\u001b[39m\u001b[39mFor Windows, use double quotes to wrap a filename: \u001b[39m\u001b[39m%r\u001b[39;00m\u001b[39mun \u001b[39m\u001b[39m\"\u001b[39m\u001b[39mmypath\u001b[39m\u001b[39m\\\\\u001b[39;00m\u001b[39mmyfile.py\u001b[39m\u001b[39m\"\u001b[39m\u001b[39m'\u001b[39m)\n\u001b[1;32m--> 727\u001b[0m     \u001b[39mraise\u001b[39;00m \u001b[39mException\u001b[39;00m(msg) \u001b[39mfrom\u001b[39;00m \u001b[39me\u001b[39;00m\n\u001b[0;32m    728\u001b[0m \u001b[39mexcept\u001b[39;00m \u001b[39mTypeError\u001b[39;00m:\n\u001b[0;32m    729\u001b[0m     \u001b[39mif\u001b[39;00m fpath \u001b[39min\u001b[39;00m sys\u001b[39m.\u001b[39mmeta_path:\n",
      "\u001b[1;31mException\u001b[0m: File `'aux/my_module.py'` not found."
     ]
    }
   ],
   "source": [
    "run aux/my_module.py"
   ]
  },
  {
   "cell_type": "markdown",
   "metadata": {},
   "source": [
    "# Exercises <a id=\"part5\"></a>"
   ]
  },
  {
   "cell_type": "markdown",
   "metadata": {},
   "source": [
    "## Exercise 1 <a id=\"part5sec1\"></a>\n",
    "Create the following list with loops:\n",
    "\n",
    "    [['car', 0, 1, 4, 9, 16],\n",
    "     ['bus', 1, 4, 9, 16, 25],\n",
    "     ['train', 4, 9, 16, 25, 36]]\n"
   ]
  },
  {
   "cell_type": "code",
   "execution_count": 44,
   "metadata": {},
   "outputs": [
    {
     "data": {
      "text/plain": [
       "[['car', 0, 1, 4, 9, 16],\n",
       " ['bus', 1, 4, 9, 16, 25],\n",
       " ['train', 4, 9, 16, 25, 36]]"
      ]
     },
     "execution_count": 44,
     "metadata": {},
     "output_type": "execute_result"
    }
   ],
   "source": [
    "# Answer\n",
    "input = ['car', 'bus', 'train']\n",
    "[[input[i]]+[c**2 for c in range(i, i+5)] for i in range(3)]"
   ]
  },
  {
   "cell_type": "markdown",
   "metadata": {},
   "source": [
    "## Exercise 2 <a id=\"part5sec2\"></a>\n",
    "Create a function that returns the sum log of all its parameters (use the `log` function from the `math` module).\n"
   ]
  },
  {
   "cell_type": "code",
   "execution_count": 50,
   "metadata": {},
   "outputs": [
    {
     "data": {
      "text/plain": [
       "3.0"
      ]
     },
     "execution_count": 50,
     "metadata": {},
     "output_type": "execute_result"
    }
   ],
   "source": [
    "# Answer\n",
    "from math import log\n",
    "\n",
    "def sum_logs(*args):\n",
    "    return sum([log(arg) for arg in args])\n",
    "\n",
    "sum_logs(np.e, np.e**2)"
   ]
  },
  {
   "cell_type": "markdown",
   "metadata": {},
   "source": [
    "## Exercise 3 <a id=\"part5sec3\"></a>\n",
    "For the following list of dictionaries, write a script that adds a field *registrations* which is twice the number of accepted papers."
   ]
  },
  {
   "cell_type": "code",
   "execution_count": 51,
   "metadata": {},
   "outputs": [],
   "source": [
    "confs = [{\"Name\": \"NIPS\", \"Date\": 2016, \"Location\": \"Barcelona\", \"acc_papers\": 300},\n",
    "         {\"Name\": \"ICML\", \"Date\": 2016, \"Location\": \"New York City\", \"acc_papers\": 450},\n",
    "         {\"Name\": \"ICML\", \"Date\": 2015, \"Location\": \"Lille\", \"acc_papers\": 250},\n",
    "         {\"Name\": \"AISTATS\", \"Date\": 2016, \"Location\": \"Cadiz\", \"acc_papers\": 100}]"
   ]
  },
  {
   "cell_type": "code",
   "execution_count": 53,
   "metadata": {},
   "outputs": [
    {
     "name": "stdout",
     "output_type": "stream",
     "text": [
      "[{'Name': 'NIPS', 'Date': 2016, 'Location': 'Barcelona', 'acc_papers': 300, 'registrations': 600}, {'Name': 'ICML', 'Date': 2016, 'Location': 'New York City', 'acc_papers': 450, 'registrations': 900}, {'Name': 'ICML', 'Date': 2015, 'Location': 'Lille', 'acc_papers': 250, 'registrations': 500}, {'Name': 'AISTATS', 'Date': 2016, 'Location': 'Cadiz', 'acc_papers': 100, 'registrations': 200}]\n"
     ]
    }
   ],
   "source": [
    "# Answer\n",
    "for dict in confs:\n",
    "    dict['registrations'] = 2*dict['acc_papers']\n",
    "\n",
    "print(confs)"
   ]
  },
  {
   "cell_type": "markdown",
   "metadata": {},
   "source": [
    "## Exercise 4 <a id=\"part5sec4\"></a>\n",
    "Write a function `append`, that produces the following results:\n",
    "\n",
    "    l = [1]\n",
    "    append(l, 5)\n",
    "    print(l)\n",
    "    [1, 5]\n",
    "    append(l, \"-1\")\n",
    "    print(l)\n",
    "    [1, 5, '-1']\n",
    "    append(l)\n",
    "    print(l)\n",
    "    []\n"
   ]
  },
  {
   "cell_type": "code",
   "execution_count": 64,
   "metadata": {},
   "outputs": [
    {
     "name": "stdout",
     "output_type": "stream",
     "text": [
      "[1, 5]\n",
      "[1, 5, '-1']\n",
      "[]\n"
     ]
    },
    {
     "data": {
      "text/plain": [
       "\" [1, 5], [1, 5, '-1'], [] \""
      ]
     },
     "execution_count": 64,
     "metadata": {},
     "output_type": "execute_result"
    }
   ],
   "source": [
    "def append(l, arg = None):\n",
    "    if arg == None:\n",
    "        l.clear()\n",
    "        #l[:]=[]\n",
    "    else:\n",
    "        l.append(arg)\n",
    "\n",
    "l = [1]\n",
    "append(l, 5)\n",
    "print(l)\n",
    "\n",
    "\n",
    "append(l, \"-1\")\n",
    "print(l)\n",
    "\n",
    "\n",
    "append(l)\n",
    "print(l)\n",
    "\n",
    "''' [1, 5], [1, 5, '-1'], [] '''"
   ]
  },
  {
   "cell_type": "markdown",
   "metadata": {},
   "source": [
    "## Exercise 5 <a id=\"part5sec5\"></a>\n",
    "With the code editor, create a module, that contains two functions:\n",
    "- fibonacci(n): computes the $n^{th}$ [Fibonacci number](https://en.wikipedia.org/wiki/Fibonacci_number);\n",
    "- wallis(n): computes an approximation of $\\pi$ using the [Wallis product](https://en.wikipedia.org/wiki/Wallis_product).\n",
    "\n",
    "Write a script, that uses these two functions."
   ]
  },
  {
   "cell_type": "code",
   "execution_count": 9,
   "metadata": {},
   "outputs": [
    {
     "name": "stdout",
     "output_type": "stream",
     "text": [
      "[0, 1, 1]\n"
     ]
    },
    {
     "name": "stdout",
     "output_type": "stream",
     "text": [
      "3.141591868192149\n"
     ]
    }
   ],
   "source": [
    "# Answer\n",
    "import os\n",
    "import sys\n",
    "\n",
    "sys.path.append(os.getcwd())\n",
    "\n",
    "from fibonacci_wallis import fibonacci, wallis\n",
    "\n",
    "print(fibonacci(3))\n",
    "\n",
    "print(wallis(1000000))\n"
   ]
  },
  {
   "cell_type": "markdown",
   "metadata": {},
   "source": [
    "# References <a id=\"part6\"></a>\n",
    "- [JupyterLab documentation](https://jupyterlab.readthedocs.io/en/latest/index.html).\n",
    "- [Official documentation](https://docs.python.org/3/tutorial/index.html).\n",
    "- [Scipy lecture notes](http://www.scipy-lectures.org/index.html).\n",
    "- [Allen Downey's book](http://www.greenteapress.com/thinkpython/thinkpython.pdf)."
   ]
  }
 ],
 "metadata": {
  "kernelspec": {
   "display_name": "Python 3 (ipykernel)",
   "language": "python",
   "name": "python3"
  },
  "language_info": {
   "codemirror_mode": {
    "name": "ipython",
    "version": 3
   },
   "file_extension": ".py",
   "mimetype": "text/x-python",
   "name": "python",
   "nbconvert_exporter": "python",
   "pygments_lexer": "ipython3",
   "version": "3.10.12"
  }
 },
 "nbformat": 4,
 "nbformat_minor": 4
}
